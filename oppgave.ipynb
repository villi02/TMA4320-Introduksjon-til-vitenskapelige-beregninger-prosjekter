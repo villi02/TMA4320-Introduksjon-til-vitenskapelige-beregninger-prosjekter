{
 "cells": [
  {
   "cell_type": "markdown",
   "metadata": {},
   "source": [
    "oppgave 1 a)"
   ]
  },
  {
   "cell_type": "code",
   "execution_count": null,
   "metadata": {},
   "outputs": [],
   "source": [
    "def helloworld():\n",
    "    print(\"hello world\")\n",
    "    "
   ]
  }
 ],
 "metadata": {
  "language_info": {
   "name": "python"
  }
 },
 "nbformat": 4,
 "nbformat_minor": 2
}
