{
 "cells": [
  {
   "cell_type": "code",
   "execution_count": 5,
   "metadata": {},
   "outputs": [],
   "source": [
    "import numpy as np\n",
    "import matplotlib.pyplot as plt\n",
    "import matplotlib.colors"
   ]
  },
  {
   "cell_type": "markdown",
   "metadata": {},
   "source": [
    "## Oppgave 1\n"
   ]
  },
  {
   "cell_type": "markdown",
   "metadata": {},
   "source": [
    "#### 1 a)"
   ]
  },
  {
   "cell_type": "markdown",
   "metadata": {},
   "source": []
  },
  {
   "cell_type": "markdown",
   "metadata": {},
   "source": [
    "#### 1 b)"
   ]
  },
  {
   "cell_type": "code",
   "execution_count": 40,
   "metadata": {},
   "outputs": [],
   "source": [
    "def polymer(N: int) -> list[int]:\n",
    "    \"\"\"\n",
    "    Function that returns a list of integers representing the polymer with each element being a touple with the x and y coordinates of the monomer\n",
    "    :param N: int\n",
    "    :return: list[int]\n",
    "    \"\"\"\n",
    "    return [(0, i) for i in range(-N//2, N//2)]"
   ]
  },
  {
   "cell_type": "markdown",
   "metadata": {},
   "source": [
    "#### 1 c)"
   ]
  },
  {
   "cell_type": "markdown",
   "metadata": {},
   "source": []
  },
  {
   "cell_type": "markdown",
   "metadata": {},
   "source": [
    "#### 1 d)"
   ]
  },
  {
   "cell_type": "code",
   "execution_count": 7,
   "metadata": {},
   "outputs": [],
   "source": [
    "# Method to display the polymer\n",
    "def display_polymer(polymer_list: list[int]) -> None:\n",
    "    \"\"\"\n",
    "    Function that displays the polymer in a grid\n",
    "    :param polymer_list: list[int]\n",
    "    :return: None\n",
    "    \"\"\"\n",
    "    # Adjust grid boundaries to include all monomers\n",
    "    grid_size = 2 * len(polymer_list) + 1\n",
    "    offset = len(polymer_list)\n",
    "    x = np.linspace(-offset, offset, grid_size)\n",
    "    X, Y = np.meshgrid(x, x)\n",
    "    \n",
    "    Z = np.zeros(X.shape)\n",
    "\n",
    "    # Calculate intensity values for each monomer (stronger towards the end)\n",
    "    for i, (x, y) in enumerate(polymer_list):\n",
    "        intensity = i / (len(polymer_list) - 1) + 0.05\n",
    "        Z[x + offset, y + offset] = intensity\n",
    "\n",
    "    # Define a purple colormap\n",
    "    cmap = matplotlib.colors.LinearSegmentedColormap.from_list(\"\", [\"white\", \"purple\"])\n",
    "\n",
    "    plt.pcolormesh(X, Y, Z, cmap=cmap)\n",
    "    plt.show()"
   ]
  },
  {
   "cell_type": "code",
   "execution_count": 41,
   "metadata": {},
   "outputs": [
    {
     "data": {
      "image/png": "[encoded data removed]",
      "text/plain": [
       "<Figure size 640x480 with 1 Axes>"
      ]
     },
     "metadata": {},
     "output_type": "display_data"
    }
   ],
   "source": [
    "# Test the new Polymer function and display function\n",
    "polymer_list = polymer(10)\n",
    "\n",
    "display_polymer(polymer_list)\n"
   ]
  },
  {
   "cell_type": "code",
   "execution_count": 10,
   "metadata": {},
   "outputs": [
    {
     "data": {
      "text/plain": [
       "10"
      ]
     },
     "execution_count": 10,
     "metadata": {},
     "output_type": "execute_result"
    }
   ],
   "source": [
    "#### 1 f)"
   ]
  },
  {
   "cell_type": "code",
   "execution_count": 52,
   "metadata": {},
   "outputs": [],
   "source": [
    "def is_intact_polymer(polymer_object: list[int], N: int) -> bool:\n",
    "    \"\"\"\n",
    "    Function that checks if the polymer is intact\n",
    "    :param polymer_object: list[int]\n",
    "    :param N: int\n",
    "    :return: bool\n",
    "    \"\"\"\n",
    "\n",
    "    # Check if the polymer is the right length\n",
    "    if len(polymer_object) != N:\n",
    "        return False\n",
    "\n",
    "    # Go through each monomer and check if it has a neighbor\n",
    "    for i in range(N):\n",
    "        # Hvis det ikke er den første monomeren, sjekk forrige nabo\n",
    "        if i > 0 and not (abs(polymer_object[i][0] - polymer_object[i-1][0]) == 1 and polymer_object[i][1] == polymer_object[i-1][1]) and not (polymer_object[i][0] == polymer_object[i-1][0] and abs(polymer_object[i][1] - polymer_object[i-1][1]) == 1):\n",
    "            return False\n",
    "        \n",
    "        # If it is not the last monomer, check next neighbor\n",
    "        if i < N - 1 and not (abs(polymer_object[i][0] - polymer_object[i+1][0]) == 1 and polymer_object[i][1] == polymer_object[i+1][1]) and not (polymer_object[i][0] == polymer_object[i+1][0] and abs(polymer_object[i][1] - polymer_object[i+1][1]) == 1):\n",
    "            return False\n",
    "    return True"
   ]
  },
  {
   "cell_type": "markdown",
   "metadata": {},
   "source": [
    "## Oppgave 2"
   ]
  },
  {
   "cell_type": "markdown",
   "metadata": {},
   "source": []
  }
 ],
 "metadata": {
  "kernelspec": {
   "display_name": "base",
   "language": "python",
   "name": "python3"
  },
  "language_info": {
   "codemirror_mode": {
    "name": "ipython",
    "version": 3
   },
   "file_extension": ".py",
   "mimetype": "text/x-python",
   "name": "python",
   "nbconvert_exporter": "python",
   "pygments_lexer": "ipython3",
   "version": "3.11.5"
  }
 },
 "nbformat": 4,
 "nbformat_minor": 2
}
