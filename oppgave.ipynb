{
 "cells": [
  {
   "cell_type": "code",
   "execution_count": 4,
   "metadata": {},
   "outputs": [],
   "source": [
    "import numpy as np\n",
    "import matplotlib.pyplot as plt\n"
   ]
  },
  {
   "cell_type": "markdown",
   "metadata": {},
   "source": [
    "## Oppgave 1\n"
   ]
  },
  {
   "cell_type": "markdown",
   "metadata": {},
   "source": [
    "#### 1 a)"
   ]
  },
  {
   "cell_type": "markdown",
   "metadata": {},
   "source": []
  },
  {
   "cell_type": "markdown",
   "metadata": {},
   "source": [
    "#### 1 b)"
   ]
  },
  {
   "cell_type": "code",
   "execution_count": 5,
   "metadata": {},
   "outputs": [],
   "source": [
    "def polymer(N) -> list[int]:\n",
    "    \"\"\"\n",
    "    Function that returns a list of integers representing the polymer with each element being a touple with the x and y coordinates of the monomer\n",
    "    :param N: int\n",
    "    :return: list[int]\n",
    "    \"\"\"\n",
    "    if N == 0:\n",
    "        return []\n",
    "    elif N == 1:\n",
    "        return [(0, 0)]\n",
    "    else:\n",
    "        polymer_list = [(0, 0), (1, 0)]\n",
    "        for i in range(2, N):\n",
    "            if i % 2 == 0:\n",
    "                polymer_list.append((polymer_list[i - 1][0] + 1, polymer_list[i - 1][1]))\n",
    "            else:\n",
    "                polymer_list.append((polymer_list[i - 1][0], polymer_list[i - 1][1] + 1))\n",
    "        return polymer_list"
   ]
  },
  {
   "cell_type": "markdown",
   "metadata": {},
   "source": [
    "#### 1 d)"
   ]
  },
  {
   "cell_type": "code",
   "execution_count": 6,
   "metadata": {},
   "outputs": [],
   "source": [
    "# Method to display the polymer\n",
    "def display_polymer(polymer_list: list[int]) -> None:\n",
    "    \"\"\"\n",
    "    Function that displays the polymer in a grid\n",
    "    :param polymer_list: list[int]\n",
    "    :return: None\n",
    "    \"\"\"\n",
    "    # make grid of size 2N+1 with linspace and meshgrid\n",
    "    x = np.linspace(-len(polymer_list), len(polymer_list), 2 * len(polymer_list) + 1)\n",
    "    X, Y = np.meshgrid(x, x)\n",
    "    # make grid of zeros\n",
    "    Z = np.zeros(X.shape)\n",
    "    # fill in grid with ones where the polymer is\n",
    "    for i in range(len(polymer_list)):\n",
    "        Z[polymer_list[i][0] + len(polymer_list), polymer_list[i][1] + len(polymer_list)] = 1\n",
    "    # plot the grid\n",
    "    plt.pcolormesh(X, Y, Z, cmap='Greys')\n",
    "    plt.show()\n",
    "\n",
    "    \n",
    "        "
   ]
  },
  {
   "cell_type": "code",
   "execution_count": 7,
   "metadata": {},
   "outputs": [
    {
     "data": {
      "image/png": "[encoded data removed]",
      "text/plain": [
       "<Figure size 640x480 with 1 Axes>"
      ]
     },
     "metadata": {},
     "output_type": "display_data"
    }
   ],
   "source": [
    "# Test the new Polymer function and display function\n",
    "polymer_list = polymer(10)\n",
    "\n",
    "display_polymer(polymer_list)\n"
   ]
  }
 ],
 "metadata": {
  "kernelspec": {
   "display_name": "base",
   "language": "python",
   "name": "python3"
  },
  "language_info": {
   "codemirror_mode": {
    "name": "ipython",
    "version": 3
   },
   "file_extension": ".py",
   "mimetype": "text/x-python",
   "name": "python",
   "nbconvert_exporter": "python",
   "pygments_lexer": "ipython3",
   "version": "3.10.10"
  }
 },
 "nbformat": 4,
 "nbformat_minor": 2
}
