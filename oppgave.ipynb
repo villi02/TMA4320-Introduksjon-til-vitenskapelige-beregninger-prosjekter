{
 "cells": [
  {
   "cell_type": "code",
   "execution_count": 1,
   "metadata": {},
   "outputs": [],
   "source": [
    "import numpy as np\n",
    "import matplotlib.pyplot as plt\n",
    "import matplotlib.colors"
   ]
  },
  {
   "cell_type": "markdown",
   "metadata": {},
   "source": [
    "## Oppgave 1\n"
   ]
  },
  {
   "cell_type": "markdown",
   "metadata": {},
   "source": [
    "#### 1 a)"
   ]
  },
  {
   "cell_type": "markdown",
   "metadata": {},
   "source": [
    "For å representere en polymer av en gitt lengde numerisk er det mulig å lagre hele gitteret, inkludert alle null-elementene, som en matrise, hvor sidelengdene er større enn polymeret. Dette er derimot ikke hensiktsmessig ettersom majoriteten av informasjonen lagret er overflødig. For å forenkle dette kan istedet kun selve posisjonen av hver monomer lagres. Polymeren representeres i et 2D kartesisk kordinatsystem, og dermed kan hver monomer posisjon beskrives av en tuppel med kordinatene x og y. Slik kan hele polymeren være representert av en N x 2 matrise.   "
   ]
  },
  {
   "cell_type": "markdown",
   "metadata": {},
   "source": [
    "#### 1 b)"
   ]
  },
  {
   "cell_type": "code",
   "execution_count": 2,
   "metadata": {},
   "outputs": [],
   "source": [
    "def create_polymer(N: int) -> np.ndarray:\n",
    "    \"\"\"\n",
    "    Function that returns a list of integers representing the polymer with each element being a touple with the x and y coordinates of the monomer\n",
    "    :param N: int\n",
    "    :return: list[int]\n",
    "    \"\"\"\n",
    "    return np.array([(i, 0) for i in range(-N//2, N//2)])"
   ]
  },
  {
   "cell_type": "markdown",
   "metadata": {},
   "source": [
    "#### 1 c)"
   ]
  },
  {
   "cell_type": "markdown",
   "metadata": {},
   "source": [
    "Energien til en gitt polymer er avhengig av antall monomerer som vekselsvirker med hverandre. Reglene for denne vekselvirkningen er oppgitt i seksjon 2 av prosjektheftet. I algoritme 1 og 2, som begge er Monte Carlo-metoder, velges tilfeldig en monomer som roteres om. Ettersom rotasjon i endemonomerene ikke endrer formen av polymeret, men heller kun roterer hele polymeret, vil det heller ikke oppstå noen endring av energien i polymeret. Dermed er det ikke hensiktsmessig å inkludere endemonomerene i utvalget den tilfeldige monomeren trekkes fra. "
   ]
  },
  {
   "cell_type": "markdown",
   "metadata": {},
   "source": [
    "#### 1 d)"
   ]
  },
  {
   "cell_type": "code",
   "execution_count": 3,
   "metadata": {},
   "outputs": [],
   "source": [
    "def display_polymer(polymer_list: list[int]) -> None:\n",
    "    \"\"\"\n",
    "    Function that displays the polymer on a black background,\n",
    "    with a color gradient going from white at the beginning to purple at the end of the polymer.\n",
    "    :param polymer_list: list[int]\n",
    "    :return: None\n",
    "    \"\"\"\n",
    "    # Determine the maximum absolute values of x and y to ensure a square grid\n",
    "    max_x = max(abs(x) for _, x in polymer_list)\n",
    "    max_y = max(abs(y) for y, _ in polymer_list)\n",
    "    max_extent = max(max_x, max_y)\n",
    "\n",
    "    # Define square grid size based on the maximum extent\n",
    "    grid_size = 2 * max_extent + 1\n",
    "\n",
    "    X, Y = np.meshgrid(range(-max_extent, max_extent + 1), range(-max_extent, max_extent + 1))\n",
    "    Z = np.zeros(X.shape)  # Background initialized to 0 (black)\n",
    "\n",
    "    # Map intensity values for the polymer: 0 (background) remains black,\n",
    "    # Intensity for polymer starts from a small positive value towards 1\n",
    "    for i, (y, x) in enumerate(polymer_list):\n",
    "        # Map intensity from a range that starts slightly above 0 to ensure visibility against black\n",
    "        intensity = (i / (len(polymer_list) - 1)) * 0.99 + 0.01  # Avoids pure black for the first monomer\n",
    "        adjusted_x = x + max_extent\n",
    "        adjusted_y = y + max_extent\n",
    "        Z[adjusted_y, adjusted_x] = intensity\n",
    "\n",
    "    # Define a colormap: starts with black (for 0 intensity), transitions from white to purple\n",
    "    cmap = matplotlib.colors.LinearSegmentedColormap.from_list(\"\", [\"black\", \"white\", \"purple\"])\n",
    "\n",
    "    plt.figure(figsize=(6,6))  # Adjust figure size as needed\n",
    "    plt.pcolormesh(X, Y, Z, cmap=cmap, shading='auto')  # 'auto' shading for smooth transition\n",
    "    plt.gca().set_aspect('equal', adjustable='box')\n",
    "    plt.axis('off')  # Optional: Hide axes for a cleaner visualization\n",
    "    plt.show()\n"
   ]
  },
  {
   "cell_type": "markdown",
   "metadata": {},
   "source": [
    "#### 1 e)"
   ]
  },
  {
   "cell_type": "markdown",
   "metadata": {},
   "source": [
    "We added our own criteria, we make it a requirement that no monomer can share coordinates with another, thus it cannot be on top of itself"
   ]
  },
  {
   "cell_type": "code",
   "execution_count": 4,
   "metadata": {},
   "outputs": [],
   "source": [
    "def is_intact_polymer_np(polymer_object: np.ndarray, N: int) -> bool:\n",
    "    \"\"\"\n",
    "    Function that checks if the polymer is intact for a NumPy array implementation.\n",
    "    :param polymer_object: NumPy array of shape (N, 2), representing N monomers' coordinates.\n",
    "    :param N: int, the expected length of the polymer.\n",
    "    :return: bool, True if the polymer is intact, False otherwise.\n",
    "    \"\"\"\n",
    "    # Check if the polymer is the right length\n",
    "    if polymer_object.shape[0] != N:\n",
    "        return False\n",
    "\n",
    "    # Ensure all monomer positions are unique\n",
    "    if np.unique(polymer_object, axis=0).shape[0] != N:\n",
    "        return False\n",
    "\n",
    "    # Calculate the differences between consecutive monomers\n",
    "    diffs = np.diff(polymer_object, axis=0)\n",
    "    \n",
    "    # Check for horizontal or vertical adjacency between consecutive monomers\n",
    "    valid_horizontal = (np.abs(diffs[:, 0]) == 1) & (diffs[:, 1] == 0)\n",
    "    valid_vertical = (np.abs(diffs[:, 1]) == 1) & (diffs[:, 0] == 0)\n",
    "    \n",
    "    if not np.all(valid_horizontal | valid_vertical):\n",
    "        return False\n",
    "\n",
    "    return True"
   ]
  },
  {
   "cell_type": "markdown",
   "metadata": {},
   "source": [
    "#### 1f)"
   ]
  },
  {
   "cell_type": "code",
   "execution_count": 5,
   "metadata": {},
   "outputs": [],
   "source": [
    "def rotate_polymer_np(polymer: np.ndarray, center: tuple[int, int], counter_clockwise: bool = True) -> np.ndarray:\n",
    "    \"\"\"\n",
    "    Optimized function to rotate the shortest end of the polymer 90 degrees around a specified monomer (center) using NumPy.\n",
    "    If the center is in the middle, the front half is rotated.\n",
    "    \n",
    "    :param polymer: NumPy array of shape (N, 2), representing N monomers.\n",
    "    :param center: Center point for rotation, as a tuple of (x, y), must be a monomer in the polymer.\n",
    "    :param counter_clockwise: True for counter-clockwise rotation, False for clockwise.\n",
    "    :return: NumPy array representing the rotated polymer.\n",
    "    \"\"\"\n",
    "    # Find the index of the center monomer\n",
    "    center_index = np.where((polymer == center).all(axis=1))[0][0]\n",
    "    \n",
    "    # Determine the rotation matrix\n",
    "    rotation_matrix = np.array([[0, -1], [1, 0]]) if not counter_clockwise else np.array([[0, 1], [-1, 0]])\n",
    "\n",
    "    # Determine which half to rotate\n",
    "    if center_index <= len(polymer) // 2:\n",
    "        # Rotate the first half\n",
    "        segment_to_rotate = polymer[:center_index + 1]\n",
    "        remaining_segment = polymer[center_index + 1:]\n",
    "        translated_segment = segment_to_rotate - center\n",
    "        rotated_translated_segment = np.dot(translated_segment, rotation_matrix) + center\n",
    "        return np.vstack((rotated_translated_segment, remaining_segment))\n",
    "    else:\n",
    "        # Rotate the second half\n",
    "        segment_to_rotate = polymer[center_index:]\n",
    "        remaining_segment = polymer[:center_index]\n",
    "        translated_segment = segment_to_rotate - center\n",
    "        rotated_translated_segment = np.dot(translated_segment, rotation_matrix) + center\n",
    "        return np.vstack((remaining_segment, rotated_translated_segment))\n"
   ]
  },
  {
   "cell_type": "markdown",
   "metadata": {},
   "source": [
    "#### 1g)"
   ]
  },
  {
   "cell_type": "code",
   "execution_count": 6,
   "metadata": {},
   "outputs": [],
   "source": [
    "def algorithm1_optimized(N: int, Ns: int) -> tuple[np.ndarray, int]:\n",
    "    \"\"\"\n",
    "    Numpy optimized algorithm to generate a polymer of length N and rotate it Ns times.\n",
    "    :param N: int, the length of the polymer.\n",
    "    :param Ns: int, the number of steps to take.\n",
    "    :return: tuple, (polymer, number of steps taken).\n",
    "    \"\"\"\n",
    "    counter = 0\n",
    "    polymer_obj = create_polymer(N)\n",
    "\n",
    "    for _ in range(Ns):\n",
    "        random_index = np.random.randint(0, N)\n",
    "        random_monomer = polymer_obj[random_index]\n",
    "        counter_clockwise = np.random.choice([True, False])\n",
    "        rotated_polymer = rotate_polymer_np(polymer_obj, random_monomer, counter_clockwise)\n",
    "        \n",
    "        if is_intact_polymer_np(rotated_polymer, N):\n",
    "            counter += 1\n",
    "            polymer_obj = rotated_polymer\n",
    "        else:\n",
    "            pass\n",
    "    return polymer_obj, counter"
   ]
  },
  {
   "cell_type": "code",
   "execution_count": 7,
   "metadata": {},
   "outputs": [
    {
     "data": {
      "image/png": "[encoded data removed]",
      "text/plain": [
       "<Figure size 432x432 with 1 Axes>"
      ]
     },
     "metadata": {
      "needs_background": "light"
     },
     "output_type": "display_data"
    }
   ],
   "source": [
    "tester_, count = algorithm1_optimized(100, 15)\n",
    "display_polymer(tester_)"
   ]
  },
  {
   "cell_type": "markdown",
   "metadata": {},
   "source": [
    "#### 1h)"
   ]
  },
  {
   "cell_type": "code",
   "execution_count": 8,
   "metadata": {},
   "outputs": [],
   "source": [
    "# implementasjon med numpy array\n",
    "\n",
    "def polymer_array(N: int) -> list[int]:\n",
    "   \"\"\"\n",
    "    Function that returns a list of integers representing the polymer with each element being a touple with the x and y coordinates of the monomer\n",
    "    :param N: int\n",
    "    :return: list[int]\n",
    "    \"\"\"\n",
    "   return [(i, 0) for i in range(-N//2, N//2)]\n",
    "\n",
    "def is_intact_polymer_array(polymer_object: list[int], N: int) -> bool:\n",
    "    \"\"\"\n",
    "    Function that checks if the polymer is intact\n",
    "    :param polymer_object: list[int]\n",
    "    :param N: int\n",
    "    :return: bool\n",
    "    \"\"\"\n",
    "\n",
    "    # convert from numpy array to list\n",
    "    polymer_object = list(polymer_object)\n",
    "\n",
    "    # Check if the polymer is the right length\n",
    "    if len(polymer_object) != N:\n",
    "        return False\n",
    "\n",
    "    # Go through each monomer and check if it has a neighbor\n",
    "    for i in range(N):\n",
    "        # Hvis det ikke er den første monomeren, sjekk forrige nabo\n",
    "        if i > 0 and not (abs(polymer_object[i][0] - polymer_object[i-1][0]) == 1 and polymer_object[i][1] == polymer_object[i-1][1]) and not (polymer_object[i][0] == polymer_object[i-1][0] and abs(polymer_object[i][1] - polymer_object[i-1][1]) == 1):\n",
    "            return False\n",
    "        \n",
    "        # If it is not the last monomer, check next neighbor\n",
    "        if i < N - 1 and not (abs(polymer_object[i][0] - polymer_object[i+1][0]) == 1 and polymer_object[i][1] == polymer_object[i+1][1]) and not (polymer_object[i][0] == polymer_object[i+1][0] and abs(polymer_object[i][1] - polymer_object[i+1][1]) == 1):\n",
    "            return False\n",
    "        \n",
    "        # Check if the monomer is on top of another monomer\\n\",\n",
    "        if polymer_object.count(polymer_object[i]) > 1:\n",
    "            return False\n",
    "    return True\n",
    "\n",
    "def rotate_polymer_array(polymer_object: list[int], xy_val: tuple[int, int], counter_clockwise: bool) -> list[int]:\n",
    "    \"\"\"\n",
    "    Function that rotates the smaller half of the polymer around a point with 90 degrees\n",
    "    :param polymer_object: list[int]\n",
    "    :param xy_val: tuple[int, int]\n",
    "    :param counter_clockwise: bool\n",
    "    :return: list[int]\n",
    "    \"\"\"\n",
    "    rotated_polymer = []\n",
    "    rotation_index = polymer_object.index(xy_val)\n",
    "\n",
    "    # Determine which half to rotate (smaller half or front half if in the middle)\n",
    "    if rotation_index <= len(polymer_object) // 2:\n",
    "        # Rotate the front half\n",
    "        polymer_to_rotate = polymer_object[:rotation_index + 1]\n",
    "        polymer_remaining = polymer_object[rotation_index + 1:]\n",
    "    else:\n",
    "        # Rotate the back half\n",
    "        polymer_to_rotate = polymer_object[rotation_index:]\n",
    "        polymer_remaining = polymer_object[:rotation_index]\n",
    "\n",
    "    # Apply rotation to the chosen half\n",
    "    for x, y in polymer_to_rotate:\n",
    "        dx, dy = x - xy_val[0], y - xy_val[1]\n",
    "        if counter_clockwise:\n",
    "            new_x, new_y = xy_val[0] - dy, xy_val[1] + dx\n",
    "        else:\n",
    "            new_x, new_y = xy_val[0] + dy, xy_val[1] - dx\n",
    "        rotated_polymer.append((new_x, new_y))\n",
    "\n",
    "    # Combine the rotated half with the unrotated half\n",
    "    if rotation_index <= len(polymer_object) // 2:\n",
    "        rotated_polymer.extend(polymer_remaining)\n",
    "    else:\n",
    "        rotated_polymer = polymer_remaining + rotated_polymer\n",
    "\n",
    "    return rotated_polymer\n",
    "\n",
    "def algorithm1_array(N: int, Ns: int) -> (list[int], int):\n",
    "    counter = 0\n",
    "    polymer_object = polymer_array(N)\n",
    "\n",
    "    for _ in range(Ns):\n",
    "        # Choose a random monomer\n",
    "        random_monomer_index = np.random.randint(0, N)\n",
    "        random_monomer = polymer_object[random_monomer_index]\n",
    "\n",
    "        # Randomly choose rotation direction\n",
    "        rotate_clockwise = np.random.choice([True, False])\n",
    "\n",
    "        # Rotate the polymer\n",
    "        rotated_polymer = rotate_polymer_array(polymer_object, random_monomer, not rotate_clockwise)\n",
    "\n",
    "        # Check if the rotated polymer is intact\n",
    "        if is_intact_polymer_array(rotated_polymer, N):\n",
    "            counter += 1\n",
    "            polymer_object = rotated_polymer\n",
    "\n",
    "    return polymer_object, counter"
   ]
  },
  {
   "cell_type": "code",
   "execution_count": 9,
   "metadata": {},
   "outputs": [
    {
     "name": "stdout",
     "output_type": "stream",
     "text": [
      "185 ms ± 4.64 ms per loop (mean ± std. dev. of 7 runs, 10 loops each)\n",
      "84.2 ms ± 210 µs per loop (mean ± std. dev. of 7 runs, 10 loops each)\n"
     ]
    }
   ],
   "source": [
    "# check for optimization\n",
    "\n",
    "# time the algorithm using timeit\n",
    "\n",
    "%timeit algorithm1_array(100, 1000)\n",
    "%timeit algorithm1_optimized(100, 1000)"
   ]
  },
  {
   "cell_type": "markdown",
   "metadata": {},
   "source": [
    "Her ser vi at å bruke Numpy arrays og optimalisere rundt linæralgebra for rotasjon gir en betydelig ytelseøkning ovenfor Python array."
   ]
  },
  {
   "cell_type": "code",
   "execution_count": 10,
   "metadata": {},
   "outputs": [
    {
     "data": {
      "image/png": "[encoded data removed]",
      "text/plain": [
       "<Figure size 432x432 with 1 Axes>"
      ]
     },
     "metadata": {
      "needs_background": "light"
     },
     "output_type": "display_data"
    }
   ],
   "source": [
    "poly_obj, _ = algorithm1_array(150, 1000)\n",
    "display_polymer(poly_obj)"
   ]
  },
  {
   "cell_type": "markdown",
   "metadata": {},
   "source": [
    "#### 1j)"
   ]
  },
  {
   "cell_type": "code",
   "execution_count": 11,
   "metadata": {},
   "outputs": [
    {
     "data": {
      "image/png": "[encoded data removed]",
      "text/plain": [
       "<Figure size 432x288 with 1 Axes>"
      ]
     },
     "metadata": {
      "needs_background": "light"
     },
     "output_type": "display_data"
    }
   ],
   "source": [
    "def plot_prosent(N: int, N_s: int) -> None:\n",
    "    \"\"\"\n",
    "    plots the percentage of rotations based on attempted rotations\n",
    "    \"\"\"\n",
    "    x_arr = []\n",
    "    y_arr = []\n",
    "    for i in range(1, N_s):\n",
    "        _, count = algorithm1_array(N, i)\n",
    "        x_arr.append(i)\n",
    "        y_arr.append(N_s*10/(count))\n",
    "    plt.plot(x_arr,y_arr, label = \"Graph\")\n",
    "    plt.title(f\"Percentage of allowed rotation on a polymer of size {N} with {N_s} attempted rotations\")\n",
    "    plt.ylabel(\"Percent %\", fontsize = 14)\n",
    "    plt.xlabel(\"Attempted rotations\", fontsize = 14)\n",
    "    plt.legend()\n",
    "    plt.show()\n",
    "plot_prosent(1500,10)\n",
    "\n"
   ]
  },
  {
   "cell_type": "code",
   "execution_count": 12,
   "metadata": {},
   "outputs": [],
   "source": [
    "\n",
    "def create_V_matrix(N: int, value: float) -> list[int]:\n",
    "    \"\"\"\n",
    "    Function creates N x N matrix with 0 across, over and under the diagonal\n",
    "    :param N: int\n",
    "    \"\"\"\n",
    "    # Create an N x N matrix with 0\n",
    "    matrix = 0 * np.ones((N, N), dtype=int) \n",
    "\n",
    "    #sets upper triangle in V matrix to -1\n",
    "    matrix[np.triu_indices(N, k=2)] = value  \n",
    "\n",
    "    #sets lower triangle in V matrix to -1\n",
    "    matrix[np.tril_indices(N, k=-2)] = value  \n",
    "\n",
    "    return matrix\n",
    "\n",
    "\n",
    "# def Energy(V_matrix: list[int], polymer: list[int]) -> int:\n",
    "    \n",
    "#     for i in list:\n",
    "#         if ((i+[1,0] in list) or (i+[-1,0] in list) or (i+[0,1] in list) or (i[0,-1] in list)) and not list.index(i) = 1+"
   ]
  },
  {
   "cell_type": "code",
   "execution_count": 13,
   "metadata": {},
   "outputs": [],
   "source": [
    "def calculate_polymer_energy(polymer, V):\n",
    "    \"\"\"\n",
    "    Beregner energien til en polymer basert på en liste av monomerposisjoner og en vekselvirkningsmatrise V.\n",
    "\n",
    "    :param polymer: List av tuples som representerer posisjonene til monomerene i polymeren.\n",
    "    :param V: Numpy matrise som representerer styrken av vekselvirkningene mellom monomerene.\n",
    "    :return: Energien til polymeren.\n",
    "    \"\"\"\n",
    "    N = len(polymer)  # Antall monomerer i polymeren\n",
    "    E = 0  # Initialiserer energien\n",
    "\n",
    "    # Gå gjennom alle par av monomerer for å beregne energibidraget\n",
    "    for m in range(N):\n",
    "        for n in range(N):\n",
    "            if n != m and n != m+1 and n != m-1:  # Sjekker at n er en gyldig nabo\n",
    "                if is_nearest_neighbor(polymer[m], polymer[n]):\n",
    "                    E += V[m, n]\n",
    "\n",
    "    # Normaliser energien siden alle vekselvirkninger telles to ganger\n",
    "    E = E / 2\n",
    "    return E\n",
    "\n",
    "def is_nearest_neighbor(monomer1, monomer2):\n",
    "    \"\"\"\n",
    "    Sjekker om to monomerer er nærmeste naboer i et kvadratisk gitter.\n",
    "\n",
    "    :param monomer1: Tuple som representerer posisjonen til det første monomeret.\n",
    "    :param monomer2: Tuple som representerer posisjonen til det andre monomeret.\n",
    "    :return: True hvis de er nærmeste naboer, ellers False.\n",
    "    \"\"\"\n",
    "    # Beregner avstanden mellom monomerene\n",
    "    dx = abs(monomer1[0] - monomer2[0])\n",
    "    dy = abs(monomer1[1] - monomer2[1])\n",
    "\n",
    "    # Sjekker om avstanden tilsvarer nærmeste naboer\n",
    "    return (dx == 1 and dy == 0) or (dx == 0 and dy == 1)"
   ]
  },
  {
   "cell_type": "code",
   "execution_count": 14,
   "metadata": {},
   "outputs": [
    {
     "name": "stdout",
     "output_type": "stream",
     "text": [
      "0.0\n",
      "-2.0\n"
     ]
    }
   ],
   "source": [
    "# testing energy\n",
    "\n",
    "polymer_test, _ = algorithm1_array(15, 4)\n",
    "V = create_V_matrix(15, -1)\n",
    "print(calculate_polymer_energy(polymer_test, V))\n",
    "\n",
    "# testing energy\n",
    "polymer_test, _ = algorithm1_array(15, 1000)\n",
    "V = create_V_matrix(15, -1)\n",
    "print(calculate_polymer_energy(polymer_test, V))"
   ]
  },
  {
   "cell_type": "markdown",
   "metadata": {},
   "source": [
    "## Oppgave 2: Monte Carlo-simuleringer"
   ]
  },
  {
   "cell_type": "markdown",
   "metadata": {},
   "source": [
    "#### 2 a)"
   ]
  },
  {
   "cell_type": "code",
   "execution_count": 15,
   "metadata": {},
   "outputs": [],
   "source": [
    "\n",
    "def monte_carlo_sim(polymer: list[int], Ns: int, V: list[int], T: int) -> (list[int], list[int]):\n",
    "    E_array = np.zeros(Ns, dtype=float)\n",
    "    #polymer1 = [tuple(row) for row in polymer]\n",
    "\n",
    "    E = calculate_polymer_energy(polymer, V)\n",
    "    print(E)\n",
    "    i = 1\n",
    "    \n",
    "    while i < Ns:\n",
    "        random_monomer_index = np.random.randint(1, len(polymer))\n",
    "        random_monomer = polymer[random_monomer_index]\n",
    "        counter_clockwise = np.random.choice([True, False])\n",
    "\n",
    "        rotated_polymer = rotate_polymer_np(polymer.tolist(), random_monomer, counter_clockwise)\n",
    "\n",
    "        if is_intact_polymer_np(rotated_polymer, len(polymer)):\n",
    "            rotated_polymer1 = [tuple(row) for row in rotated_polymer]\n",
    "            i += 1\n",
    "            Enew = calculate_polymer_energy(rotated_polymer1, V)\n",
    "\n",
    "            if Enew < E or np.random.rand() < np.exp(-(1/((1.38*10e-23))*T)) * (Enew - E):\n",
    "                polymer = rotated_polymer\n",
    "                E = Enew\n",
    "\n",
    "            E_array[i-1] = E\n",
    "\n",
    "    return polymer, E_array"
   ]
  },
  {
   "cell_type": "code",
   "execution_count": 16,
   "metadata": {},
   "outputs": [],
   "source": [
    "def algorithm2(polymer_array: np.ndarray, Ns: int, interaction_matrix: np.ndarray, temperature: float) -> tuple[np.ndarray, np.ndarray]:\n",
    "    \"\"\"\n",
    "    Performs a Monte Carlo simulation using the Metropolis algorithm for a polymer.\n",
    "    \n",
    "    :param polymer_array: Initial position of the polymer as a NumPy array of shape (N, 2).\n",
    "    :param Ns: Number of valid rotation attempts.\n",
    "    :param interaction_matrix: Numpy matrix representing interaction strengths between monomers.\n",
    "    :param temperature: Dimensionless temperature of the system.\n",
    "    :return: Tuple consisting of the updated polymer array and energy array.\n",
    "    \"\"\"\n",
    "    N = polymer_array.shape[0]\n",
    "    energy_array = np.zeros(Ns)\n",
    "    current_energy = calculate_polymer_energy(polymer_array, interaction_matrix)\n",
    "    boltzmann_constant = 1.38e-23  # Boltzmann constant in J/K\n",
    "    beta = 1 / (temperature * boltzmann_constant)  # Inverse temperature, assuming kB = 1 for simplicity\n",
    "    i = 0\n",
    "\n",
    "    while i < Ns:\n",
    "        random_monomer_index = np.random.randint(N)\n",
    "        rotate_clockwise = np.random.choice([True, False])\n",
    "        rotated_polymer_array = rotate_polymer_np(polymer_array, polymer_array[random_monomer_index], not rotate_clockwise)\n",
    "\n",
    "        if is_intact_polymer_np(rotated_polymer_array, N):\n",
    "            current_energy = calculate_polymer_energy(polymer_array, interaction_matrix)\n",
    "            new_energy = calculate_polymer_energy(rotated_polymer_array, interaction_matrix)\n",
    "            delta_energy = new_energy - current_energy\n",
    "            if delta_energy < 0: \n",
    "                polymer_array = rotated_polymer_array\n",
    "                current_energy = new_energy\n",
    "            if np.random.rand() < np.exp(-beta * delta_energy*4.0e-21):\n",
    "                polymer_array = rotated_polymer_array\n",
    "                current_energy = new_energy\n",
    "                #print(\"random event, \")\n",
    "            energy_array[i] = current_energy\n",
    "            i += 1  # Increment i after each valid rotation attempt\n",
    "                \n",
    "\n",
    "    return polymer_array, energy_array"
   ]
  },
  {
   "cell_type": "code",
   "execution_count": 17,
   "metadata": {},
   "outputs": [
    {
     "data": {
      "image/png": "[encoded data removed]",
      "text/plain": [
       "<Figure size 432x288 with 1 Axes>"
      ]
     },
     "metadata": {
      "needs_background": "light"
     },
     "output_type": "display_data"
    }
   ],
   "source": [
    "N_s = 5000\n",
    "polymer_30 = create_polymer(30)\n",
    "V_matrix = create_V_matrix(30, -1)\n",
    "polymer_array_k, energy_array_k  = algorithm2(polymer_30, N_s, V_matrix, 75)\n",
    "polymer_array_v, energy_array_v = algorithm2(polymer_30, N_s, V_matrix,300)\n",
    "\n",
    "plt.plot(np.linspace(0,N_s,N_s),energy_array_k, label = \"75 K\")\n",
    "plt.plot(np.linspace(0,N_s,N_s),energy_array_v, label = \"300 K\")\n",
    "plt.title(\"Energi med temperatur lik 75 K og 300 K\")\n",
    "plt.xlabel(\"Monte-Carlo steps\")\n",
    "plt.ylabel(r'Energy [$10^{-20}$] J')\n",
    "plt.legend()\n",
    "plt.show()"
   ]
  },
  {
   "cell_type": "markdown",
   "metadata": {},
   "source": [
    "### 2c)"
   ]
  },
  {
   "cell_type": "code",
   "execution_count": 21,
   "metadata": {},
   "outputs": [
    {
     "data": {
      "image/png": "[encoded data removed]",
      "text/plain": [
       "<Figure size 864x432 with 2 Axes>"
      ]
     },
     "metadata": {
      "needs_background": "light"
     },
     "output_type": "display_data"
    }
   ],
   "source": [
    "def display_polymer_side_by_side(polymer_list1: list[int], polymer_list2: list[int]) -> None:\n",
    "    \"\"\"\n",
    "    Rewrote the display_polymer function to display two polymers side by side to increase readability.\n",
    "\n",
    "    In order to simpliefy the automatic grid sizing a subfunction for this purpose is an easy solution\n",
    "    \"\"\"\n",
    "    def plot_polymer(ax, polymer_list):\n",
    "        max_x = max(abs(x) for _, x in polymer_list)\n",
    "        max_y = max(abs(y) for y, _ in polymer_list)\n",
    "        max_extent = max(max_x, max_y)\n",
    "\n",
    "        grid_size = 2 * max_extent + 1\n",
    "\n",
    "        X, Y = np.meshgrid(range(-max_extent, max_extent + 1), range(-max_extent, max_extent + 1))\n",
    "        Z = np.zeros(X.shape)\n",
    "\n",
    "        for i, (y, x) in enumerate(polymer_list):\n",
    "            intensity = (i / (len(polymer_list) - 1)) * 0.99 + 0.01\n",
    "            adjusted_x = x + max_extent\n",
    "            adjusted_y = y + max_extent\n",
    "            Z[adjusted_y, adjusted_x] = intensity\n",
    "\n",
    "        cmap = matplotlib.colors.LinearSegmentedColormap.from_list(\"\", [\"black\", \"white\", \"purple\"])\n",
    "\n",
    "        ax.pcolormesh(X, Y, Z, cmap=cmap, shading='auto')\n",
    "        ax.set_aspect('equal', adjustable='box')\n",
    "        ax.axis('off')\n",
    "\n",
    "    # Create a 1x2 subplot layout\n",
    "    fig, axes = plt.subplots(1, 2, figsize=(12, 6))\n",
    "\n",
    "    # Display the first polymer on the left subplot\n",
    "    plot_polymer(axes[0], polymer_list1)\n",
    "    axes[0].set_title('Polymer kald temperatur')\n",
    "\n",
    "    # Display the second polymer on the right subplot\n",
    "    plot_polymer(axes[1], polymer_list2)\n",
    "    axes[1].set_title('Polymer varm temperatur')\n",
    "\n",
    "    # Adjust layout for better spacing\n",
    "    plt.tight_layout()\n",
    "\n",
    "    # Show the plots\n",
    "    plt.show()\n",
    "\n",
    "\n",
    "display_polymer_side_by_side(polymer_array_k, polymer_array_v)"
   ]
  },
  {
   "cell_type": "markdown",
   "metadata": {},
   "source": [
    "#### 2e)"
   ]
  },
  {
   "cell_type": "code",
   "execution_count": 22,
   "metadata": {},
   "outputs": [
    {
     "data": {
      "image/png": "[encoded data removed]",
      "text/plain": [
       "<Figure size 432x288 with 1 Axes>"
      ]
     },
     "metadata": {
      "needs_background": "light"
     },
     "output_type": "display_data"
    }
   ],
   "source": [
    "def excpected_energy(N: int, N_s: int, V_matrix: list[int]) -> (list[float], list[float], list[float]):\n",
    "    \"\"\"\n",
    "    Function that calculates expected energy, and its standard deviation\n",
    "    param N: length of polymer\n",
    "    param N_s: attempted rotations\n",
    "    param V_matrix: matrix with values of energy\n",
    "    \"\"\"\n",
    "    temprature = np.arange(10,1000, 30) #creates array with temprature\n",
    "    polymer1 = create_polymer(N) #creates polymer with length N\n",
    "    expected = []\n",
    "    deviation = []\n",
    "    for i in temprature:\n",
    "        _, energy_array = algorithm2(polymer1, N_s, V_matrix,i) \n",
    "        energy_array[:1000] #exlude first 1000 simulations\n",
    "        expected.append(np.mean(energy_array))\n",
    "        deviation.append(np.std(energy_array))\n",
    "    return expected, deviation, temprature\n",
    "N = 30\n",
    "N_s = 5000\n",
    "expected, deviation, temprature = excpected_energy(N, N_s, create_V_matrix(N,-1))\n",
    "plt.plot(temprature,expected, label= \"Forventningsverdi\", color = \"b\")\n",
    "plt.errorbar(temprature,expected ,  yerr= (deviation), fmt='-o', color = \"b\", ecolor = \"black\",capsize=5, label='Standardavvik')\n",
    "plt.title(\"Forventet verdi av energi med økende tempratur\")\n",
    "plt.xlabel(\"Temprature [K]\")\n",
    "plt.ylabel(r'Energy [$10^{-20}$]  J')\n",
    "plt.legend()\n",
    "plt.show()\n",
    "\n",
    "\n"
   ]
  },
  {
   "cell_type": "markdown",
   "metadata": {},
   "source": [
    "#### 2f)"
   ]
  },
  {
   "cell_type": "code",
   "execution_count": 20,
   "metadata": {},
   "outputs": [
    {
     "data": {
      "image/png": "[encoded data removed]",
      "text/plain": [
       "<Figure size 432x288 with 1 Axes>"
      ]
     },
     "metadata": {
      "needs_background": "light"
     },
     "output_type": "display_data"
    }
   ],
   "source": [
    "def constant_temprature_sim(N, N_s, V_matrix, temprature):\n",
    "    polymer1 = create_polymer(N)\n",
    "    expected = []\n",
    "    for i in range(10):\n",
    "        _, energy = algorithm2(polymer1,N_s, V_matrix, temprature)\n",
    "        expected.append(np.mean(energy))\n",
    "    return expected\n",
    "energies_at_150 = constant_temprature_sim(N, N_s, create_V_matrix(N, -1), 10)\n",
    "plt.plot(np.linspace(0,10,10),energies_at_150)\n",
    "plt.title(\"Simulering med temperatur holdt til 10 K\")\n",
    "plt.xlabel(\"Antall simulasjoner\")\n",
    "plt.ylabel(r'Energy [$10^{-20}$] J')\n",
    "plt.show()"
   ]
  }
 ],
 "metadata": {
  "kernelspec": {
   "display_name": "base",
   "language": "python",
   "name": "python3"
  },
  "language_info": {
   "codemirror_mode": {
    "name": "ipython",
    "version": 3
   },
   "file_extension": ".py",
   "mimetype": "text/x-python",
   "name": "python",
   "nbconvert_exporter": "python",
   "pygments_lexer": "ipython3",
   "version": "3.9.12"
  }
 },
 "nbformat": 4,
 "nbformat_minor": 2
}
