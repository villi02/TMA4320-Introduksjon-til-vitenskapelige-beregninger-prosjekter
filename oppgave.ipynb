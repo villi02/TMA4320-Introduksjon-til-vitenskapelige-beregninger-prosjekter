{
 "cells": [
  {
   "cell_type": "code",
   "execution_count": 1,
   "metadata": {},
   "outputs": [],
   "source": [
    "import numpy as np\n",
    "import matplotlib.pyplot as plt\n",
    "import matplotlib.colors"
   ]
  },
  {
   "cell_type": "markdown",
   "metadata": {},
   "source": [
    "## Oppgave 1\n"
   ]
  },
  {
   "cell_type": "markdown",
   "metadata": {},
   "source": [
    "#### 1 a)"
   ]
  },
  {
   "cell_type": "markdown",
   "metadata": {},
   "source": [
    "For å representeree en polymer av en gitt lengde numerisk er det mulig å lagre hele gitteret, inkludert alle null-elementene, som en matrise, hvor sidelengdene er større enn polymeren. Dette er derimot ikke hensiktsmessig ettersom majoriteten av informasjonen lagret er overflødig. For å forenkle dette kan istedet kun selve posisjonen av hver monomer lagres. Polymeren representeres i et 2D kartesisk kordinatsystem, og dermed kan hver monomer posisjon beskrives av en tuppel med kordinatene x og y. Slik kan hele polymeren være representert av en N x 2 matrise.   "
   ]
  },
  {
   "cell_type": "markdown",
   "metadata": {},
   "source": [
    "#### 1 b)"
   ]
  },
  {
   "cell_type": "code",
   "execution_count": 2,
   "metadata": {},
   "outputs": [],
   "source": [
    "def polymer(N: int) -> list[int]:\n",
    "    \"\"\"\n",
    "    Function that returns a list of integers representing the polymer with each element being a touple with the x and y coordinates of the monomer\n",
    "    :param N: int\n",
    "    :return: list[int]\n",
    "    \"\"\"\n",
    "    return [(i, 0) for i in range(-N//2, N//2)]"
   ]
  },
  {
   "cell_type": "markdown",
   "metadata": {},
   "source": [
    "#### 1 c)"
   ]
  },
  {
   "cell_type": "markdown",
   "metadata": {},
   "source": []
  },
  {
   "cell_type": "markdown",
   "metadata": {},
   "source": [
    "#### 1 d)"
   ]
  },
  {
   "cell_type": "code",
   "execution_count": 3,
   "metadata": {},
   "outputs": [],
   "source": [
    "# Method to display the polymer\n",
    "def display_polymer(polymer_list: list[int]) -> None:\n",
    "    \"\"\"\n",
    "    Function that displays the polymer in a grid\n",
    "    :param polymer_list: list[int]\n",
    "    :return: None\n",
    "    \"\"\"\n",
    "    # Adjust grid boundaries to include all monomers\n",
    "    grid_size = 2 * len(polymer_list) + 1\n",
    "    offset = len(polymer_list)\n",
    "    x = np.linspace(-offset, offset, grid_size)\n",
    "    X, Y = np.meshgrid(x, x)\n",
    "    \n",
    "    Z = np.zeros(X.shape)\n",
    "\n",
    "    # Calculate intensity values for each monomer (stronger towards the end)\n",
    "    for i, (y, x) in enumerate(polymer_list):\n",
    "        intensity = i / (len(polymer_list) - 1) + 0.05\n",
    "        Z[x + offset, y + offset] = intensity\n",
    "\n",
    "    # Define a purple colormap\n",
    "    cmap = matplotlib.colors.LinearSegmentedColormap.from_list(\"\", [\"white\", \"purple\"])\n",
    "\n",
    "    plt.pcolormesh(X, Y, Z, cmap=cmap)\n",
    "    plt.show()"
   ]
  },
  {
   "cell_type": "code",
   "execution_count": 4,
   "metadata": {},
   "outputs": [
    {
     "data": {
      "image/png": "[encoded data removed]",
      "text/plain": [
       "<Figure size 640x480 with 1 Axes>"
      ]
     },
     "metadata": {},
     "output_type": "display_data"
    }
   ],
   "source": [
    "# Test the new Polymer function and display function\n",
    "polymer_list = polymer(10)\n",
    "\n",
    "display_polymer(polymer_list)\n"
   ]
  },
  {
   "cell_type": "markdown",
   "metadata": {},
   "source": [
    "#### 1 f)"
   ]
  },
  {
   "cell_type": "code",
   "execution_count": 5,
   "metadata": {},
   "outputs": [],
   "source": [
    "def is_intact_polymer(polymer_object: list[int], N: int) -> bool:\n",
    "    \"\"\"\n",
    "    Function that checks if the polymer is intact\n",
    "    :param polymer_object: list[int]\n",
    "    :param N: int\n",
    "    :return: bool\n",
    "    \"\"\"\n",
    "\n",
    "    # Check if the polymer is the right length\n",
    "    if len(polymer_object) != N:\n",
    "        return False\n",
    "\n",
    "    # Go through each monomer and check if it has a neighbor\n",
    "    for i in range(N):\n",
    "        # Hvis det ikke er den første monomeren, sjekk forrige nabo\n",
    "        if i > 0 and not (abs(polymer_object[i][0] - polymer_object[i-1][0]) == 1 and polymer_object[i][1] == polymer_object[i-1][1]) and not (polymer_object[i][0] == polymer_object[i-1][0] and abs(polymer_object[i][1] - polymer_object[i-1][1]) == 1):\n",
    "            return False\n",
    "        \n",
    "        # If it is not the last monomer, check next neighbor\n",
    "        if i < N - 1 and not (abs(polymer_object[i][0] - polymer_object[i+1][0]) == 1 and polymer_object[i][1] == polymer_object[i+1][1]) and not (polymer_object[i][0] == polymer_object[i+1][0] and abs(polymer_object[i][1] - polymer_object[i+1][1]) == 1):\n",
    "            return False\n",
    "        \n",
    "        # Check if the monomer is on top of another monomer\n",
    "        if polymer_object.count(polymer_object[i]) > 1:\n",
    "            return False\n",
    "    return True"
   ]
  },
  {
   "cell_type": "markdown",
   "metadata": {},
   "source": [
    "#### 1f)"
   ]
  },
  {
   "cell_type": "code",
   "execution_count": 6,
   "metadata": {},
   "outputs": [],
   "source": [
    "def rotate_polymer(polymer_object: list[int], xy_val: tuple[int, int], counter_clockwise: bool) -> list[int]:\n",
    "    \"\"\"\n",
    "    Function that rotates the smaller half of the polymer around a point with 90 degrees\n",
    "    :param polymer_object: list[int]\n",
    "    :param xy_val: tuple[int, int]\n",
    "    :param counter_clockwise: bool\n",
    "    :return: list[int]\n",
    "    \"\"\"\n",
    "    rotated_polymer = []\n",
    "    rotation_index = polymer_object.index(xy_val)\n",
    "\n",
    "    # Determine which half to rotate (smaller half or front half if in the middle)\n",
    "    if rotation_index <= len(polymer_object) // 2:\n",
    "        # Rotate the front half\n",
    "        polymer_to_rotate = polymer_object[:rotation_index + 1]\n",
    "        polymer_remaining = polymer_object[rotation_index + 1:]\n",
    "    else:\n",
    "        # Rotate the back half\n",
    "        polymer_to_rotate = polymer_object[rotation_index:]\n",
    "        polymer_remaining = polymer_object[:rotation_index]\n",
    "\n",
    "    # Apply rotation to the chosen half\n",
    "    for x, y in polymer_to_rotate:\n",
    "        dx, dy = x - xy_val[0], y - xy_val[1]\n",
    "        if counter_clockwise:\n",
    "            # Apply counterclockwise rotation\n",
    "            new_x, new_y = xy_val[0] - dy, xy_val[1] + dx\n",
    "        else:\n",
    "            # Apply clockwise rotation\n",
    "            new_x, new_y = xy_val[0] + dy, xy_val[1] - dx\n",
    "        rotated_polymer.append((new_x, new_y))\n",
    "\n",
    "    # Combine the rotated half with the unrotated half\n",
    "    if rotation_index <= len(polymer_object) // 2:\n",
    "        rotated_polymer.extend(polymer_remaining)\n",
    "    else:\n",
    "        rotated_polymer = polymer_remaining + rotated_polymer\n",
    "\n",
    "    return rotated_polymer"
   ]
  },
  {
   "cell_type": "code",
   "execution_count": 7,
   "metadata": {},
   "outputs": [
    {
     "data": {
      "image/png": "[encoded data removed]",
      "text/plain": [
       "<Figure size 640x480 with 1 Axes>"
      ]
     },
     "metadata": {},
     "output_type": "display_data"
    },
    {
     "name": "stdout",
     "output_type": "stream",
     "text": [
      "False\n"
     ]
    }
   ],
   "source": [
    "# testing\n",
    "polymer_list = polymer(10)\n",
    "polymer_list = rotate_polymer(polymer_list, (0, 0), True)\n",
    "polymer_list = rotate_polymer(polymer_list, (0, 0), True)\n",
    "display_polymer(polymer_list)\n",
    "print(is_intact_polymer(polymer_list, 10))"
   ]
  },
  {
   "cell_type": "markdown",
   "metadata": {},
   "source": [
    "#### 1g)"
   ]
  },
  {
   "cell_type": "code",
   "execution_count": 10,
   "metadata": {},
   "outputs": [],
   "source": [
    "def algorithm1(N: int, Ns: int) -> (list[int], int):\n",
    "    counter = 0\n",
    "    polymer_object = polymer(N)\n",
    "\n",
    "    for _ in range(Ns):\n",
    "        # Choose a random monomer\n",
    "        random_monomer_index = np.random.randint(0, N)\n",
    "        random_monomer = polymer_object[random_monomer_index]\n",
    "\n",
    "        # Randomly choose rotation direction\n",
    "        rotate_clockwise = np.random.choice([True, False])\n",
    "\n",
    "        # Rotate the polymer\n",
    "        rotated_polymer = rotate_polymer(polymer_object, random_monomer, not rotate_clockwise)\n",
    "\n",
    "        # Check if the rotated polymer is intact\n",
    "        if is_intact_polymer(rotated_polymer, N):\n",
    "            counter += 1\n",
    "            polymer_object = rotated_polymer\n",
    "\n",
    "    return polymer_object, counter\n"
   ]
  },
  {
   "cell_type": "code",
   "execution_count": 40,
   "metadata": {},
   "outputs": [
    {
     "data": {
      "image/png": "[encoded data removed]",
      "text/plain": [
       "<Figure size 640x480 with 1 Axes>"
      ]
     },
     "metadata": {},
     "output_type": "display_data"
    },
    {
     "name": "stdout",
     "output_type": "stream",
     "text": [
      "12\n"
     ]
    }
   ],
   "source": [
    "tester_, count = algorithm1(10, 15)\n",
    "display_polymer(tester_)\n",
    "print(count)\n"
   ]
  },
  {
   "cell_type": "markdown",
   "metadata": {},
   "source": [
    "#### 1h)"
   ]
  },
  {
   "cell_type": "markdown",
   "metadata": {},
   "source": [
    "## Oppgave 2"
   ]
  },
  {
   "cell_type": "markdown",
   "metadata": {},
   "source": []
  }
 ],
 "metadata": {
  "kernelspec": {
   "display_name": "base",
   "language": "python",
   "name": "python3"
  },
  "language_info": {
   "codemirror_mode": {
    "name": "ipython",
    "version": 3
   },
   "file_extension": ".py",
   "mimetype": "text/x-python",
   "name": "python",
   "nbconvert_exporter": "python",
   "pygments_lexer": "ipython3",
   "version": "3.11.5"
  }
 },
 "nbformat": 4,
 "nbformat_minor": 2
}
