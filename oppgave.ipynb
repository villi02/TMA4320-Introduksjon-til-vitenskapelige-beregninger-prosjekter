{
 "cells": [
  {
   "cell_type": "code",
   "execution_count": 104,
   "metadata": {},
   "outputs": [],
   "source": [
    "import numpy as np\n",
    "import matplotlib.pyplot as plt\n",
    "import matplotlib.colors"
   ]
  },
  {
   "cell_type": "markdown",
   "metadata": {},
   "source": [
    "## Oppgave 1\n"
   ]
  },
  {
   "cell_type": "markdown",
   "metadata": {},
   "source": [
    "#### 1 a)"
   ]
  },
  {
   "cell_type": "markdown",
   "metadata": {},
   "source": [
    "For å representere en polymer av en gitt lengde numerisk er det mulig å lagre hele gitteret, inkludert alle null-elementene, som en matrise, hvor sidelengdene er større enn polymeret. Dette er derimot ikke hensiktsmessig ettersom majoriteten av informasjonen lagret er overflødig. For å forenkle dette kan istedet kun selve posisjonen av hver monomer lagres. Polymeren representeres i et 2D kartesisk kordinatsystem, og dermed kan hver monomer posisjon beskrives av en tuppel med kordinatene x og y. Slik kan hele polymeren være representert av en N x 2 matrise.   "
   ]
  },
  {
   "cell_type": "markdown",
   "metadata": {},
   "source": [
    "#### 1 b)"
   ]
  },
  {
   "cell_type": "code",
   "execution_count": 105,
   "metadata": {},
   "outputs": [],
   "source": [
    "def polymer(N: int) -> list[int]:\n",
    "    \"\"\"\n",
    "    Function that returns a list of integers representing the polymer with each element being a touple with the x and y coordinates of the monomer\n",
    "    :param N: int\n",
    "    :return: list[int]\n",
    "    \"\"\"\n",
    "    return np.array([(i, 0) for i in range(-N//2, N//2)])"
   ]
  },
  {
   "cell_type": "markdown",
   "metadata": {},
   "source": [
    "#### 1 c)"
   ]
  },
  {
   "cell_type": "markdown",
   "metadata": {},
   "source": [
    "Energien til en gitt polymer er avhengig av antall monomerer som vekselsvirker med hverandre. Reglene for denne vekselvirkningen er oppgitt i seksjon 2 av prosjektheftet. I algoritme 1 og 2, som begge er Monte Carlo-metoder, velges tilfeldig en monomer som roteres om. Ettersom rotasjon i endemonomerene ikke endrer formen av polymeret, men heller kun roterer hele polymeret, vil det heller ikke oppstå noen endring av energien i polymeret. Dermed er det ikke hensiktsmessig å inkludere endemonomerene i utvalget den tilfeldige monomeren trekkes fra. "
   ]
  },
  {
   "cell_type": "markdown",
   "metadata": {},
   "source": [
    "#### 1 d)"
   ]
  },
  {
   "cell_type": "code",
   "execution_count": 106,
   "metadata": {},
   "outputs": [],
   "source": [
    "def display_polymer(polymer_list: list[int]) -> None:\n",
    "    \"\"\"\n",
    "    Function that displays the polymer on a black background,\n",
    "    with a color gradient going from white at the beginning to purple at the end of the polymer.\n",
    "    :param polymer_list: list[int]\n",
    "    :return: None\n",
    "    \"\"\"\n",
    "    # Determine the maximum absolute values of x and y to ensure a square grid\n",
    "    max_x = max(abs(x) for _, x in polymer_list)\n",
    "    max_y = max(abs(y) for y, _ in polymer_list)\n",
    "    max_extent = max(max_x, max_y)\n",
    "\n",
    "    # Define square grid size based on the maximum extent\n",
    "    grid_size = 2 * max_extent + 1\n",
    "\n",
    "    X, Y = np.meshgrid(range(-max_extent, max_extent + 1), range(-max_extent, max_extent + 1))\n",
    "    Z = np.zeros(X.shape)  # Background initialized to 0 (black)\n",
    "\n",
    "    # Map intensity values for the polymer: 0 (background) remains black,\n",
    "    # Intensity for polymer starts from a small positive value towards 1\n",
    "    for i, (y, x) in enumerate(polymer_list):\n",
    "        # Map intensity from a range that starts slightly above 0 to ensure visibility against black\n",
    "        intensity = (i / (len(polymer_list) - 1)) * 0.99 + 0.01  # Avoids pure black for the first monomer\n",
    "        adjusted_x = x + max_extent\n",
    "        adjusted_y = y + max_extent\n",
    "        Z[adjusted_y, adjusted_x] = intensity\n",
    "\n",
    "    # Define a colormap: starts with black (for 0 intensity), transitions from white to purple\n",
    "    cmap = matplotlib.colors.LinearSegmentedColormap.from_list(\"\", [\"black\", \"white\", \"purple\"])\n",
    "\n",
    "    plt.figure(figsize=(6,6))  # Adjust figure size as needed\n",
    "    plt.pcolormesh(X, Y, Z, cmap=cmap, shading='auto')  # 'auto' shading for smooth transition\n",
    "    plt.gca().set_aspect('equal', adjustable='box')\n",
    "    plt.axis('off')  # Optional: Hide axes for a cleaner visualization\n",
    "    plt.show()\n"
   ]
  },
  {
   "cell_type": "markdown",
   "metadata": {},
   "source": [
    "#### 1 e)"
   ]
  },
  {
   "cell_type": "markdown",
   "metadata": {},
   "source": [
    "We added our own criteria, we make it a requirement that no monomer can share coordinates with another, thus it cannot be on top of itself"
   ]
  },
  {
   "cell_type": "code",
   "execution_count": 107,
   "metadata": {},
   "outputs": [],
   "source": [
    "def is_intact_polymer_np(polymer_object: np.ndarray, N: int) -> bool:\n",
    "    \"\"\"\n",
    "    Function that checks if the polymer is intact for a NumPy array implementation.\n",
    "    :param polymer_object: NumPy array of shape (N, 2), representing N monomers' coordinates.\n",
    "    :param N: int, the expected length of the polymer.\n",
    "    :return: bool, True if the polymer is intact, False otherwise.\n",
    "    \"\"\"\n",
    "    # Check if the polymer is the right length\n",
    "    if polymer_object.shape[0] != N:\n",
    "        return False\n",
    "\n",
    "    # Ensure all monomer positions are unique\n",
    "    if np.unique(polymer_object, axis=0).shape[0] != N:\n",
    "        return False\n",
    "\n",
    "    # Calculate the differences between consecutive monomers\n",
    "    diffs = np.diff(polymer_object, axis=0)\n",
    "    \n",
    "    # Check for horizontal or vertical adjacency between consecutive monomers\n",
    "    valid_horizontal = (np.abs(diffs[:, 0]) == 1) & (diffs[:, 1] == 0)\n",
    "    valid_vertical = (np.abs(diffs[:, 1]) == 1) & (diffs[:, 0] == 0)\n",
    "    \n",
    "    if not np.all(valid_horizontal | valid_vertical):\n",
    "        return False\n",
    "\n",
    "    return True"
   ]
  },
  {
   "cell_type": "markdown",
   "metadata": {},
   "source": [
    "#### 1f)"
   ]
  },
  {
   "cell_type": "code",
   "execution_count": 108,
   "metadata": {},
   "outputs": [],
   "source": [
    "def rotate_polymer_np(polymer: np.ndarray, center: tuple[int, int], counter_clockwise: bool = True) -> np.ndarray:\n",
    "    \"\"\"\n",
    "    Optimized function to rotate the shortest end of the polymer 90 degrees around a specified monomer (center) using NumPy.\n",
    "    If the center is in the middle, the front half is rotated.\n",
    "    \n",
    "    :param polymer: NumPy array of shape (N, 2), representing N monomers.\n",
    "    :param center: Center point for rotation, as a tuple of (x, y), must be a monomer in the polymer.\n",
    "    :param counter_clockwise: True for counter-clockwise rotation, False for clockwise.\n",
    "    :return: NumPy array representing the rotated polymer.\n",
    "    \"\"\"\n",
    "    # Find the index of the center monomer\n",
    "    center_index = np.where((polymer == center).all(axis=1))[0][0]\n",
    "    \n",
    "    # Determine the rotation matrix\n",
    "    rotation_matrix = np.array([[0, -1], [1, 0]]) if not counter_clockwise else np.array([[0, 1], [-1, 0]])\n",
    "\n",
    "    # Determine which half to rotate\n",
    "    if center_index <= len(polymer) // 2:\n",
    "        # Rotate the first half\n",
    "        segment_to_rotate = polymer[:center_index + 1]\n",
    "        remaining_segment = polymer[center_index + 1:]\n",
    "        translated_segment = segment_to_rotate - center\n",
    "        rotated_translated_segment = np.dot(translated_segment, rotation_matrix) + center\n",
    "        return np.vstack((rotated_translated_segment, remaining_segment))\n",
    "    else:\n",
    "        # Rotate the second half\n",
    "        segment_to_rotate = polymer[center_index:]\n",
    "        remaining_segment = polymer[:center_index]\n",
    "        translated_segment = segment_to_rotate - center\n",
    "        rotated_translated_segment = np.dot(translated_segment, rotation_matrix) + center\n",
    "        return np.vstack((remaining_segment, rotated_translated_segment))\n"
   ]
  },
  {
   "cell_type": "markdown",
   "metadata": {},
   "source": [
    "#### 1g)"
   ]
  },
  {
   "cell_type": "code",
   "execution_count": 109,
   "metadata": {},
   "outputs": [],
   "source": [
    "def algorithm1_optimized(N: int, Ns: int) -> tuple[np.ndarray, int]:\n",
    "    \"\"\"\n",
    "    Numpy optimized algorithm to generate a polymer of length N and rotate it Ns times.\n",
    "    :param N: int, the length of the polymer.\n",
    "    :param Ns: int, the number of steps to take.\n",
    "    :return: tuple, (polymer, number of steps taken).\n",
    "    \"\"\"\n",
    "    counter = 0\n",
    "    polymer_obj = polymer(N)\n",
    "\n",
    "    for _ in range(Ns):\n",
    "        random_index = np.random.randint(0, N)\n",
    "        random_monomer = polymer_obj[random_index]\n",
    "        counter_clockwise = np.random.choice([True, False])\n",
    "        rotated_polymer = rotate_polymer_np(polymer_obj, random_monomer, counter_clockwise)\n",
    "        \n",
    "        if is_intact_polymer_np(rotated_polymer, N):\n",
    "            counter += 1\n",
    "            polymer_obj = rotated_polymer\n",
    "        else:\n",
    "            pass\n",
    "    return polymer_obj, counter"
   ]
  },
  {
   "cell_type": "code",
   "execution_count": 110,
   "metadata": {},
   "outputs": [
    {
     "data": {
      "image/png": "[encoded data removed]",
      "text/plain": [
       "<Figure size 432x432 with 1 Axes>"
      ]
     },
     "metadata": {
      "needs_background": "light"
     },
     "output_type": "display_data"
    },
    {
     "name": "stdout",
     "output_type": "stream",
     "text": [
      "False\n"
     ]
    }
   ],
   "source": [
    "tester_, count = algorithm1_optimized(15, 15)\n",
    "display_polymer(tester_)\n",
    "print(is_intact_polymer_np(tester_, 10))"
   ]
  },
  {
   "cell_type": "markdown",
   "metadata": {},
   "source": [
    "#### 1h)"
   ]
  },
  {
   "cell_type": "code",
   "execution_count": 111,
   "metadata": {},
   "outputs": [],
   "source": [
    "# implementasjon med numpy array\n",
    "\n",
    "def polymer_array(N: int) -> list[int]:\n",
    "   \"\"\"\n",
    "    Function that returns a list of integers representing the polymer with each element being a touple with the x and y coordinates of the monomer\n",
    "    :param N: int\n",
    "    :return: list[int]\n",
    "    \"\"\"\n",
    "   return [(i, 0) for i in range(-N//2, N//2)]\n",
    "\n",
    "def is_intact_polymer_array(polymer_object: list[int], N: int) -> bool:\n",
    "    \"\"\"\n",
    "    Function that checks if the polymer is intact\n",
    "    :param polymer_object: list[int]\n",
    "    :param N: int\n",
    "    :return: bool\n",
    "    \"\"\"\n",
    "\n",
    "    # convert from numpy array to list\n",
    "    polymer_object = list(polymer_object)\n",
    "\n",
    "    # Check if the polymer is the right length\n",
    "    if len(polymer_object) != N:\n",
    "        return False\n",
    "\n",
    "    # Go through each monomer and check if it has a neighbor\n",
    "    for i in range(N):\n",
    "        # Hvis det ikke er den første monomeren, sjekk forrige nabo\n",
    "        if i > 0 and not (abs(polymer_object[i][0] - polymer_object[i-1][0]) == 1 and polymer_object[i][1] == polymer_object[i-1][1]) and not (polymer_object[i][0] == polymer_object[i-1][0] and abs(polymer_object[i][1] - polymer_object[i-1][1]) == 1):\n",
    "            return False\n",
    "        \n",
    "        # If it is not the last monomer, check next neighbor\n",
    "        if i < N - 1 and not (abs(polymer_object[i][0] - polymer_object[i+1][0]) == 1 and polymer_object[i][1] == polymer_object[i+1][1]) and not (polymer_object[i][0] == polymer_object[i+1][0] and abs(polymer_object[i][1] - polymer_object[i+1][1]) == 1):\n",
    "            return False\n",
    "        \n",
    "        # Check if the monomer is on top of another monomer\\n\",\n",
    "        if polymer_object.count(polymer_object[i]) > 1:\n",
    "            return False\n",
    "    return True\n",
    "\n",
    "def rotate_polymer_array(polymer_object: list[int], xy_val: tuple[int, int], counter_clockwise: bool) -> list[int]:\n",
    "    \"\"\"\n",
    "    Function that rotates the smaller half of the polymer around a point with 90 degrees\n",
    "    :param polymer_object: list[int]\n",
    "    :param xy_val: tuple[int, int]\n",
    "    :param counter_clockwise: bool\n",
    "    :return: list[int]\n",
    "    \"\"\"\n",
    "    rotated_polymer = []\n",
    "    rotation_index = polymer_object.index(xy_val)\n",
    "\n",
    "    # Determine which half to rotate (smaller half or front half if in the middle)\n",
    "    if rotation_index <= len(polymer_object) // 2:\n",
    "        # Rotate the front half\n",
    "        polymer_to_rotate = polymer_object[:rotation_index + 1]\n",
    "        polymer_remaining = polymer_object[rotation_index + 1:]\n",
    "    else:\n",
    "        # Rotate the back half\n",
    "        polymer_to_rotate = polymer_object[rotation_index:]\n",
    "        polymer_remaining = polymer_object[:rotation_index]\n",
    "\n",
    "    # Apply rotation to the chosen half\n",
    "    for x, y in polymer_to_rotate:\n",
    "        dx, dy = x - xy_val[0], y - xy_val[1]\n",
    "        if counter_clockwise:\n",
    "            new_x, new_y = xy_val[0] - dy, xy_val[1] + dx\n",
    "        else:\n",
    "            new_x, new_y = xy_val[0] + dy, xy_val[1] - dx\n",
    "        rotated_polymer.append((new_x, new_y))\n",
    "\n",
    "    # Combine the rotated half with the unrotated half\n",
    "    if rotation_index <= len(polymer_object) // 2:\n",
    "        rotated_polymer.extend(polymer_remaining)\n",
    "    else:\n",
    "        rotated_polymer = polymer_remaining + rotated_polymer\n",
    "\n",
    "    return rotated_polymer\n",
    "\n",
    "def algorithm1_array(N: int, Ns: int) -> (list[int], int):\n",
    "    counter = 0\n",
    "    polymer_object = polymer_array(N)\n",
    "\n",
    "    for _ in range(Ns):\n",
    "        # Choose a random monomer\n",
    "        random_monomer_index = np.random.randint(0, N)\n",
    "        random_monomer = polymer_object[random_monomer_index]\n",
    "\n",
    "        # Randomly choose rotation direction\n",
    "        rotate_clockwise = np.random.choice([True, False])\n",
    "\n",
    "        # Rotate the polymer\n",
    "        rotated_polymer = rotate_polymer_array(polymer_object, random_monomer, not rotate_clockwise)\n",
    "\n",
    "        # Check if the rotated polymer is intact\n",
    "        if is_intact_polymer_array(rotated_polymer, N):\n",
    "            counter += 1\n",
    "            polymer_object = rotated_polymer\n",
    "\n",
    "    return polymer_object, counter"
   ]
  },
  {
   "cell_type": "code",
   "execution_count": 112,
   "metadata": {},
   "outputs": [
    {
     "name": "stdout",
     "output_type": "stream",
     "text": [
      "237 ms ± 5.86 ms per loop (mean ± std. dev. of 7 runs, 1 loop each)\n",
      "113 ms ± 75.4 µs per loop (mean ± std. dev. of 7 runs, 10 loops each)\n"
     ]
    }
   ],
   "source": [
    "# check for optimization\n",
    "\n",
    "# time the algorithm using timeit\n",
    "\n",
    "%timeit algorithm1_array(100, 1000)\n",
    "%timeit algorithm1_optimized(100, 1000)"
   ]
  },
  {
   "cell_type": "markdown",
   "metadata": {},
   "source": [
    "Her ser vi at å bruke Numpy arrays og optimalisere rundt linæralgebra for rotasjon gir en betydelig ytelseøkning ovenfor Python array."
   ]
  },
  {
   "cell_type": "code",
   "execution_count": 113,
   "metadata": {},
   "outputs": [
    {
     "data": {
      "image/png": "[encoded data removed]",
      "text/plain": [
       "<Figure size 432x432 with 1 Axes>"
      ]
     },
     "metadata": {
      "needs_background": "light"
     },
     "output_type": "display_data"
    }
   ],
   "source": [
    "poly_obj, _ = algorithm1_array(150, 1000)\n",
    "display_polymer(poly_obj)"
   ]
  },
  {
   "cell_type": "markdown",
   "metadata": {},
   "source": [
    "#### 1i)"
   ]
  },
  {
   "cell_type": "code",
   "execution_count": 114,
   "metadata": {},
   "outputs": [
    {
     "data": {
      "image/png": "[encoded data removed]",
      "text/plain": [
       "<Figure size 432x288 with 1 Axes>"
      ]
     },
     "metadata": {
      "needs_background": "light"
     },
     "output_type": "display_data"
    }
   ],
   "source": [
    "def plot_prosent(N: int, N_s: int) -> None:\n",
    "    \"\"\"\n",
    "    plots the percentage of rotations based on attempted rotations\n",
    "    \"\"\"\n",
    "    x_arr = []\n",
    "    y_arr = []\n",
    "    for i in range(1, N_s):\n",
    "        a, count = algorithm1_array(N, i)\n",
    "        x_arr.append(i)\n",
    "        y_arr.append(N_s*10/(count))\n",
    "    plt.plot(x_arr,y_arr, label = \"Graph\")\n",
    "    plt.title(f\"Percentage of allowed rotation on a polymer of size {N} with {N_s} attempted rotations\")\n",
    "    plt.ylabel(\"Percent %\", fontsize = 14)\n",
    "    plt.xlabel(\"Attempted rotations\", fontsize = 14)\n",
    "    plt.legend()\n",
    "    plt.show()\n",
    "plot_prosent(1500,10)\n",
    "\n"
   ]
  },
  {
   "cell_type": "markdown",
   "metadata": {},
   "source": [
    "#### 1i)"
   ]
  },
  {
   "cell_type": "code",
   "execution_count": 115,
   "metadata": {},
   "outputs": [],
   "source": [
    "\n",
    "def create_V_matrix(N: int) -> list[int]:\n",
    "    \"\"\"\n",
    "    Function creates N x N matrix with 0 across, over and under the diagonal\n",
    "    :param N: int\n",
    "    \"\"\"\n",
    "    # Create an N x N matrix with 0\n",
    "    matrix = 0 * np.ones((N, N), dtype=int) \n",
    "\n",
    "    #sets upper triangle in V matrix to -1\n",
    "    matrix[np.triu_indices(N, k=2)] = -1  \n",
    "\n",
    "    #sets lower triangle in V matrix to -1\n",
    "    matrix[np.tril_indices(N, k=-2)] = -1  \n",
    "\n",
    "    return matrix\n"
   ]
  },
  {
   "cell_type": "code",
   "execution_count": 116,
   "metadata": {},
   "outputs": [],
   "source": [
    "V_matrix_15 = create_V_matrix(15)\n",
    "polymer_1000, counter =  algorithm1_array(15, 1000)\n",
    "polymer_4, counter = algorithm1_array(15, 4)\n",
    "def Energy(V_matrix: list[int], polymer: list[int]) -> int:\n",
    "    \"\"\"\n",
    "    Function takes in V matrix and polymer and calculates energy in polymer\n",
    "    param: V_matrix: list[int]\n",
    "    param: polymer: list[int]\n",
    "    \"\"\"\n",
    "    energy = 0\n",
    "    b = 0 * np.ones((len(polymer), len(polymer)), dtype=int) \n",
    "    for i in polymer:\n",
    "        \n",
    "        neighbors = [\n",
    "            tuple(np.array(i) + np.array([1, 0])),\n",
    "            tuple(np.array(i) + np.array([-1, 0])),\n",
    "            tuple(np.array(i) + np.array([0, 1])),\n",
    "            tuple(np.array(i) + np.array([0, -1]))\n",
    "        ]\n",
    "        \n",
    "        \n",
    "        for neighbor in neighbors:\n",
    "            if neighbor in polymer:\n",
    "                index_i = polymer.index(i)\n",
    "                index_neighbor = polymer.index(neighbor)\n",
    "                if index_i == 1 + index_neighbor or index_i == index_neighbor -1:\n",
    "                    energy +=0\n",
    "                else:\n",
    "                    b[neighbor[0]][neighbor[1]] = 1                    \n",
    "    return np.sum(np.multiply(V_matrix, b))\n",
    "\n",
    "\n"
   ]
  },
  {
   "cell_type": "code",
   "execution_count": 124,
   "metadata": {},
   "outputs": [
    {
     "name": "stdout",
     "output_type": "stream",
     "text": [
      "0\n"
     ]
    }
   ],
   "source": [
    "#Test av energy\n",
    "def polymer_to_tuppel(polymer):\n",
    "    polymer1 = [tuple(row) for row in polymer]\n",
    "    return polymer1\n",
    "\n",
    "print(Energy(V_matrix_15, polymer_to_tuppel(polymer(15))))"
   ]
  },
  {
   "cell_type": "code",
   "execution_count": 117,
   "metadata": {},
   "outputs": [
    {
     "name": "stdout",
     "output_type": "stream",
     "text": [
      "snittverdi til energi for polymer med 4 rotasjoner er -0.6\n",
      "snittverdi til energi for polymer med 1000 rotasjoner er -1.87\n"
     ]
    }
   ],
   "source": [
    "def biggest_energy(N: int) -> None:\n",
    "    list4 = []\n",
    "    list1000 = []\n",
    "    for i in range(N):\n",
    "        polymer_4, counter = algorithm1_array(15, 4)\n",
    "        polymer_1000, counter = algorithm1_array(15, 1000)\n",
    "        list4.append(Energy(V_matrix_15, polymer_4))\n",
    "        list1000.append(Energy(V_matrix_15, polymer_1000))\n",
    "    print (f\"snittverdi til energi for polymer med 4 rotasjoner er {np.mean(list4)}\")    \n",
    "    print (f\"snittverdi til energi for polymer med 1000 rotasjoner er {np.mean(list1000)}\")\n",
    "\n",
    "\n",
    "biggest_energy(100)"
   ]
  },
  {
   "cell_type": "markdown",
   "metadata": {},
   "source": [
    "## Oppgave 2"
   ]
  },
  {
   "cell_type": "markdown",
   "metadata": {},
   "source": [
    "### 2a)"
   ]
  },
  {
   "cell_type": "code",
   "execution_count": 118,
   "metadata": {},
   "outputs": [],
   "source": [
    "def monte_carlo_sim(polymer: list[int], Ns: int, V: list[int], T: int) -> (list[int], list[int]):\n",
    "    E_array = np.zeros(Ns, dtype=float)\n",
    "    polymer1 = [tuple(row) for row in polymer]\n",
    "\n",
    "    E = Energy(V, polymer1)\n",
    "    print(E)\n",
    "    i = 1\n",
    "    \n",
    "    while i < Ns:\n",
    "        random_monomer_index = np.random.randint(1, len(polymer))\n",
    "        random_monomer = polymer[random_monomer_index]\n",
    "        counter_clockwise = np.random.choice([True, False])\n",
    "\n",
    "        rotated_polymer = rotate_polymer_np(polymer.tolist(), random_monomer, counter_clockwise)\n",
    "\n",
    "        if is_intact_polymer_np(rotated_polymer, len(polymer)):\n",
    "            rotated_polymer1 = [tuple(row) for row in rotated_polymer]\n",
    "            i += 1\n",
    "            Enew = Energy(V, rotated_polymer1)\n",
    "\n",
    "            if Enew < E or np.random.rand() < np.exp(-(1/((1.38*10**(-23))*T)) * (Enew - E)):\n",
    "                polymer = rotated_polymer\n",
    "                E = Enew\n",
    "\n",
    "            E_array[i-1] = E\n",
    "\n",
    "    return polymer, E_array\n",
    "\n"
   ]
  },
  {
   "cell_type": "code",
   "execution_count": 119,
   "metadata": {},
   "outputs": [
    {
     "name": "stdout",
     "output_type": "stream",
     "text": [
      "0\n",
      "0\n"
     ]
    },
    {
     "data": {
      "image/png": "[encoded data removed]",
      "text/plain": [
       "<Figure size 432x432 with 1 Axes>"
      ]
     },
     "metadata": {
      "needs_background": "light"
     },
     "output_type": "display_data"
    }
   ],
   "source": [
    "#test av kode 2a)\n",
    "monte_carlo_sim(polymer(15),200,create_V_matrix(15),75)\n",
    "poly, E_a = monte_carlo_sim(polymer(15),20,create_V_matrix(15),75)\n",
    "display_polymer(poly)"
   ]
  }
 ],
 "metadata": {
  "kernelspec": {
   "display_name": "base",
   "language": "python",
   "name": "python3"
  },
  "language_info": {
   "codemirror_mode": {
    "name": "ipython",
    "version": 3
   },
   "file_extension": ".py",
   "mimetype": "text/x-python",
   "name": "python",
   "nbconvert_exporter": "python",
   "pygments_lexer": "ipython3",
   "version": "3.9.12"
  }
 },
 "nbformat": 4,
 "nbformat_minor": 2
}
