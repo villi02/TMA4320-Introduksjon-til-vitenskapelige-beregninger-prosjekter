{
 "cells": [
  {
   "cell_type": "code",
   "execution_count": 1,
   "metadata": {},
   "outputs": [],
   "source": [
    "from data_generators import get_train_test_addition\n",
    "\n",
    "#dimensjoner og størrelser til x og y\n",
    "n_digits = 2\n",
    "n_max = 3*n_digits\n",
    "m = 10\n",
    "\n",
    "#definerer størrelsen på parametermatrisene\n",
    "d = 15\n",
    "k = 5\n",
    "p = 20\n",
    "\n",
    "#henter treningsdata\n",
    "data = get_train_test_addition(n_digits,samples_per_batch=250,n_batches_train=10)"
   ]
  },
  {
   "cell_type": "code",
   "execution_count": 17,
   "metadata": {},
   "outputs": [
    {
     "name": "stdout",
     "output_type": "stream",
     "text": [
      "[[7 9 7 6 5 5]\n",
      " [1 3 9 5 8 0]\n",
      " [9 8 8 2 0 8]\n",
      " ...\n",
      " [4 5 0 0 5 4]\n",
      " [8 8 8 6 4 7]\n",
      " [7 2 0 2 4 7]]\n"
     ]
    }
   ],
   "source": [
    "from utils import onehot\n",
    "x = data['x_train'][0]\n",
    "X = onehot(x,m)\n",
    "y = data['y_train'][0]\n"
   ]
  },
  {
   "cell_type": "code",
   "execution_count": 3,
   "metadata": {},
   "outputs": [
    {
     "data": {
      "text/plain": [
       "(10, 250, 6)"
      ]
     },
     "execution_count": 3,
     "metadata": {},
     "output_type": "execute_result"
    }
   ],
   "source": [
    "data['x_train'].shape"
   ]
  },
  {
   "cell_type": "code",
   "execution_count": 4,
   "metadata": {},
   "outputs": [],
   "source": [
    "from layers import LinearLayer,EmbedPosition,Attention,Softmax,CrossEntropy,FeedForward\n",
    "\n",
    "embed = EmbedPosition(n_max,m,d)\n",
    "att1 = Attention(d,k)\n",
    "ff1 = FeedForward(d,p)\n",
    "un_embed = LinearLayer(d,m)\n",
    "softmax = Softmax()\n",
    "loss = CrossEntropy()"
   ]
  },
  {
   "cell_type": "code",
   "execution_count": 5,
   "metadata": {},
   "outputs": [
    {
     "data": {
      "text/plain": [
       "array([[0., 0., 0., 0., 0., 0., 0., 0., 0., 0., 0., 0., 0., 0., 0., 0.,\n",
       "        0., 0., 0., 0.],\n",
       "       [0., 0., 0., 0., 0., 0., 0., 0., 0., 0., 0., 0., 0., 0., 0., 0.,\n",
       "        0., 0., 0., 0.],\n",
       "       [0., 0., 0., 0., 0., 0., 0., 0., 0., 0., 0., 0., 0., 0., 0., 0.,\n",
       "        0., 0., 0., 0.],\n",
       "       [0., 0., 0., 0., 0., 0., 0., 0., 0., 0., 0., 0., 0., 0., 0., 0.,\n",
       "        0., 0., 0., 0.],\n",
       "       [0., 0., 0., 0., 0., 0., 0., 0., 0., 0., 0., 0., 0., 0., 0., 0.,\n",
       "        0., 0., 0., 0.],\n",
       "       [0., 0., 0., 0., 0., 0., 0., 0., 0., 0., 0., 0., 0., 0., 0., 0.,\n",
       "        0., 0., 0., 0.],\n",
       "       [0., 0., 0., 0., 0., 0., 0., 0., 0., 0., 0., 0., 0., 0., 0., 0.,\n",
       "        0., 0., 0., 0.],\n",
       "       [0., 0., 0., 0., 0., 0., 0., 0., 0., 0., 0., 0., 0., 0., 0., 0.,\n",
       "        0., 0., 0., 0.],\n",
       "       [0., 0., 0., 0., 0., 0., 0., 0., 0., 0., 0., 0., 0., 0., 0., 0.,\n",
       "        0., 0., 0., 0.],\n",
       "       [0., 0., 0., 0., 0., 0., 0., 0., 0., 0., 0., 0., 0., 0., 0., 0.,\n",
       "        0., 0., 0., 0.],\n",
       "       [0., 0., 0., 0., 0., 0., 0., 0., 0., 0., 0., 0., 0., 0., 0., 0.,\n",
       "        0., 0., 0., 0.],\n",
       "       [0., 0., 0., 0., 0., 0., 0., 0., 0., 0., 0., 0., 0., 0., 0., 0.,\n",
       "        0., 0., 0., 0.],\n",
       "       [0., 0., 0., 0., 0., 0., 0., 0., 0., 0., 0., 0., 0., 0., 0., 0.,\n",
       "        0., 0., 0., 0.],\n",
       "       [0., 0., 0., 0., 0., 0., 0., 0., 0., 0., 0., 0., 0., 0., 0., 0.,\n",
       "        0., 0., 0., 0.],\n",
       "       [0., 0., 0., 0., 0., 0., 0., 0., 0., 0., 0., 0., 0., 0., 0., 0.,\n",
       "        0., 0., 0., 0.]])"
      ]
     },
     "execution_count": 5,
     "metadata": {},
     "output_type": "execute_result"
    }
   ],
   "source": [
    "#vi ser at dLdW_2 tilhørende ff1 (først finner vi det lineære laget l2\n",
    "#så nøkkel 'w' i params dict-en, så nøkkel 'd' for å finne den deriverte)\n",
    "#nå er denne bare en nullmatrise \n",
    "ff1.l2.params['w']['d']"
   ]
  },
  {
   "cell_type": "code",
   "execution_count": 6,
   "metadata": {},
   "outputs": [],
   "source": [
    "#\"manuelt\" forward pass (tilsvarende algoritme 1)\n",
    "z0 = embed.forward(X)\n",
    "z1 = att1.forward(z0)\n",
    "z2 = ff1.forward(z1)\n",
    "z = un_embed.forward(z2)\n",
    "Z = softmax.forward(z)"
   ]
  },
  {
   "cell_type": "code",
   "execution_count": 7,
   "metadata": {},
   "outputs": [
    {
     "name": "stdout",
     "output_type": "stream",
     "text": [
      "3.4231831482353057\n"
     ]
    }
   ],
   "source": [
    "#evaluerer objektfunksjonen\n",
    "L = loss.forward(Z,y)\n",
    "print(L)\n",
    "\n",
    "#finner den deriverte av objektfunksjonen mhp Z\n",
    "dLdZ = loss.backward()"
   ]
  },
  {
   "cell_type": "code",
   "execution_count": 8,
   "metadata": {},
   "outputs": [
    {
     "name": "stdout",
     "output_type": "stream",
     "text": [
      "1\n",
      "2\n",
      "3\n",
      "4\n"
     ]
    }
   ],
   "source": [
    "#\"manuelt\" backward pass (tilsvarende algoritme 2)\n",
    "dLdz = softmax.backward(dLdZ)\n",
    "print('1')\n",
    "dLdz2 = un_embed.backward(dLdz)\n",
    "print('2')\n",
    "dLdz1 = ff1.backward(dLdz2)\n",
    "print('3')\n",
    "dLdz0 = att1.backward(dLdz1)\n",
    "print('4')\n",
    "embed.backward(dLdz0)"
   ]
  },
  {
   "cell_type": "code",
   "execution_count": 9,
   "metadata": {},
   "outputs": [
    {
     "data": {
      "text/plain": [
       "array([[-6.38806003e+00, -2.99444477e-01, -1.45927342e+01,\n",
       "        -5.08362207e-01, -8.56967102e-01, -1.73191581e+00,\n",
       "        -3.15676764e-01, -1.26316226e+00, -3.39248952e+00,\n",
       "        -5.59953067e+00, -9.84819831e-01, -7.89410687e+00,\n",
       "        -1.50163900e+01, -4.51241599e-01, -3.04956261e-01,\n",
       "        -5.14918852e-01, -8.37545279e+00, -3.05612111e-01,\n",
       "        -1.91411313e+00, -3.80217145e+00],\n",
       "       [ 3.16795158e+00,  1.09867440e-01,  5.21761901e+00,\n",
       "         2.90648292e-01,  2.65042533e-01,  1.38312954e+00,\n",
       "        -6.47579509e-02,  9.13934737e-01,  2.58148314e+00,\n",
       "         3.98399685e+00, -1.75393977e-01,  2.55624594e+00,\n",
       "         7.00394452e+00,  6.90439049e-02,  3.23275803e-03,\n",
       "        -1.55308826e-01,  3.39344240e+00,  2.27491592e-01,\n",
       "         4.87125561e-01,  1.95533273e+00],\n",
       "       [-1.80159038e+01,  1.65465617e-01, -3.75358147e+01,\n",
       "        -3.57483344e-01,  7.02278071e-01, -3.72295678e+00,\n",
       "         1.81857397e-01, -2.37208151e+00,  5.85924807e-01,\n",
       "        -1.22340650e-01, -4.56952316e-01, -1.79805662e+01,\n",
       "        -4.16251716e+01,  1.26815774e-02, -2.55907064e-01,\n",
       "         8.67902081e-01, -1.92832625e+01, -4.66962457e-01,\n",
       "        -3.27482578e+00, -9.61952286e+00],\n",
       "       [ 9.76489513e+00, -6.57872801e-02,  1.99582164e+01,\n",
       "         1.10972979e-01, -4.26948757e-02,  2.08102090e+00,\n",
       "        -5.80818710e-02,  1.52004079e+00,  7.66318941e-01,\n",
       "         1.89184749e+00,  2.27670622e-01,  9.43085562e+00,\n",
       "         2.29049747e+01,  1.73893964e-02,  5.37603081e-02,\n",
       "        -1.70704455e-01,  1.03292100e+01,  1.40960370e-01,\n",
       "         1.82882381e+00,  4.98217802e+00],\n",
       "       [ 5.39147063e+00, -1.22999785e-01,  1.19411412e+01,\n",
       "        -8.32520992e-01,  4.47731065e-01,  1.83764343e+00,\n",
       "        -4.18588104e-01,  1.21492233e+00,  3.07952796e+00,\n",
       "         5.74458538e+00, -5.31582149e-01,  5.81060290e+00,\n",
       "         1.63706778e+01, -6.02756067e-01, -1.53735690e-01,\n",
       "        -4.37969989e-01,  4.15806373e+00, -4.99544316e-01,\n",
       "         6.63528202e-01,  2.27192829e+00],\n",
       "       [-3.04896321e+00,  3.85585216e-01, -2.33218677e+00,\n",
       "        -1.73057242e-03, -2.84890879e-01, -1.64130880e+00,\n",
       "         9.15839829e-01, -1.65932845e+00, -3.07125511e+00,\n",
       "        -5.12903909e+00,  1.71025471e+00, -4.65113912e-01,\n",
       "        -7.06034028e+00,  6.63484953e-01,  3.05872990e-01,\n",
       "         1.13662936e+00, -1.83469258e+00, -2.57147650e-01,\n",
       "         8.05693703e-03, -1.82858652e+00],\n",
       "       [ 4.78327707e+00, -1.76642739e-01,  1.17618112e+01,\n",
       "         2.86358753e-01, -2.01294048e-01,  8.12792090e-01,\n",
       "        -2.84301448e-01,  6.91686568e-01, -7.76342809e-01,\n",
       "        -8.99330077e-01,  2.95400422e-01,  6.42335044e+00,\n",
       "         1.09644396e+01, -1.75355350e-01,  3.14444289e-01,\n",
       "        -8.27188415e-01,  5.83558632e+00,  4.49652023e-01,\n",
       "         1.22929227e+00,  3.09645589e+00],\n",
       "       [ 5.26477011e-01,  4.98190174e-01,  6.67707776e+00,\n",
       "        -6.57892544e-01,  5.91055530e-01,  3.43509771e-01,\n",
       "         5.92081797e-01, -6.26140340e-01,  1.61025682e+00,\n",
       "         2.68187938e+00,  1.14023482e+00,  4.26542753e+00,\n",
       "         5.55630903e+00,  1.60824619e-01,  4.92310779e-02,\n",
       "         9.93040307e-01,  1.16037145e+00, -7.53494498e-01,\n",
       "         4.42796429e-01, -2.25054110e-01],\n",
       "       [-4.82138115e+00,  7.89954795e-02, -1.18528287e+01,\n",
       "        -8.12927068e-01,  6.97348593e-01,  1.41981887e-01,\n",
       "        -2.12170968e-01, -3.40284469e-01,  3.87247863e+00,\n",
       "         5.90214533e+00, -1.11516088e+00, -6.50450888e+00,\n",
       "        -8.81286854e+00, -4.11438562e-01, -5.69014030e-01,\n",
       "         2.76270494e-01, -6.24578321e+00, -7.60015818e-01,\n",
       "        -1.45418896e+00, -3.10684637e+00],\n",
       "       [ 9.32185944e+00,  2.26505726e-01,  2.25388397e+01,\n",
       "        -2.26200932e-01,  6.94120900e-01,  2.35791315e+00,\n",
       "         1.20780413e-01,  1.83821673e+00,  3.34161893e+00,\n",
       "         6.07871254e+00,  6.07171591e-01,  1.17727503e+01,\n",
       "         2.52222507e+01, -4.32891237e-02,  6.05225391e-02,\n",
       "         2.72759786e-01,  9.28989316e+00, -1.81295503e-01,\n",
       "         1.85250823e+00,  4.34427734e+00],\n",
       "       [ 3.68728434e+00,  1.96895578e-01,  2.42492612e+00,\n",
       "         1.12410527e+00,  6.25381074e-01,  1.34057364e+00,\n",
       "         2.57412841e-01,  1.56007798e+00,  3.59908586e+00,\n",
       "         5.50819779e+00,  1.17643583e-01,  8.42089494e-01,\n",
       "         4.73124197e+00,  7.73181640e-01,  2.23521983e-01,\n",
       "         5.38237228e-01,  4.55310292e+00,  7.62682684e-01,\n",
       "         9.42091338e-01,  2.63848677e+00],\n",
       "       [-2.48853839e+00,  2.49433709e-02, -8.05837654e+00,\n",
       "         1.65107614e-01,  5.06559848e-01,  4.38674588e-01,\n",
       "        -2.86128498e-01,  7.78738256e-01,  3.72894816e+00,\n",
       "         5.58666105e+00, -8.17955312e-01, -3.83745377e+00,\n",
       "        -6.17225941e+00, -1.37309292e-01, -7.88555735e-02,\n",
       "        -3.41019163e-01, -3.79808535e+00,  2.16369190e-01,\n",
       "        -8.19757113e-01, -1.10344701e+00],\n",
       "       [-3.26204594e+00,  3.96744445e-01, -5.65362016e+00,\n",
       "         5.97533283e-01,  4.56321645e-02, -1.26623396e+00,\n",
       "         7.32800536e-01, -8.24954523e-01, -1.93546958e+00,\n",
       "        -3.54723258e+00,  7.99380776e-01, -2.34118098e+00,\n",
       "        -8.76535637e+00,  8.10257540e-01,  1.59802359e-01,\n",
       "         1.27243796e+00, -2.59198423e+00,  1.49294540e-01,\n",
       "        -2.57827831e-01, -1.54554651e+00],\n",
       "       [ 4.85306252e+00, -1.13782057e-01,  6.72410912e+00,\n",
       "         5.04276308e-01, -1.27109781e-01,  1.23510021e+00,\n",
       "        -1.69734984e-01,  1.25777632e+00,  8.41628286e-01,\n",
       "         1.47138306e+00, -3.63774401e-01,  2.73663538e+00,\n",
       "         9.22703212e+00,  1.12762927e-01,  3.33522740e-02,\n",
       "        -3.35990931e-01,  4.76409320e+00,  4.69084906e-01,\n",
       "         7.01054811e-01,  2.78946567e+00],\n",
       "       [ 3.07137165e+01, -3.70950256e-02,  6.63596762e+01,\n",
       "        -4.56733371e-01,  1.30378798e+00,  8.38993771e+00,\n",
       "        -7.50270543e-01,  5.80735771e+00,  9.42777607e+00,\n",
       "         1.73884299e+01,  2.30039470e-02,  3.30444460e+01,\n",
       "         7.82589953e+01, -7.15633905e-01,  1.55572073e-01,\n",
       "        -1.13326305e+00,  3.14579867e+01, -1.17833329e-02,\n",
       "         5.70008616e+00,  1.59216250e+01]])"
      ]
     },
     "execution_count": 9,
     "metadata": {},
     "output_type": "execute_result"
    }
   ],
   "source": [
    "#etter backward pass har dLdW_2 fått verdier\n",
    "ff1.l2.params['w']['d']"
   ]
  },
  {
   "cell_type": "code",
   "execution_count": 10,
   "metadata": {},
   "outputs": [],
   "source": [
    "from neural_network import NeuralNetwork\n",
    "\n",
    "#vi kan samle lagene i en liste som vi bruker for å\n",
    "#initialisere et nevralt nettverk der vi kan bruke forward() og backward() \n",
    "#for å oppnå det samme som vi gjorde manuelt over\n",
    "\n",
    "layers = [embed,att1,ff1,un_embed,softmax]\n",
    "nn = NeuralNetwork(layers)"
   ]
  },
  {
   "cell_type": "code",
   "execution_count": 11,
   "metadata": {},
   "outputs": [
    {
     "name": "stdout",
     "output_type": "stream",
     "text": [
      "3.4231831482353057\n"
     ]
    }
   ],
   "source": [
    "#forward pass tilsvarende algoritme 1\n",
    "Z = nn.forward(X)\n",
    "\n",
    "#beregner loss med CrossEntropy\n",
    "L = loss.forward(Z,y)\n",
    "print(L)\n",
    "\n",
    "#backward pass tilsvarende algoritme 2\n",
    "dLdZ = loss.backward()\n",
    "nn.backward(dLdZ)"
   ]
  },
  {
   "cell_type": "code",
   "execution_count": 12,
   "metadata": {},
   "outputs": [
    {
     "name": "stdout",
     "output_type": "stream",
     "text": [
      "-0.04848045427527831\n"
     ]
    }
   ],
   "source": [
    "#før optimering er W_2[0,0] gitt ved\n",
    "#ff1 er det tredje laget i layers-listen (derav layers[2])\n",
    "W_2_pre_opt = nn.layers[2].l2.params['w']['w'].copy()\n",
    "print(W_2_pre_opt[0,0])"
   ]
  },
  {
   "cell_type": "code",
   "execution_count": 16,
   "metadata": {},
   "outputs": [
    {
     "name": "stdout",
     "output_type": "stream",
     "text": [
      "10\n",
      "(250, 6)\n",
      "loss for iteration 1: 3.1329952623389086\n",
      "loss for iteration 2: 3.4101361367573544\n",
      "loss for iteration 3: 2.725690774216228\n",
      "loss for iteration 4: 2.727034401502436\n",
      "loss for iteration 5: 2.8673749940609965\n",
      "loss for iteration 6: 2.7404357695305857\n",
      "loss for iteration 7: 2.981984780897206\n",
      "loss for iteration 8: 2.8219222680712215\n",
      "loss for iteration 9: 2.8496901050466477\n",
      "loss for iteration 10: 2.7943758169517854\n",
      "loss for iteration 11: 2.713482642234107\n",
      "loss for iteration 12: 3.1569842574665685\n",
      "loss for iteration 13: 2.8216370216619877\n",
      "loss for iteration 14: 3.3551766660840943\n",
      "loss for iteration 15: 3.369798443375579\n",
      "loss for iteration 16: 3.195784394326838\n",
      "loss for iteration 17: 3.1971303496700285\n",
      "loss for iteration 18: 2.994567258138612\n",
      "loss for iteration 19: 2.9296187617920904\n",
      "loss for iteration 20: 3.0616364200898474\n",
      "loss for iteration 21: 3.071784390135877\n",
      "loss for iteration 22: 2.725032756866731\n",
      "loss for iteration 23: 3.221161811298082\n",
      "loss for iteration 24: 4.237299452939367\n",
      "loss for iteration 25: 3.8132136149459246\n",
      "loss for iteration 26: 3.3963162278339407\n",
      "loss for iteration 27: 3.7556196092289476\n",
      "loss for iteration 28: 4.438418651757945\n",
      "loss for iteration 29: 4.285675553435465\n",
      "loss for iteration 30: 4.705497064191562\n",
      "loss for iteration 31: 5.183566307988591\n",
      "loss for iteration 32: 5.313131530890696\n",
      "loss for iteration 33: 5.568334005676981\n",
      "loss for iteration 34: 4.952075293277797\n",
      "loss for iteration 35: 5.046039980104754\n",
      "loss for iteration 36: 4.782570778117655\n",
      "loss for iteration 37: 4.834726548739499\n",
      "loss for iteration 38: 5.125586848374716\n",
      "loss for iteration 39: 5.128698443590163\n",
      "loss for iteration 40: 5.972245547630618\n",
      "loss for iteration 41: 6.09145332183622\n",
      "loss for iteration 42: 5.549742418493768\n",
      "loss for iteration 43: 5.911143947922908\n",
      "loss for iteration 44: 7.280578155331857\n",
      "loss for iteration 45: 6.503885704072467\n",
      "loss for iteration 46: 7.147212263790398\n",
      "loss for iteration 47: 7.339336853971045\n",
      "loss for iteration 48: 7.27996999996498\n",
      "loss for iteration 49: 8.162181429957153\n",
      "loss for iteration 50: 7.392929718817881\n",
      "loss for iteration 51: 9.239559820443462\n",
      "loss for iteration 52: 8.364279047839396\n",
      "loss for iteration 53: 8.662763284812117\n",
      "loss for iteration 54: 9.75301374805292\n",
      "loss for iteration 55: 9.309694494690504\n",
      "loss for iteration 56: 9.448755180427666\n",
      "loss for iteration 57: 9.809888920338\n",
      "loss for iteration 58: 9.278885367442204\n",
      "loss for iteration 59: 8.61569571243682\n",
      "loss for iteration 60: 7.9853345664868245\n",
      "loss for iteration 61: 7.950532277341787\n",
      "loss for iteration 62: 7.628973909726483\n",
      "loss for iteration 63: 7.864323700324023\n",
      "loss for iteration 64: 7.233054719168723\n",
      "loss for iteration 65: 6.749585095315313\n",
      "loss for iteration 66: 7.187358127791678\n",
      "loss for iteration 67: 6.767774721559306\n",
      "loss for iteration 68: 6.769134549501303\n",
      "loss for iteration 69: 6.913515058767908\n",
      "loss for iteration 70: 6.541055025554239\n",
      "loss for iteration 71: 6.359139678055852\n",
      "loss for iteration 72: 6.24271617566442\n",
      "loss for iteration 73: 6.349029373534103\n",
      "loss for iteration 74: 6.5097296026684575\n",
      "loss for iteration 75: 6.242341661107414\n",
      "loss for iteration 76: 5.94891568315067\n",
      "loss for iteration 77: 6.048679873876808\n",
      "loss for iteration 78: 5.853345010468042\n",
      "loss for iteration 79: 6.123020985658491\n",
      "loss for iteration 80: 6.27241843367672\n",
      "loss for iteration 81: 5.936461254437313\n",
      "loss for iteration 82: 5.9439422136634406\n",
      "loss for iteration 83: 6.162067421922523\n",
      "loss for iteration 84: 7.120458542161713\n",
      "loss for iteration 85: 6.640302401849053\n",
      "loss for iteration 86: 7.19271054410065\n",
      "loss for iteration 87: 7.33491961009572\n",
      "loss for iteration 88: 7.729473928476288\n",
      "loss for iteration 89: 7.826685672328849\n",
      "loss for iteration 90: 7.900939738795526\n",
      "loss for iteration 91: 7.077004342378324\n",
      "loss for iteration 92: 7.049918748556287\n",
      "loss for iteration 93: 7.415119776101647\n",
      "loss for iteration 94: 7.322203277703409\n",
      "loss for iteration 95: 7.458910522212488\n",
      "loss for iteration 96: 8.221692785410092\n",
      "loss for iteration 97: 10.560766262444826\n",
      "loss for iteration 98: 10.449537883576628\n",
      "loss for iteration 99: 10.51473387705478\n"
     ]
    }
   ],
   "source": [
    "import numpy as np\n",
    "x = data['x_train'][0]\n",
    "print(m)\n",
    "X = onehot(x,m)\n",
    "y = data['y_train'][0]\n",
    "print(x.shape)\n",
    "def algorithm_4(x, y, m , d, p, k, n_max):\n",
    "    n_iter = 100\n",
    "    loss = CrossEntropy()\n",
    "    L_arr = np.zeros(n_iter)\n",
    "    feed_forward1 = FeedForward(d,p)\n",
    "    attention1 = Attention(d,k)\n",
    "    embed_pos = EmbedPosition(n_max,m,d)\n",
    "    un_embed_pos = LinearLayer(d,m)\n",
    "    softmax = Softmax()\n",
    "    layers = [embed_pos, attention1,feed_forward1, un_embed_pos, softmax]\n",
    "    nueralnet = NeuralNetwork(layers)\n",
    "\n",
    "    alpha = 0.001\n",
    "    Losses = []\n",
    "    for j in range(1,n_iter):\n",
    "        X = onehot(x, m)\n",
    "        Z = nueralnet.forward(X) \n",
    "        Losses.append(loss.forward(Z,y))\n",
    "        dLdz = loss.backward()\n",
    "        nueralnet.backward(dLdz) \n",
    "        layers[0].step_gd(alpha)\n",
    "        layers[1].step_adam(j, alpha)\n",
    "        layers[2].step_gd(alpha)\n",
    "        layers[3].step_adam(j, alpha)\n",
    "        print(f'loss for iteration {j}: {loss.forward(Z,y)}') \n",
    "    return Losses   \n",
    "\n",
    "arr = algorithm_4(x, y, m , d, p, k, n_max)"
   ]
  },
  {
   "cell_type": "code",
   "execution_count": null,
   "metadata": {},
   "outputs": [
    {
     "data": {
      "image/png": "[encoded data removed]",
      "text/plain": [
       "<Figure size 640x480 with 1 Axes>"
      ]
     },
     "metadata": {},
     "output_type": "display_data"
    }
   ],
   "source": [
    "import matplotlib.pyplot as plt\n",
    "plt.plot(np.linspace(0,100,len(arr)),np.log(arr))\n",
    "plt.xlabel('Iterasjoner')\n",
    "plt.ylabel('Logaritmen av losset')\n",
    "plt.title('Plot av feil')\n",
    "plt.show()"
   ]
  },
  {
   "cell_type": "code",
   "execution_count": null,
   "metadata": {},
   "outputs": [
    {
     "name": "stdout",
     "output_type": "stream",
     "text": [
      "0.03835633844623216\n",
      "0.0\n"
     ]
    }
   ],
   "source": [
    "#etter trening ser vi at W_2 er gitt ved\n",
    "\n",
    "W_2_post_opt = nn.layers[2].l2.params['w']['w'].copy()\n",
    "print(W_2_post_opt[0,0])\n",
    "\n",
    "#dersom differansen er større enn null har dette parameteret endret seg etter \n",
    "#gradient descent\n",
    "print(W_2_post_opt[0,0] - W_2_pre_opt[0,0])\n",
    "\n",
    "\n"
   ]
  }
 ],
 "metadata": {
  "kernelspec": {
   "display_name": "Python 3",
   "language": "python",
   "name": "python3"
  },
  "language_info": {
   "codemirror_mode": {
    "name": "ipython",
    "version": 3
   },
   "file_extension": ".py",
   "mimetype": "text/x-python",
   "name": "python",
   "nbconvert_exporter": "python",
   "pygments_lexer": "ipython3",
   "version": "3.11.5"
  }
 },
 "nbformat": 4,
 "nbformat_minor": 2
}
