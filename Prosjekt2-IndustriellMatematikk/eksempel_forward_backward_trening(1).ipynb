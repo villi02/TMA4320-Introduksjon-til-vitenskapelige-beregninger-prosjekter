{
 "cells": [
  {
   "cell_type": "code",
   "execution_count": 1,
   "metadata": {},
   "outputs": [],
   "source": [
    "from data_generators import get_train_test_addition\n",
    "\n",
    "#dimensjoner og størrelser til x og y\n",
    "n_digits = 2\n",
    "n_max = 3*n_digits\n",
    "m = 10\n",
    "\n",
    "#definerer størrelsen på parametermatrisene\n",
    "d = 15\n",
    "k = 5\n",
    "p = 20\n",
    "\n",
    "#henter treningsdata\n",
    "data = get_train_test_addition(n_digits,samples_per_batch=100,n_batches_train=4)"
   ]
  },
  {
   "cell_type": "code",
   "execution_count": 2,
   "metadata": {},
   "outputs": [],
   "source": [
    "from utils import onehot\n",
    "\n",
    "x = data['x_train'][0]\n",
    "X = onehot(x,m)\n",
    "y = data['y_train'][0]"
   ]
  },
  {
   "cell_type": "code",
   "execution_count": 3,
   "metadata": {},
   "outputs": [
    {
     "data": {
      "text/plain": [
       "(4, 100, 6)"
      ]
     },
     "execution_count": 3,
     "metadata": {},
     "output_type": "execute_result"
    }
   ],
   "source": [
    "data['x_train'].shape"
   ]
  },
  {
   "cell_type": "code",
   "execution_count": 4,
   "metadata": {},
   "outputs": [],
   "source": [
    "from layers import LinearLayer,EmbedPosition,Attention,Softmax,CrossEntropy,FeedForward\n",
    "\n",
    "embed = EmbedPosition(n_max,m,d)\n",
    "att1 = Attention(d,k)\n",
    "ff1 = FeedForward(d,p)\n",
    "un_embed = LinearLayer(d,m)\n",
    "softmax = Softmax()\n",
    "loss = CrossEntropy()"
   ]
  },
  {
   "cell_type": "code",
   "execution_count": 5,
   "metadata": {},
   "outputs": [
    {
     "data": {
      "text/plain": [
       "array([[0., 0., 0., 0., 0., 0., 0., 0., 0., 0., 0., 0., 0., 0., 0., 0.,\n",
       "        0., 0., 0., 0.],\n",
       "       [0., 0., 0., 0., 0., 0., 0., 0., 0., 0., 0., 0., 0., 0., 0., 0.,\n",
       "        0., 0., 0., 0.],\n",
       "       [0., 0., 0., 0., 0., 0., 0., 0., 0., 0., 0., 0., 0., 0., 0., 0.,\n",
       "        0., 0., 0., 0.],\n",
       "       [0., 0., 0., 0., 0., 0., 0., 0., 0., 0., 0., 0., 0., 0., 0., 0.,\n",
       "        0., 0., 0., 0.],\n",
       "       [0., 0., 0., 0., 0., 0., 0., 0., 0., 0., 0., 0., 0., 0., 0., 0.,\n",
       "        0., 0., 0., 0.],\n",
       "       [0., 0., 0., 0., 0., 0., 0., 0., 0., 0., 0., 0., 0., 0., 0., 0.,\n",
       "        0., 0., 0., 0.],\n",
       "       [0., 0., 0., 0., 0., 0., 0., 0., 0., 0., 0., 0., 0., 0., 0., 0.,\n",
       "        0., 0., 0., 0.],\n",
       "       [0., 0., 0., 0., 0., 0., 0., 0., 0., 0., 0., 0., 0., 0., 0., 0.,\n",
       "        0., 0., 0., 0.],\n",
       "       [0., 0., 0., 0., 0., 0., 0., 0., 0., 0., 0., 0., 0., 0., 0., 0.,\n",
       "        0., 0., 0., 0.],\n",
       "       [0., 0., 0., 0., 0., 0., 0., 0., 0., 0., 0., 0., 0., 0., 0., 0.,\n",
       "        0., 0., 0., 0.],\n",
       "       [0., 0., 0., 0., 0., 0., 0., 0., 0., 0., 0., 0., 0., 0., 0., 0.,\n",
       "        0., 0., 0., 0.],\n",
       "       [0., 0., 0., 0., 0., 0., 0., 0., 0., 0., 0., 0., 0., 0., 0., 0.,\n",
       "        0., 0., 0., 0.],\n",
       "       [0., 0., 0., 0., 0., 0., 0., 0., 0., 0., 0., 0., 0., 0., 0., 0.,\n",
       "        0., 0., 0., 0.],\n",
       "       [0., 0., 0., 0., 0., 0., 0., 0., 0., 0., 0., 0., 0., 0., 0., 0.,\n",
       "        0., 0., 0., 0.],\n",
       "       [0., 0., 0., 0., 0., 0., 0., 0., 0., 0., 0., 0., 0., 0., 0., 0.,\n",
       "        0., 0., 0., 0.]])"
      ]
     },
     "execution_count": 5,
     "metadata": {},
     "output_type": "execute_result"
    }
   ],
   "source": [
    "#vi ser at dLdW_2 tilhørende ff1 (først finner vi det lineære laget l2\n",
    "#så nøkkel 'w' i params dict-en, så nøkkel 'd' for å finne den deriverte)\n",
    "#nå er denne bare en nullmatrise \n",
    "ff1.l2.params['w']['d']"
   ]
  },
  {
   "cell_type": "code",
   "execution_count": 6,
   "metadata": {},
   "outputs": [],
   "source": [
    "#\"manuelt\" forward pass (tilsvarende algoritme 1)\n",
    "z0 = embed.forward(X)\n",
    "z1 = att1.forward(z0)\n",
    "z2 = ff1.forward(z1)\n",
    "z = un_embed.forward(z2)\n",
    "Z = softmax.forward(z)"
   ]
  },
  {
   "cell_type": "code",
   "execution_count": 7,
   "metadata": {},
   "outputs": [
    {
     "name": "stdout",
     "output_type": "stream",
     "text": [
      "1.9007710898666448\n"
     ]
    }
   ],
   "source": [
    "#evaluerer objektfunksjonen\n",
    "L = loss.forward(Z,y)\n",
    "print(L)\n",
    "\n",
    "#finner den deriverte av objektfunksjonen mhp Z\n",
    "dLdZ = loss.backward()"
   ]
  },
  {
   "cell_type": "code",
   "execution_count": 8,
   "metadata": {},
   "outputs": [
    {
     "name": "stdout",
     "output_type": "stream",
     "text": [
      "1\n",
      "2\n",
      "3\n",
      "4\n"
     ]
    }
   ],
   "source": [
    "#\"manuelt\" backward pass (tilsvarende algoritme 2)\n",
    "dLdz = softmax.backward(dLdZ)\n",
    "print('1')\n",
    "dLdz2 = un_embed.backward(dLdz)\n",
    "print('2')\n",
    "dLdz1 = ff1.backward(dLdz2)\n",
    "print('3')\n",
    "dLdz0 = att1.backward(dLdz1)\n",
    "print('4')\n",
    "embed.backward(dLdz0)"
   ]
  },
  {
   "cell_type": "code",
   "execution_count": 9,
   "metadata": {},
   "outputs": [
    {
     "data": {
      "text/plain": [
       "array([[-9.31302036e-03, -7.78563884e-03, -5.31467154e-03,\n",
       "        -3.06476149e-03, -9.87308398e-03, -5.34037714e-03,\n",
       "        -1.39988929e-02, -6.71750209e-03, -4.06823232e-03,\n",
       "        -1.87126241e-02, -6.82591148e-03, -6.13680596e-03,\n",
       "        -8.44116421e-03, -1.19555055e-02, -6.11249794e-03,\n",
       "        -5.26043779e-03, -2.42859231e-03, -7.06331154e-03,\n",
       "        -7.32015086e-03, -1.17951395e-02],\n",
       "       [ 2.08125401e-03,  1.93547960e-03,  1.07965174e-03,\n",
       "         6.83997348e-04,  2.23864213e-03,  1.06941532e-03,\n",
       "         3.01365723e-03,  1.59921652e-03,  9.43065110e-04,\n",
       "         4.14817778e-03,  1.53097418e-03,  1.28241110e-03,\n",
       "         1.86259158e-03,  2.88737567e-03,  1.36843953e-03,\n",
       "         1.36260173e-03,  4.52138385e-04,  1.40493357e-03,\n",
       "         1.61299995e-03,  2.54720331e-03],\n",
       "       [-5.64644618e-03, -4.93780064e-03, -3.23882630e-03,\n",
       "        -1.64962582e-03, -6.00421948e-03, -2.67912532e-03,\n",
       "        -7.83796952e-03, -4.04616234e-03, -2.42155707e-03,\n",
       "        -1.03236067e-02, -4.13178484e-03, -3.10350432e-03,\n",
       "        -3.86070271e-03, -6.71023206e-03, -3.28174580e-03,\n",
       "        -3.35787859e-03, -1.46179712e-03, -3.99781230e-03,\n",
       "        -4.30847744e-03, -6.64670618e-03],\n",
       "       [-4.24963583e-03, -3.54491988e-03, -2.74133797e-03,\n",
       "        -1.37058614e-03, -4.57973293e-03, -2.51207807e-03,\n",
       "        -6.23072003e-03, -3.13077361e-03, -1.83063733e-03,\n",
       "        -8.69737144e-03, -3.05741311e-03, -2.68953750e-03,\n",
       "        -3.79906687e-03, -5.26125208e-03, -2.61261699e-03,\n",
       "        -2.31635707e-03, -1.08482639e-03, -3.66184236e-03,\n",
       "        -3.44393466e-03, -5.49366946e-03],\n",
       "       [-6.89857327e-04, -6.64935627e-04, -5.59557487e-04,\n",
       "        -1.37663556e-04, -8.03773144e-04, -4.50886618e-04,\n",
       "        -1.02939571e-03, -6.18685024e-04, -4.28134878e-04,\n",
       "        -1.63579427e-03, -5.40228724e-04, -2.48869351e-04,\n",
       "        -5.88596109e-04, -1.26473237e-03, -5.12571727e-04,\n",
       "        -4.10988778e-04, -2.01385996e-04, -8.04049861e-04,\n",
       "        -6.31557847e-04, -9.67453987e-04],\n",
       "       [-3.52862518e-03, -3.00277622e-03, -2.11927195e-03,\n",
       "        -1.31005784e-03, -3.78875938e-03, -2.23472665e-03,\n",
       "        -5.64250799e-03, -2.70983427e-03, -1.55717096e-03,\n",
       "        -7.60546118e-03, -2.48004667e-03, -2.71666791e-03,\n",
       "        -3.98798984e-03, -4.87791298e-03, -2.52233910e-03,\n",
       "        -1.91977511e-03, -9.08485655e-04, -2.85352780e-03,\n",
       "        -2.88955267e-03, -4.69697233e-03],\n",
       "       [ 2.86985296e-03,  2.58542863e-03,  1.66013438e-03,\n",
       "         1.18012576e-03,  3.22135805e-03,  1.89134639e-03,\n",
       "         4.69939020e-03,  2.47702555e-03,  1.27525232e-03,\n",
       "         6.38868564e-03,  2.20598080e-03,  2.29834332e-03,\n",
       "         3.52169333e-03,  4.26215324e-03,  2.08207417e-03,\n",
       "         1.73897977e-03,  6.94706085e-04,  2.36317629e-03,\n",
       "         2.20726802e-03,  4.04079515e-03],\n",
       "       [-4.97834037e-03, -4.16152198e-03, -3.08400675e-03,\n",
       "        -1.47851376e-03, -5.29068990e-03, -2.82435332e-03,\n",
       "        -7.38438260e-03, -3.62616219e-03, -2.22877111e-03,\n",
       "        -9.41235812e-03, -3.65249905e-03, -2.95159143e-03,\n",
       "        -3.94336896e-03, -5.87423176e-03, -3.05235272e-03,\n",
       "        -2.78363322e-03, -1.36110758e-03, -4.08343677e-03,\n",
       "        -4.14344638e-03, -6.15440254e-03],\n",
       "       [-2.61296177e-03, -2.25589136e-03, -1.65364494e-03,\n",
       "        -5.44625858e-04, -2.69012466e-03, -1.21710489e-03,\n",
       "        -3.39890742e-03, -1.93642670e-03, -1.09018989e-03,\n",
       "        -4.37873312e-03, -1.92417111e-03, -9.44312448e-04,\n",
       "        -1.10162382e-03, -2.89975317e-03, -1.30351558e-03,\n",
       "        -1.60006118e-03, -6.45901470e-04, -2.17143816e-03,\n",
       "        -2.21536756e-03, -2.85202773e-03],\n",
       "       [-2.07324274e-03, -1.99633171e-03, -1.08301193e-03,\n",
       "        -9.19346663e-04, -2.44614749e-03, -1.39121175e-03,\n",
       "        -3.57808749e-03, -1.89947002e-03, -1.06383906e-03,\n",
       "        -4.86958697e-03, -1.78590419e-03, -1.76675822e-03,\n",
       "        -2.82722296e-03, -3.63540618e-03, -1.72067286e-03,\n",
       "        -1.36227728e-03, -5.65217162e-04, -1.56726649e-03,\n",
       "        -1.41372897e-03, -3.09272958e-03],\n",
       "       [-4.16741988e-03, -3.47740534e-03, -2.35704031e-03,\n",
       "        -1.17327355e-03, -4.34260458e-03, -2.05615467e-03,\n",
       "        -5.83466466e-03, -2.70658825e-03, -1.86125961e-03,\n",
       "        -7.73815216e-03, -3.01831269e-03, -2.34745857e-03,\n",
       "        -2.91096247e-03, -4.95300102e-03, -2.54587030e-03,\n",
       "        -2.34186904e-03, -1.13990715e-03, -2.89007375e-03,\n",
       "        -3.23333841e-03, -4.88504031e-03],\n",
       "       [-1.98091366e-03, -1.43835839e-03, -1.20876467e-03,\n",
       "        -5.48434693e-04, -1.90842173e-03, -1.27504852e-03,\n",
       "        -2.88007987e-03, -1.29826251e-03, -7.53686621e-04,\n",
       "        -3.95441508e-03, -1.43648730e-03, -1.18513558e-03,\n",
       "        -1.59750219e-03, -2.44955669e-03, -1.22569784e-03,\n",
       "        -1.01593739e-03, -4.95311400e-04, -1.73304077e-03,\n",
       "        -1.71521110e-03, -2.35611390e-03],\n",
       "       [ 4.75840581e-04,  6.42792510e-04, -9.03474341e-05,\n",
       "         3.59236139e-04,  6.60965293e-04,  1.42330921e-04,\n",
       "         7.78462321e-04,  3.86259680e-04,  3.14044509e-04,\n",
       "         1.35977725e-03,  5.50490008e-04,  6.24563119e-04,\n",
       "         9.55688278e-04,  1.32354242e-03,  5.70218235e-04,\n",
       "         4.94077261e-04,  1.06610380e-04, -2.32344393e-04,\n",
       "        -6.92464971e-05,  7.69300642e-04],\n",
       "       [-2.07020777e-03, -1.61145295e-03, -1.36725743e-03,\n",
       "        -4.57510585e-04, -1.98360807e-03, -1.20095571e-03,\n",
       "        -2.50623721e-03, -1.40576557e-03, -6.99167432e-04,\n",
       "        -3.98403005e-03, -1.39698101e-03, -8.18041975e-04,\n",
       "        -1.18613058e-03, -2.24663068e-03, -9.41272931e-04,\n",
       "        -1.22055342e-03, -3.06209217e-04, -1.99236738e-03,\n",
       "        -1.92977901e-03, -2.28901242e-03],\n",
       "       [-1.03911042e-03, -8.11185483e-04, -4.36473867e-04,\n",
       "        -5.05603638e-04, -1.11290740e-03, -7.78570309e-04,\n",
       "        -1.81879847e-03, -6.10948076e-04, -5.33425779e-04,\n",
       "        -2.60377135e-03, -8.73527145e-04, -1.13280540e-03,\n",
       "        -1.66558200e-03, -1.78038145e-03, -9.78582182e-04,\n",
       "        -5.42895920e-04, -3.16155213e-04, -5.85114634e-04,\n",
       "        -6.67677937e-04, -1.51515570e-03]])"
      ]
     },
     "execution_count": 9,
     "metadata": {},
     "output_type": "execute_result"
    }
   ],
   "source": [
    "#etter backward pass har dLdW_2 fått verdier\n",
    "ff1.l2.params['w']['d']"
   ]
  },
  {
   "cell_type": "code",
   "execution_count": 10,
   "metadata": {},
   "outputs": [],
   "source": [
    "from neural_network import NeuralNetwork\n",
    "\n",
    "#vi kan samle lagene i en liste som vi bruker for å\n",
    "#initialisere et nevralt nettverk der vi kan bruke forward() og backward() \n",
    "#for å oppnå det samme som vi gjorde manuelt over\n",
    "\n",
    "layers = [embed,att1,ff1,un_embed,softmax]\n",
    "nn = NeuralNetwork(layers)"
   ]
  },
  {
   "cell_type": "code",
   "execution_count": 11,
   "metadata": {},
   "outputs": [
    {
     "name": "stdout",
     "output_type": "stream",
     "text": [
      "1.9007710898666448\n"
     ]
    }
   ],
   "source": [
    "#forward pass tilsvarende algoritme 1\n",
    "Z = nn.forward(X)\n",
    "\n",
    "#beregner loss med CrossEntropy\n",
    "L = loss.forward(Z,y)\n",
    "print(L)\n",
    "\n",
    "#backward pass tilsvarende algoritme 2\n",
    "dLdZ = loss.backward()\n",
    "nn.backward(dLdZ)"
   ]
  },
  {
   "cell_type": "code",
   "execution_count": 12,
   "metadata": {},
   "outputs": [
    {
     "name": "stdout",
     "output_type": "stream",
     "text": [
      "-0.10365973268938658\n"
     ]
    }
   ],
   "source": [
    "#før optimering er W_2[0,0] gitt ved\n",
    "#ff1 er det tredje laget i layers-listen (derav layers[2])\n",
    "W_2_pre_opt = nn.layers[2].l2.params['w']['w'].copy()\n",
    "print(W_2_pre_opt[0,0])"
   ]
  },
  {
   "cell_type": "code",
   "execution_count": 13,
   "metadata": {},
   "outputs": [
    {
     "name": "stderr",
     "output_type": "stream",
     "text": [
      "c:\\Users\\tryme\\Documents\\GitHub\\TMA4320-Introduksjon-til-vitenskapelige-beregninger-prosjekter\\Prosjekt2-IndustriellMatematikk\\layers.py:136: RuntimeWarning: overflow encountered in exp\n",
      "  self.P = np.exp(x)\n",
      "c:\\Users\\tryme\\Documents\\GitHub\\TMA4320-Introduksjon-til-vitenskapelige-beregninger-prosjekter\\Prosjekt2-IndustriellMatematikk\\layers.py:138: RuntimeWarning: invalid value encountered in divide\n",
      "  self.Z = self.P/(Q+self.epsilon)\n",
      "c:\\Users\\tryme\\Documents\\GitHub\\TMA4320-Introduksjon-til-vitenskapelige-beregninger-prosjekter\\Prosjekt2-IndustriellMatematikk\\layers.py:147: RuntimeWarning: overflow encountered in exp\n",
      "  P = np.exp(self.x)\n",
      "c:\\Users\\tryme\\Documents\\GitHub\\TMA4320-Introduksjon-til-vitenskapelige-beregninger-prosjekter\\Prosjekt2-IndustriellMatematikk\\layers.py:149: RuntimeWarning: invalid value encountered in divide\n",
      "  S = P/(Q*Q+self.epsilon)\n"
     ]
    }
   ],
   "source": [
    "import numpy as np\n",
    "\n",
    "xs = data['x_train']\n",
    "ys = data['y_train']\n",
    "\n",
    "n_batches = xs.shape[0]\n",
    "n_iters = 100\n",
    "step_size = 0.1\n",
    "\n",
    "#treningsløkke tilsvarende algoritme 4 (med gradient descent)\n",
    "for j in range(n_iters):\n",
    "    losses = []\n",
    "    for i in range(n_batches):\n",
    "        x = xs[i]\n",
    "        y = ys[i]\n",
    "\n",
    "        X = onehot(x,m)\n",
    "        Z = nn.forward(X)\n",
    "\n",
    "        losses.append(loss.forward(Z,y))\n",
    "        dLdZ = loss.backward()\n",
    "        nn.backward(dLdZ)\n",
    "        nn.step_gd(step_size)\n",
    "    mean_loss = np.mean(losses)\n",
    "    print(\"Iterasjon \", str(j), \" L = \",mean_loss, \"\")"
   ]
  },
  {
   "cell_type": "code",
   "execution_count": null,
   "metadata": {},
   "outputs": [
    {
     "name": "stdout",
     "output_type": "stream",
     "text": [
      "-0.13857317601666091\n",
      "-0.00010665015797989286\n"
     ]
    }
   ],
   "source": [
    "#etter trening ser vi at W_2 er gitt ved\n",
    "\n",
    "W_2_post_opt = nn.layers[2].l2.params['w']['w'].copy()\n",
    "print(W_2_post_opt[0,0])\n",
    "\n",
    "#dersom differansen er større enn null har dette parameteret endret seg etter \n",
    "#gradient descent\n",
    "print(W_2_post_opt[0,0] - W_2_pre_opt[0,0])\n",
    "\n",
    "\n"
   ]
  }
 ],
 "metadata": {
  "kernelspec": {
   "display_name": "Python 3",
   "language": "python",
   "name": "python3"
  },
  "language_info": {
   "codemirror_mode": {
    "name": "ipython",
    "version": 3
   },
   "file_extension": ".py",
   "mimetype": "text/x-python",
   "name": "python",
   "nbconvert_exporter": "python",
   "pygments_lexer": "ipython3",
   "version": "3.11.5"
  }
 },
 "nbformat": 4,
 "nbformat_minor": 2
}
