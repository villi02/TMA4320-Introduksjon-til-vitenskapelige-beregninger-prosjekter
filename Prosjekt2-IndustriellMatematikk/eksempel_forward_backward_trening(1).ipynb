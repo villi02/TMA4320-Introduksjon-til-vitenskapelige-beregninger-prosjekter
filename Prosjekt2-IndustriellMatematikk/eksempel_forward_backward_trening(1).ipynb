{
 "cells": [
  {
   "cell_type": "code",
   "execution_count": 1,
   "metadata": {},
   "outputs": [],
   "source": [
    "from data_generators import get_train_test_addition\n",
    "\n",
    "#dimensjoner og størrelser til x og y\n",
    "n_digits = 2\n",
    "n_max = 3*n_digits\n",
    "m = 10\n",
    "\n",
    "#definerer størrelsen på parametermatrisene\n",
    "d = 15\n",
    "k = 5\n",
    "p = 20\n",
    "\n",
    "#henter treningsdata\n",
    "data = get_train_test_addition(n_digits,samples_per_batch=100,n_batches_train=4)"
   ]
  },
  {
   "cell_type": "code",
   "execution_count": 2,
   "metadata": {},
   "outputs": [],
   "source": [
    "from utils import onehot\n",
    "\n",
    "x = data['x_train'][0]\n",
    "X = onehot(x,m)\n",
    "y = data['y_train'][0]"
   ]
  },
  {
   "cell_type": "code",
   "execution_count": 3,
   "metadata": {},
   "outputs": [
    {
     "data": {
      "text/plain": [
       "(4, 100, 6)"
      ]
     },
     "execution_count": 3,
     "metadata": {},
     "output_type": "execute_result"
    }
   ],
   "source": [
    "data['x_train'].shape"
   ]
  },
  {
   "cell_type": "code",
   "execution_count": 4,
   "metadata": {},
   "outputs": [],
   "source": [
    "from layers import LinearLayer,EmbedPosition,Attention,Softmax,CrossEntropy,FeedForward\n",
    "\n",
    "embed = EmbedPosition(n_max,m,d)\n",
    "att1 = Attention(d,k)\n",
    "ff1 = FeedForward(d,p)\n",
    "un_embed = LinearLayer(d,m)\n",
    "softmax = Softmax()\n",
    "loss = CrossEntropy()"
   ]
  },
  {
   "cell_type": "code",
   "execution_count": 5,
   "metadata": {},
   "outputs": [
    {
     "data": {
      "text/plain": [
       "array([[0., 0., 0., 0., 0., 0., 0., 0., 0., 0., 0., 0., 0., 0., 0., 0.,\n",
       "        0., 0., 0., 0.],\n",
       "       [0., 0., 0., 0., 0., 0., 0., 0., 0., 0., 0., 0., 0., 0., 0., 0.,\n",
       "        0., 0., 0., 0.],\n",
       "       [0., 0., 0., 0., 0., 0., 0., 0., 0., 0., 0., 0., 0., 0., 0., 0.,\n",
       "        0., 0., 0., 0.],\n",
       "       [0., 0., 0., 0., 0., 0., 0., 0., 0., 0., 0., 0., 0., 0., 0., 0.,\n",
       "        0., 0., 0., 0.],\n",
       "       [0., 0., 0., 0., 0., 0., 0., 0., 0., 0., 0., 0., 0., 0., 0., 0.,\n",
       "        0., 0., 0., 0.],\n",
       "       [0., 0., 0., 0., 0., 0., 0., 0., 0., 0., 0., 0., 0., 0., 0., 0.,\n",
       "        0., 0., 0., 0.],\n",
       "       [0., 0., 0., 0., 0., 0., 0., 0., 0., 0., 0., 0., 0., 0., 0., 0.,\n",
       "        0., 0., 0., 0.],\n",
       "       [0., 0., 0., 0., 0., 0., 0., 0., 0., 0., 0., 0., 0., 0., 0., 0.,\n",
       "        0., 0., 0., 0.],\n",
       "       [0., 0., 0., 0., 0., 0., 0., 0., 0., 0., 0., 0., 0., 0., 0., 0.,\n",
       "        0., 0., 0., 0.],\n",
       "       [0., 0., 0., 0., 0., 0., 0., 0., 0., 0., 0., 0., 0., 0., 0., 0.,\n",
       "        0., 0., 0., 0.],\n",
       "       [0., 0., 0., 0., 0., 0., 0., 0., 0., 0., 0., 0., 0., 0., 0., 0.,\n",
       "        0., 0., 0., 0.],\n",
       "       [0., 0., 0., 0., 0., 0., 0., 0., 0., 0., 0., 0., 0., 0., 0., 0.,\n",
       "        0., 0., 0., 0.],\n",
       "       [0., 0., 0., 0., 0., 0., 0., 0., 0., 0., 0., 0., 0., 0., 0., 0.,\n",
       "        0., 0., 0., 0.],\n",
       "       [0., 0., 0., 0., 0., 0., 0., 0., 0., 0., 0., 0., 0., 0., 0., 0.,\n",
       "        0., 0., 0., 0.],\n",
       "       [0., 0., 0., 0., 0., 0., 0., 0., 0., 0., 0., 0., 0., 0., 0., 0.,\n",
       "        0., 0., 0., 0.]])"
      ]
     },
     "execution_count": 5,
     "metadata": {},
     "output_type": "execute_result"
    }
   ],
   "source": [
    "#vi ser at dLdW_2 tilhørende ff1 (først finner vi det lineære laget l2\n",
    "#så nøkkel 'w' i params dict-en, så nøkkel 'd' for å finne den deriverte)\n",
    "#nå er denne bare en nullmatrise \n",
    "ff1.l2.params['w']['d']"
   ]
  },
  {
   "cell_type": "code",
   "execution_count": 6,
   "metadata": {},
   "outputs": [],
   "source": [
    "#\"manuelt\" forward pass (tilsvarende algoritme 1)\n",
    "z0 = embed.forward(X)\n",
    "z1 = att1.forward(z0)\n",
    "z2 = ff1.forward(z1)\n",
    "z = un_embed.forward(z2)\n",
    "Z = softmax.forward(z)"
   ]
  },
  {
   "cell_type": "code",
   "execution_count": 7,
   "metadata": {},
   "outputs": [
    {
     "name": "stdout",
     "output_type": "stream",
     "text": [
      "2.7267336422227904\n"
     ]
    }
   ],
   "source": [
    "#evaluerer objektfunksjonen\n",
    "L = loss.forward(Z,y)\n",
    "print(L)\n",
    "\n",
    "#finner den deriverte av objektfunksjonen mhp Z\n",
    "dLdZ = loss.backward()"
   ]
  },
  {
   "cell_type": "code",
   "execution_count": 8,
   "metadata": {},
   "outputs": [
    {
     "name": "stdout",
     "output_type": "stream",
     "text": [
      "1\n",
      "2\n",
      "3\n",
      "4\n"
     ]
    }
   ],
   "source": [
    "#\"manuelt\" backward pass (tilsvarende algoritme 2)\n",
    "dLdz = softmax.backward(dLdZ)\n",
    "print('1')\n",
    "dLdz2 = un_embed.backward(dLdz)\n",
    "print('2')\n",
    "dLdz1 = ff1.backward(dLdz2)\n",
    "print('3')\n",
    "dLdz0 = att1.backward(dLdz1)\n",
    "print('4')\n",
    "embed.backward(dLdz0)"
   ]
  },
  {
   "cell_type": "code",
   "execution_count": 9,
   "metadata": {},
   "outputs": [
    {
     "data": {
      "text/plain": [
       "array([[-3.68595248e-01, -2.77424839e-01, -8.83129925e-01,\n",
       "        -1.18764225e-01, -3.24786897e+00, -9.27930652e-02,\n",
       "        -1.12441900e+00, -4.86294013e-01, -2.90873454e+00,\n",
       "        -1.16151620e+00,  3.19937245e-02, -8.53362250e-01,\n",
       "        -1.16165141e-01, -1.29308139e+00, -1.26341877e-01,\n",
       "        -5.19737695e-01, -1.80782200e+00, -4.59972157e+00,\n",
       "         1.91909480e-02, -1.44759367e-01],\n",
       "       [-5.06758547e-01, -4.83924936e-01, -4.28117362e-01,\n",
       "         1.20658279e-01, -2.19866994e+00,  1.68918569e-01,\n",
       "        -7.14569455e-01, -9.18065298e-01, -2.53914032e+00,\n",
       "        -2.31334211e-01,  2.35248420e-01, -4.91751584e-01,\n",
       "        -3.44724500e-02, -1.52391092e+00, -1.54438493e-01,\n",
       "         5.28529860e-02, -1.77802731e+00, -5.05612416e+00,\n",
       "         2.04410375e-01,  2.26999789e-01],\n",
       "       [-6.75366762e-01, -1.62745944e+00,  8.21607044e-02,\n",
       "        -3.30482024e-01, -9.50090530e-01, -2.44796205e-01,\n",
       "        -2.40034255e-01, -2.26704696e+00, -1.27647926e+00,\n",
       "         6.99621747e-01, -3.92432993e-01, -1.10063724e-01,\n",
       "        -3.27936554e-01, -1.70846941e+00, -1.03970000e+00,\n",
       "         5.30017022e-01, -2.10187082e+00, -5.03806373e+00,\n",
       "        -3.35301045e-01,  5.24665749e-01],\n",
       "       [ 8.21185644e-02,  3.03046860e-02,  9.94890553e-02,\n",
       "        -1.80900096e-01,  6.35002747e-01, -3.55319899e-02,\n",
       "         1.33437853e-01,  4.04573133e-01,  8.36162299e-01,\n",
       "        -7.66605329e-02, -1.10049848e-01,  1.41187518e-01,\n",
       "         2.22867482e-02,  8.73442027e-01, -3.16104329e-01,\n",
       "         2.45576061e-02,  7.77399621e-01,  2.41631611e+00,\n",
       "        -2.02519406e-01, -3.28323682e-02],\n",
       "       [-6.84955808e-01, -8.07589053e-01, -6.77280850e-01,\n",
       "         1.74843715e-01, -3.66576016e+00,  1.20317271e-01,\n",
       "        -1.12230290e+00, -1.75200360e+00, -4.08201055e+00,\n",
       "        -2.99308776e-01,  2.30793150e-01, -8.61896248e-01,\n",
       "        -1.61607999e-01, -2.95699444e+00, -1.22766396e-02,\n",
       "        -6.87976643e-03, -3.27452992e+00, -9.20515995e+00,\n",
       "         3.09611144e-01,  2.92675178e-01],\n",
       "       [ 6.21940779e-01,  8.41923046e-01,  6.38686788e-01,\n",
       "         7.33296379e-02,  3.36285770e+00, -2.44448673e-02,\n",
       "         1.03506500e+00,  1.30114455e+00,  3.30761362e+00,\n",
       "         3.70922979e-01, -8.68886533e-02,  6.87583602e-01,\n",
       "         9.43003728e-02,  1.89638545e+00,  4.89189697e-01,\n",
       "        -2.02489976e-01,  2.59659103e+00,  6.61150970e+00,\n",
       "         5.91365528e-03, -4.73213455e-01],\n",
       "       [-1.21274407e-01, -1.72278900e-01, -2.47062210e-01,\n",
       "        -2.54919382e-01, -7.23821233e-01, -1.53641446e-01,\n",
       "        -4.17590548e-01, -7.62261996e-02, -6.27988082e-01,\n",
       "        -6.19979938e-01, -1.76011378e-01, -2.47129572e-01,\n",
       "        -5.80585948e-02, -1.81389346e-02, -2.33757807e-01,\n",
       "        -3.12846410e-01, -1.80247923e-01, -2.98497174e-01,\n",
       "        -1.95404204e-01, -2.29159173e-01],\n",
       "       [-6.66118371e-01, -1.45109425e+00,  5.75348965e-01,\n",
       "        -2.90910647e-01,  9.89923558e-01, -1.35136168e-01,\n",
       "         1.12861817e-01, -1.88710372e+00, -1.52720741e-01,\n",
       "         9.13538538e-01, -3.86948577e-01,  2.88473626e-01,\n",
       "        -2.07100819e-01, -8.09860865e-01, -9.62109099e-01,\n",
       "         6.49693063e-01, -7.59352804e-01, -2.09131320e+00,\n",
       "        -3.25760178e-01,  3.57647556e-01],\n",
       "       [-9.99909800e-02, -1.86231911e-01,  2.14376624e-02,\n",
       "        -2.28479970e-01,  1.00258396e-02, -7.45630186e-02,\n",
       "        -1.86119833e-01, -1.43741998e-02, -8.12794013e-02,\n",
       "        -2.34240467e-01, -1.76697846e-01, -1.30675208e-02,\n",
       "        -3.44034972e-03,  2.97744852e-01, -3.09383860e-01,\n",
       "        -1.74465780e-02,  1.78859447e-01,  6.37784859e-01,\n",
       "        -2.26318872e-01, -6.57265862e-02],\n",
       "       [ 8.11588594e-01,  8.89255951e-01,  6.22784160e-01,\n",
       "        -2.99005618e-01,  3.61567483e+00, -2.46621396e-01,\n",
       "         9.92643795e-01,  1.77454818e+00,  4.05920672e+00,\n",
       "        -6.39697854e-02, -3.44944193e-01,  7.16926898e-01,\n",
       "         1.08992254e-01,  2.81793817e+00,  1.90373348e-01,\n",
       "        -3.05826495e-01,  3.32998952e+00,  9.12718144e+00,\n",
       "        -3.68903796e-01, -5.88143879e-01],\n",
       "       [-3.10292756e-01, -4.38827399e-01,  1.34303072e-01,\n",
       "         1.37946296e-01, -2.28897522e-01,  2.37685290e-01,\n",
       "         9.99694202e-02, -5.83278307e-01, -4.26678570e-01,\n",
       "         8.04421389e-01,  1.18008308e-01,  1.85920024e-01,\n",
       "         2.72976839e-02, -4.12539153e-01, -4.15466847e-01,\n",
       "         5.55705817e-01, -6.91989525e-01, -1.63591381e+00,\n",
       "         5.54123794e-02,  5.24008866e-01],\n",
       "       [-4.18037200e-01, -3.11117678e-01, -8.83998489e-01,\n",
       "         3.32942662e-01, -3.90861825e+00,  2.00809500e-01,\n",
       "        -9.19416210e-01, -9.30671470e-01, -3.51685055e+00,\n",
       "        -3.30261668e-01,  4.20054002e-01, -8.47640375e-01,\n",
       "        -9.67404118e-02, -2.30232219e+00,  9.91178339e-02,\n",
       "        -7.26666335e-03, -2.89743970e+00, -7.61211543e+00,\n",
       "         4.17869512e-01,  4.29357055e-01],\n",
       "       [-4.58815106e-02, -5.76268616e-01,  7.58965744e-01,\n",
       "        -4.90344907e-01,  2.70083138e+00, -3.81534819e-01,\n",
       "         4.97150939e-01, -4.00922941e-01,  2.02419870e+00,\n",
       "         3.98545999e-01, -6.35074550e-01,  5.90542023e-01,\n",
       "        -9.29752229e-02,  1.02737309e+00, -5.30525447e-01,\n",
       "         1.96644165e-01,  1.33908039e+00,  3.70068366e+00,\n",
       "        -5.61421481e-01, -1.95806819e-01],\n",
       "       [-3.26145285e-01, -2.93484340e-01, -3.08994698e-01,\n",
       "        -3.53808305e-01, -9.02828072e-01, -1.16934719e-01,\n",
       "        -6.14641621e-01,  8.08671365e-02, -9.07688060e-01,\n",
       "        -8.42210461e-01, -2.07791194e-01, -2.56645495e-01,\n",
       "        -1.43492151e-02,  4.55776587e-01, -6.03842944e-01,\n",
       "        -2.37634057e-01,  2.18700737e-02,  5.16124959e-01,\n",
       "        -3.17898522e-01, -1.73190553e-01],\n",
       "       [-1.66755276e-01, -2.23227151e-01, -5.09967804e-01,\n",
       "         1.99888656e-01, -2.66061554e+00, -3.15229102e-02,\n",
       "        -7.58896988e-01, -1.08041272e+00, -2.78464950e+00,\n",
       "        -4.04319740e-01,  1.99804224e-01, -7.41032331e-01,\n",
       "        -1.21543211e-01, -2.42152308e+00,  5.84010364e-01,\n",
       "        -1.48898986e-01, -2.37437716e+00, -6.98179253e+00,\n",
       "         3.32371234e-01,  8.22069333e-02]])"
      ]
     },
     "execution_count": 9,
     "metadata": {},
     "output_type": "execute_result"
    }
   ],
   "source": [
    "#etter backward pass har dLdW_2 fått verdier\n",
    "ff1.l2.params['w']['d']"
   ]
  },
  {
   "cell_type": "code",
   "execution_count": 10,
   "metadata": {},
   "outputs": [],
   "source": [
    "from neural_network import NeuralNetwork\n",
    "\n",
    "#vi kan samle lagene i en liste som vi bruker for å\n",
    "#initialisere et nevralt nettverk der vi kan bruke forward() og backward() \n",
    "#for å oppnå det samme som vi gjorde manuelt over\n",
    "\n",
    "layers = [embed,att1,ff1,un_embed,softmax]\n",
    "nn = NeuralNetwork(layers)"
   ]
  },
  {
   "cell_type": "code",
   "execution_count": 11,
   "metadata": {},
   "outputs": [
    {
     "name": "stdout",
     "output_type": "stream",
     "text": [
      "2.7267336422227904\n"
     ]
    }
   ],
   "source": [
    "#forward pass tilsvarende algoritme 1\n",
    "Z = nn.forward(X)\n",
    "\n",
    "#beregner loss med CrossEntropy\n",
    "L = loss.forward(Z,y)\n",
    "print(L)\n",
    "\n",
    "#backward pass tilsvarende algoritme 2\n",
    "dLdZ = loss.backward()\n",
    "nn.backward(dLdZ)"
   ]
  },
  {
   "cell_type": "code",
   "execution_count": 12,
   "metadata": {},
   "outputs": [
    {
     "name": "stdout",
     "output_type": "stream",
     "text": [
      "-0.030103984815156228\n"
     ]
    }
   ],
   "source": [
    "#før optimering er W_2[0,0] gitt ved\n",
    "#ff1 er det tredje laget i layers-listen (derav layers[2])\n",
    "W_2_pre_opt = nn.layers[2].l2.params['w']['w'].copy()\n",
    "print(W_2_pre_opt[0,0])"
   ]
  },
  {
   "cell_type": "code",
   "execution_count": 17,
   "metadata": {},
   "outputs": [
    {
     "name": "stdout",
     "output_type": "stream",
     "text": [
      "loss for iteration 1: 2.554074092324369\n",
      "loss for iteration 2: 2.5126435806371075\n",
      "loss for iteration 3: 2.4814544691316995\n",
      "loss for iteration 4: 2.4552454142695272\n",
      "loss for iteration 5: 2.4322222273372716\n",
      "loss for iteration 6: 2.4120183008346663\n",
      "loss for iteration 7: 2.39426791031798\n",
      "loss for iteration 8: 2.378526269977427\n",
      "loss for iteration 9: 2.364374734416674\n",
      "loss for iteration 10: 2.3515320313879653\n",
      "loss for iteration 11: 2.3396089954115764\n",
      "loss for iteration 12: 2.3282161182681813\n",
      "loss for iteration 13: 2.3169071103645877\n",
      "loss for iteration 14: 2.305243498084222\n",
      "loss for iteration 15: 2.292833216540795\n",
      "loss for iteration 16: 2.2793525827656134\n",
      "loss for iteration 17: 2.2647341766859186\n",
      "loss for iteration 18: 2.249213822030801\n",
      "loss for iteration 19: 2.2331800566179076\n",
      "loss for iteration 20: 2.2170197241813527\n",
      "loss for iteration 21: 2.2010589908907083\n",
      "loss for iteration 22: 2.1855683916410142\n",
      "loss for iteration 23: 2.170533313710563\n",
      "loss for iteration 24: 2.155935709667207\n",
      "loss for iteration 25: 2.141877656209223\n",
      "loss for iteration 26: 2.12859400070776\n",
      "loss for iteration 27: 2.1162092309778244\n",
      "loss for iteration 28: 2.104915277849824\n",
      "loss for iteration 29: 2.094752285369654\n",
      "loss for iteration 30: 2.0856885269173455\n",
      "loss for iteration 31: 2.0779161314893484\n",
      "loss for iteration 32: 2.071367888719732\n",
      "loss for iteration 33: 2.065975249669337\n",
      "loss for iteration 34: 2.061537439173657\n",
      "loss for iteration 35: 2.0578799674430055\n",
      "loss for iteration 36: 2.0548683586737986\n",
      "loss for iteration 37: 2.0523813192738536\n",
      "loss for iteration 38: 2.0502559150068276\n",
      "loss for iteration 39: 2.048355745182259\n",
      "loss for iteration 40: 2.0467166733714093\n",
      "loss for iteration 41: 2.045245324775058\n",
      "loss for iteration 42: 2.043908451927354\n",
      "loss for iteration 43: 2.042679685384855\n",
      "loss for iteration 44: 2.0415303938067395\n",
      "loss for iteration 45: 2.0404372532585677\n",
      "loss for iteration 46: 2.039467053134362\n",
      "loss for iteration 47: 2.038630393370719\n",
      "loss for iteration 48: 2.0379204867539027\n",
      "loss for iteration 49: 2.037352667275624\n",
      "loss for iteration 50: 2.0369252394065676\n",
      "loss for iteration 51: 2.0366352895182716\n",
      "loss for iteration 52: 2.0364844120529035\n",
      "loss for iteration 53: 2.0364704509304534\n",
      "loss for iteration 54: 2.0366683510822705\n",
      "loss for iteration 55: 2.0370331661702883\n",
      "loss for iteration 56: 2.0375896195230125\n",
      "loss for iteration 57: 2.038368208444635\n",
      "loss for iteration 58: 2.039330786337504\n",
      "loss for iteration 59: 2.0404942787501112\n",
      "loss for iteration 60: 2.0419529003970265\n",
      "loss for iteration 61: 2.043694084276029\n",
      "loss for iteration 62: 2.045629094898247\n",
      "loss for iteration 63: 2.0476972880958395\n",
      "loss for iteration 64: 2.0498865912024384\n",
      "loss for iteration 65: 2.052100272641805\n",
      "loss for iteration 66: 2.0543202204715936\n",
      "loss for iteration 67: 2.0565893148250036\n",
      "loss for iteration 68: 2.058877893232488\n",
      "loss for iteration 69: 2.0611910334343633\n",
      "loss for iteration 70: 2.063495833451577\n",
      "loss for iteration 71: 2.065726186179182\n",
      "loss for iteration 72: 2.0677965637725877\n",
      "loss for iteration 73: 2.0698762992684876\n",
      "loss for iteration 74: 2.0717907841728493\n",
      "loss for iteration 75: 2.0735805059958943\n",
      "loss for iteration 76: 2.0752794942691573\n",
      "loss for iteration 77: 2.076948407461091\n",
      "loss for iteration 78: 2.07858421665527\n",
      "loss for iteration 79: 2.0802371132067687\n",
      "loss for iteration 80: 2.081886819011889\n",
      "loss for iteration 81: 2.0835131321114564\n",
      "loss for iteration 82: 2.0850992612724872\n",
      "loss for iteration 83: 2.08666973510033\n",
      "loss for iteration 84: 2.088156737607607\n",
      "loss for iteration 85: 2.0895578230902885\n",
      "loss for iteration 86: 2.090877271634483\n",
      "loss for iteration 87: 2.0919760783982753\n",
      "loss for iteration 88: 2.092798611778026\n",
      "loss for iteration 89: 2.0933838169553587\n",
      "loss for iteration 90: 2.0936896852302533\n",
      "loss for iteration 91: 2.093745823871787\n",
      "loss for iteration 92: 2.093496312489345\n",
      "loss for iteration 93: 2.093000606160067\n",
      "loss for iteration 94: 2.0921608760669446\n",
      "loss for iteration 95: 2.091042269959751\n",
      "loss for iteration 96: 2.089634569448629\n",
      "loss for iteration 97: 2.0878471137769474\n",
      "loss for iteration 98: 2.0857614542350245\n",
      "loss for iteration 99: 2.0834530312418615\n"
     ]
    }
   ],
   "source": [
    "import numpy as np\n",
    "def algorithm_4(x, y, m , d, p, k, n_max):\n",
    "    n_iter = 100\n",
    "    loss = CrossEntropy()\n",
    "    L_arr = np.zeros(n_iter)\n",
    "    feed_forward1 = FeedForward(d,p)\n",
    "    attention1 = Attention(d,k)\n",
    "    embed_pos = EmbedPosition(n_max,m,d)\n",
    "    un_embed_pos = LinearLayer(d,m)\n",
    "    softmax = Softmax()\n",
    "    layers = [embed_pos, attention1,feed_forward1, un_embed_pos, softmax]\n",
    "    nueralnet = NeuralNetwork(layers)\n",
    "\n",
    "    alpha = 0.001\n",
    "    Losses = []\n",
    "    for j in range(1,n_iter):\n",
    "        X = onehot(x, m)\n",
    "        Z = nueralnet.forward(X) \n",
    "        Losses.append(loss.forward(Z,y))\n",
    "        dLdz = loss.backward()\n",
    "        nueralnet.backward(dLdz) \n",
    "        layers[0].step_gd(alpha)\n",
    "        layers[1].step_adam(j, alpha)\n",
    "        layers[2].step_gd(alpha)\n",
    "        layers[3].step_adam(j, alpha)\n",
    "        print(f'loss for iteration {j}: {loss.forward(Z,y)}') \n",
    "    return Losses   \n",
    "\n",
    "arr = algorithm_4(x, y, m , d, p, k, n_max)"
   ]
  },
  {
   "cell_type": "code",
   "execution_count": 18,
   "metadata": {},
   "outputs": [
    {
     "data": {
      "image/png": "[encoded data removed]",
      "text/plain": [
       "<Figure size 640x480 with 1 Axes>"
      ]
     },
     "metadata": {},
     "output_type": "display_data"
    }
   ],
   "source": [
    "import matplotlib.pyplot as plt\n",
    "plt.plot(np.linspace(0,100,len(arr)),np.log(arr))\n",
    "plt.xlabel('Iterasjoner')\n",
    "plt.ylabel('Logaritmen av losset')\n",
    "plt.title('Plot av feil')\n",
    "plt.show()"
   ]
  },
  {
   "cell_type": "code",
   "execution_count": 15,
   "metadata": {},
   "outputs": [
    {
     "name": "stdout",
     "output_type": "stream",
     "text": [
      "-0.030103984815156228\n",
      "0.0\n"
     ]
    }
   ],
   "source": [
    "#etter trening ser vi at W_2 er gitt ved\n",
    "\n",
    "W_2_post_opt = nn.layers[2].l2.params['w']['w'].copy()\n",
    "print(W_2_post_opt[0,0])\n",
    "\n",
    "#dersom differansen er større enn null har dette parameteret endret seg etter \n",
    "#gradient descent\n",
    "print(W_2_post_opt[0,0] - W_2_pre_opt[0,0])\n",
    "\n",
    "\n"
   ]
  }
 ],
 "metadata": {
  "kernelspec": {
   "display_name": "Python 3",
   "language": "python",
   "name": "python3"
  },
  "language_info": {
   "codemirror_mode": {
    "name": "ipython",
    "version": 3
   },
   "file_extension": ".py",
   "mimetype": "text/x-python",
   "name": "python",
   "nbconvert_exporter": "python",
   "pygments_lexer": "ipython3",
   "version": "3.11.5"
  }
 },
 "nbformat": 4,
 "nbformat_minor": 2
}
