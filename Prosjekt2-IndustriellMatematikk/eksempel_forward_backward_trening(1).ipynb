{
 "cells": [
  {
   "cell_type": "code",
   "execution_count": 1,
   "metadata": {},
   "outputs": [],
   "source": [
    "from data_generators import get_train_test_addition\n",
    "\n",
    "#dimensjoner og størrelser til x og y\n",
    "n_digits = 2\n",
    "n_max = 3*n_digits\n",
    "m = 10\n",
    "\n",
    "#definerer størrelsen på parametermatrisene\n",
    "d = 15\n",
    "k = 5\n",
    "p = 20\n",
    "\n",
    "#henter treningsdata\n",
    "data = get_train_test_addition(n_digits,samples_per_batch=100,n_batches_train=4)"
   ]
  },
  {
   "cell_type": "code",
   "execution_count": 2,
   "metadata": {},
   "outputs": [],
   "source": [
    "from utils import onehot\n",
    "\n",
    "x = data['x_train'][0]\n",
    "X = onehot(x,m)\n",
    "y = data['y_train'][0]"
   ]
  },
  {
   "cell_type": "code",
   "execution_count": 3,
   "metadata": {},
   "outputs": [
    {
     "data": {
      "text/plain": [
       "(4, 100, 6)"
      ]
     },
     "execution_count": 3,
     "metadata": {},
     "output_type": "execute_result"
    }
   ],
   "source": [
    "data['x_train'].shape"
   ]
  },
  {
   "cell_type": "code",
   "execution_count": 4,
   "metadata": {},
   "outputs": [],
   "source": [
    "from layers import LinearLayer,EmbedPosition,Attention,Softmax,CrossEntropy,FeedForward\n",
    "\n",
    "embed = EmbedPosition(n_max,m,d)\n",
    "att1 = Attention(d,k)\n",
    "ff1 = FeedForward(d,p)\n",
    "un_embed = LinearLayer(d,m)\n",
    "softmax = Softmax()\n",
    "loss = CrossEntropy()"
   ]
  },
  {
   "cell_type": "code",
   "execution_count": 5,
   "metadata": {},
   "outputs": [
    {
     "data": {
      "text/plain": [
       "array([[0., 0., 0., 0., 0., 0., 0., 0., 0., 0., 0., 0., 0., 0., 0., 0.,\n",
       "        0., 0., 0., 0.],\n",
       "       [0., 0., 0., 0., 0., 0., 0., 0., 0., 0., 0., 0., 0., 0., 0., 0.,\n",
       "        0., 0., 0., 0.],\n",
       "       [0., 0., 0., 0., 0., 0., 0., 0., 0., 0., 0., 0., 0., 0., 0., 0.,\n",
       "        0., 0., 0., 0.],\n",
       "       [0., 0., 0., 0., 0., 0., 0., 0., 0., 0., 0., 0., 0., 0., 0., 0.,\n",
       "        0., 0., 0., 0.],\n",
       "       [0., 0., 0., 0., 0., 0., 0., 0., 0., 0., 0., 0., 0., 0., 0., 0.,\n",
       "        0., 0., 0., 0.],\n",
       "       [0., 0., 0., 0., 0., 0., 0., 0., 0., 0., 0., 0., 0., 0., 0., 0.,\n",
       "        0., 0., 0., 0.],\n",
       "       [0., 0., 0., 0., 0., 0., 0., 0., 0., 0., 0., 0., 0., 0., 0., 0.,\n",
       "        0., 0., 0., 0.],\n",
       "       [0., 0., 0., 0., 0., 0., 0., 0., 0., 0., 0., 0., 0., 0., 0., 0.,\n",
       "        0., 0., 0., 0.],\n",
       "       [0., 0., 0., 0., 0., 0., 0., 0., 0., 0., 0., 0., 0., 0., 0., 0.,\n",
       "        0., 0., 0., 0.],\n",
       "       [0., 0., 0., 0., 0., 0., 0., 0., 0., 0., 0., 0., 0., 0., 0., 0.,\n",
       "        0., 0., 0., 0.],\n",
       "       [0., 0., 0., 0., 0., 0., 0., 0., 0., 0., 0., 0., 0., 0., 0., 0.,\n",
       "        0., 0., 0., 0.],\n",
       "       [0., 0., 0., 0., 0., 0., 0., 0., 0., 0., 0., 0., 0., 0., 0., 0.,\n",
       "        0., 0., 0., 0.],\n",
       "       [0., 0., 0., 0., 0., 0., 0., 0., 0., 0., 0., 0., 0., 0., 0., 0.,\n",
       "        0., 0., 0., 0.],\n",
       "       [0., 0., 0., 0., 0., 0., 0., 0., 0., 0., 0., 0., 0., 0., 0., 0.,\n",
       "        0., 0., 0., 0.],\n",
       "       [0., 0., 0., 0., 0., 0., 0., 0., 0., 0., 0., 0., 0., 0., 0., 0.,\n",
       "        0., 0., 0., 0.]])"
      ]
     },
     "execution_count": 5,
     "metadata": {},
     "output_type": "execute_result"
    }
   ],
   "source": [
    "#vi ser at dLdW_2 tilhørende ff1 (først finner vi det lineære laget l2\n",
    "#så nøkkel 'w' i params dict-en, så nøkkel 'd' for å finne den deriverte)\n",
    "#nå er denne bare en nullmatrise \n",
    "ff1.l2.params['w']['d']"
   ]
  },
  {
   "cell_type": "code",
   "execution_count": 6,
   "metadata": {},
   "outputs": [],
   "source": [
    "#\"manuelt\" forward pass (tilsvarende algoritme 1)\n",
    "z0 = embed.forward(X)\n",
    "z1 = att1.forward(z0)\n",
    "z2 = ff1.forward(z1)\n",
    "z = un_embed.forward(z2)\n",
    "Z = softmax.forward(z)"
   ]
  },
  {
   "cell_type": "code",
   "execution_count": 7,
   "metadata": {},
   "outputs": [
    {
     "name": "stdout",
     "output_type": "stream",
     "text": [
      "1.9923366891759422\n"
     ]
    }
   ],
   "source": [
    "#evaluerer objektfunksjonen\n",
    "L = loss.forward(Z,y)\n",
    "print(L)\n",
    "\n",
    "#finner den deriverte av objektfunksjonen mhp Z\n",
    "dLdZ = loss.backward()"
   ]
  },
  {
   "cell_type": "code",
   "execution_count": 8,
   "metadata": {},
   "outputs": [
    {
     "name": "stdout",
     "output_type": "stream",
     "text": [
      "(100, 10, 6)\n",
      "1\n",
      "2\n",
      "3\n",
      "(100, 6, 6)\n",
      "4\n"
     ]
    },
    {
     "name": "stderr",
     "output_type": "stream",
     "text": [
      "c:\\Users\\tryme\\Documents\\GitHub\\TMA4320-Introduksjon-til-vitenskapelige-beregninger-prosjekter\\Prosjekt2-IndustriellMatematikk\\layers.py:116: RuntimeWarning: invalid value encountered in matmul\n",
      "  self.params[\"W_Q\"]['d'] = np.einsum('abc, dce -> be',np.matmul(np.matmul(self.params[\"W_K\"]['w'], self.x), np.transpose(grad_S, (0, 2, 1))), np.transpose(self.x, (0, 2, 1)), optimize = True)/self.b\n",
      "c:\\Users\\tryme\\Documents\\GitHub\\TMA4320-Introduksjon-til-vitenskapelige-beregninger-prosjekter\\Prosjekt2-IndustriellMatematikk\\layers.py:117: RuntimeWarning: invalid value encountered in matmul\n",
      "  self.params[\"W_K\"]['d'] = np.einsum('abc, dce -> be',np.matmul(np.matmul(self.params[\"W_Q\"]['w'], self.x), grad_S), np.transpose(self.x, (0, 2, 1)), optimize = True)/self.b\n"
     ]
    }
   ],
   "source": [
    "#\"manuelt\" backward pass (tilsvarende algoritme 2)\n",
    "dLdz = softmax.backward(dLdZ)\n",
    "print('1')\n",
    "dLdz2 = un_embed.backward(dLdz)\n",
    "print('2')\n",
    "dLdz1 = ff1.backward(dLdz2)\n",
    "print('3')\n",
    "dLdz0 = att1.backward(dLdz1)\n",
    "print('4')\n",
    "embed.backward(dLdz0)"
   ]
  },
  {
   "cell_type": "code",
   "execution_count": 9,
   "metadata": {},
   "outputs": [
    {
     "data": {
      "text/plain": [
       "array([[ 1.79029336e-01, -2.67614097e-02,  2.76798949e-01,\n",
       "         2.54966498e-01,  1.16954627e-01,  4.63008831e-02,\n",
       "         3.75868494e-01,  5.04406570e-01,  1.48006271e-01,\n",
       "        -7.61692274e-02,  7.09844373e-02, -3.12044962e-02,\n",
       "         1.70703496e-01,  4.34945407e-02, -4.19413476e-03,\n",
       "         1.56365614e-02, -8.88374912e-03, -1.65808038e-01,\n",
       "         2.07778009e-01,  3.52519817e-01],\n",
       "       [-5.30350620e-01, -1.89672602e-01, -8.03575161e-01,\n",
       "        -4.06372830e+00, -6.56304739e-01, -1.15503555e+00,\n",
       "        -1.52973693e+00, -4.29842802e+00, -2.08796834e+00,\n",
       "        -2.01549628e+00, -1.34432877e+00, -1.18852037e+00,\n",
       "        -2.27486623e-01, -9.91815325e-02, -2.01286505e+00,\n",
       "        -4.78386595e-01, -1.64781442e-01, -6.04416412e-01,\n",
       "        -8.34309724e-01, -4.69790088e+00],\n",
       "       [ 1.11162027e+00,  5.49626935e-02,  1.51195198e+00,\n",
       "         1.63622285e+00,  1.39699338e+00,  8.68788977e-01,\n",
       "         2.82862825e+00,  1.52889860e+00,  1.48819157e+00,\n",
       "         8.01979232e-01,  5.96497745e-01,  1.61567283e+00,\n",
       "         8.68188284e-01,  3.29659984e-01,  7.62829392e-01,\n",
       "         2.82916112e-01,  8.95243382e-02,  5.20358252e-01,\n",
       "         1.48124000e+00,  1.39272300e+00],\n",
       "       [-2.73847768e-01, -3.35328319e-02, -3.80889519e-01,\n",
       "        -4.47019006e-01, -4.18671132e-01, -3.81431412e-01,\n",
       "        -5.44879298e-01, -1.68072773e-01, -3.33512016e-01,\n",
       "        -3.82994135e-01, -2.04563811e-01, -5.10276588e-01,\n",
       "        -5.33803613e-01, -1.64163178e-01, -2.85244698e-01,\n",
       "        -1.41085530e-01, -6.82454075e-02, -1.58545792e-01,\n",
       "        -2.76385446e-01, -2.96173117e-01],\n",
       "       [-2.52680590e+00, -3.34511633e-01, -2.79627404e+00,\n",
       "        -5.84741314e+00, -3.39525837e+00, -2.18911654e+00,\n",
       "        -5.86066076e+00, -5.90132627e+00, -3.38375405e+00,\n",
       "        -3.52583399e+00, -2.02325258e+00, -5.13211793e+00,\n",
       "        -2.48650945e+00, -6.35236867e-01, -3.31501861e+00,\n",
       "        -8.83961070e-01, -3.26441935e-01, -2.20247312e+00,\n",
       "        -3.00033383e+00, -6.81349113e+00],\n",
       "       [ 1.73620420e+00,  3.13482228e-02,  1.73100799e+00,\n",
       "         6.82876425e-01,  2.19666911e+00,  3.82800627e-01,\n",
       "         3.80660139e+00,  1.17019300e+00,  6.40413600e-01,\n",
       "         5.25647492e-01,  2.32477535e-01,  2.94917645e+00,\n",
       "         1.72477566e+00,  3.72074216e-01,  5.17335460e-01,\n",
       "         1.48635742e-01,  3.87888015e-02,  1.03449857e+00,\n",
       "         1.91297800e+00,  1.20983693e+00],\n",
       "       [ 1.97503152e+00,  2.33870866e-01,  2.62859873e+00,\n",
       "         5.03675366e+00,  2.62039627e+00,  2.13372963e+00,\n",
       "         4.89624920e+00,  4.82247620e+00,  3.29683696e+00,\n",
       "         2.72213977e+00,  1.79181089e+00,  3.46700583e+00,\n",
       "         1.88567468e+00,  6.19555106e-01,  2.57133780e+00,\n",
       "         7.96454924e-01,  2.83467432e-01,  1.31460411e+00,\n",
       "         2.54220563e+00,  5.19556278e+00],\n",
       "       [-4.23189555e-02, -1.28947072e-01, -6.33893275e-01,\n",
       "        -3.86840095e+00, -5.44168901e-02, -1.10909996e+00,\n",
       "        -6.35376966e-01, -4.54065588e+00, -1.94901161e+00,\n",
       "        -1.73986574e+00, -1.28187227e+00, -4.45495413e-01,\n",
       "         1.64417706e-01, -4.16191925e-02, -1.81210575e+00,\n",
       "        -4.60377764e-01, -1.39404410e-01, -2.68577641e-01,\n",
       "        -4.13590081e-01, -4.75952687e+00],\n",
       "       [-7.76103775e-01, -3.06923594e-01, -1.02477107e+00,\n",
       "        -5.86518864e+00, -1.02320007e+00, -1.60450278e+00,\n",
       "        -2.04844229e+00, -6.29621165e+00, -2.75333648e+00,\n",
       "        -3.15645448e+00, -1.93811822e+00, -2.09137214e+00,\n",
       "        -5.48376349e-01, -1.39071130e-01, -3.09676968e+00,\n",
       "        -7.07709295e-01, -2.58356988e-01, -1.14590121e+00,\n",
       "        -1.09883606e+00, -7.16637888e+00],\n",
       "       [ 1.41735455e+00,  1.75823475e-02,  1.76015881e+00,\n",
       "         1.60218497e+00,  1.70598592e+00,  7.32287078e-01,\n",
       "         3.36748368e+00,  1.94624625e+00,  1.29186411e+00,\n",
       "         5.83428372e-01,  5.59303358e-01,  1.87859861e+00,\n",
       "         1.28212490e+00,  3.65878929e-01,  6.49492298e-01,\n",
       "         2.47584714e-01,  5.76499620e-02,  4.46275008e-01,\n",
       "         1.72895084e+00,  1.71143511e+00],\n",
       "       [ 2.48515875e+00,  8.68159124e-03,  1.86061907e+00,\n",
       "        -1.47467431e+00,  3.16853344e+00, -2.19807021e-01,\n",
       "         4.84401775e+00, -1.37156435e+00, -5.47995228e-01,\n",
       "        -1.26808622e-01, -4.75878086e-01,  4.18592344e+00,\n",
       "         2.76955352e+00,  4.92971633e-01, -2.53116420e-01,\n",
       "        -7.19919753e-02, -9.90240648e-03,  1.51902770e+00,\n",
       "         2.34151967e+00, -1.16145356e+00],\n",
       "       [ 1.62607381e+00,  2.43316269e-01,  1.89907897e+00,\n",
       "         4.12417559e+00,  2.21828476e+00,  1.60774881e+00,\n",
       "         3.88493912e+00,  4.01513531e+00,  2.48658942e+00,\n",
       "         2.53222232e+00,  1.44060866e+00,  3.39822099e+00,\n",
       "         1.54732074e+00,  4.36609815e-01,  2.34920270e+00,\n",
       "         6.36599212e-01,  2.41666837e-01,  1.51878652e+00,\n",
       "         2.00579505e+00,  4.64561639e+00],\n",
       "       [-2.46423952e+00, -3.92886567e-01, -3.01547053e+00,\n",
       "        -7.32212859e+00, -3.30565848e+00, -2.82999418e+00,\n",
       "        -5.92743836e+00, -6.85699579e+00, -4.36225934e+00,\n",
       "        -4.15683514e+00, -2.56249025e+00, -4.69081599e+00,\n",
       "        -2.38218854e+00, -7.25028839e-01, -3.89128252e+00,\n",
       "        -1.10333086e+00, -4.14785200e-01, -1.96432864e+00,\n",
       "        -3.06623028e+00, -7.77031180e+00],\n",
       "       [-1.63710357e+00,  3.23180699e-02, -1.35926044e+00,\n",
       "         1.31226523e+00, -2.13578709e+00,  1.55740588e-01,\n",
       "        -3.38840702e+00,  1.16540568e+00,  3.41627819e-01,\n",
       "         3.34515661e-01,  4.21531567e-01, -2.78960853e+00,\n",
       "        -1.72923150e+00, -3.38221890e-01,  3.88338317e-01,\n",
       "         7.88760943e-02,  3.12824564e-02, -9.69434744e-01,\n",
       "        -1.65383236e+00,  1.21746841e+00],\n",
       "       [ 1.47315502e+00, -3.79304514e-02,  1.72336322e+00,\n",
       "         4.96031078e-01,  1.72498833e+00,  4.38796439e-01,\n",
       "         3.48940724e+00,  5.56993297e-01,  9.36352622e-01,\n",
       "        -5.51202907e-02,  1.84816509e-01,  1.57609667e+00,\n",
       "         1.17493646e+00,  3.60356709e-01,  2.53077341e-02,\n",
       "         9.91994413e-02, -7.28375514e-04,  2.47407597e-01,\n",
       "         1.77717547e+00,  7.57813174e-02]])"
      ]
     },
     "execution_count": 9,
     "metadata": {},
     "output_type": "execute_result"
    }
   ],
   "source": [
    "#etter backward pass har dLdW_2 fått verdier\n",
    "ff1.l2.params['w']['d']"
   ]
  },
  {
   "cell_type": "code",
   "execution_count": 10,
   "metadata": {},
   "outputs": [],
   "source": [
    "from neural_network import NeuralNetwork\n",
    "\n",
    "#vi kan samle lagene i en liste som vi bruker for å\n",
    "#initialisere et nevralt nettverk der vi kan bruke forward() og backward() \n",
    "#for å oppnå det samme som vi gjorde manuelt over\n",
    "\n",
    "layers = [embed,att1,ff1,un_embed,softmax]\n",
    "nn = NeuralNetwork(layers)"
   ]
  },
  {
   "cell_type": "code",
   "execution_count": 11,
   "metadata": {},
   "outputs": [
    {
     "name": "stdout",
     "output_type": "stream",
     "text": [
      "1.9923366891759422\n",
      "(100, 10, 6)\n",
      "(100, 6, 6)\n"
     ]
    }
   ],
   "source": [
    "#forward pass tilsvarende algoritme 1\n",
    "Z = nn.forward(X)\n",
    "\n",
    "#beregner loss med CrossEntropy\n",
    "L = loss.forward(Z,y)\n",
    "print(L)\n",
    "\n",
    "#backward pass tilsvarende algoritme 2\n",
    "dLdZ = loss.backward()\n",
    "nn.backward(dLdZ)"
   ]
  },
  {
   "cell_type": "code",
   "execution_count": 12,
   "metadata": {},
   "outputs": [
    {
     "name": "stdout",
     "output_type": "stream",
     "text": [
      "0.014781286436417702\n"
     ]
    }
   ],
   "source": [
    "#før optimering er W_2[0,0] gitt ved\n",
    "#ff1 er det tredje laget i layers-listen (derav layers[2])\n",
    "W_2_pre_opt = nn.layers[2].l2.params['w']['w'].copy()\n",
    "print(W_2_pre_opt[0,0])"
   ]
  },
  {
   "cell_type": "code",
   "execution_count": 13,
   "metadata": {},
   "outputs": [
    {
     "name": "stdout",
     "output_type": "stream",
     "text": [
      "(100, 10, 6)\n",
      "(100, 6, 6)\n",
      "loss for iteration 1: 2.0723966517445973\n",
      "(100, 10, 6)\n",
      "(100, 6, 6)\n",
      "loss for iteration 2: nan\n",
      "(100, 10, 6)\n",
      "(100, 6, 6)\n",
      "loss for iteration 3: nan\n",
      "(100, 10, 6)\n",
      "(100, 6, 6)\n",
      "loss for iteration 4: nan\n",
      "(100, 10, 6)\n",
      "(100, 6, 6)\n",
      "loss for iteration 5: nan\n",
      "(100, 10, 6)\n",
      "(100, 6, 6)\n",
      "loss for iteration 6: nan\n",
      "(100, 10, 6)\n",
      "(100, 6, 6)\n",
      "loss for iteration 7: nan\n",
      "(100, 10, 6)\n",
      "(100, 6, 6)\n",
      "loss for iteration 8: nan\n",
      "(100, 10, 6)\n",
      "(100, 6, 6)\n",
      "loss for iteration 9: nan\n",
      "(100, 10, 6)\n",
      "(100, 6, 6)\n",
      "loss for iteration 10: nan\n",
      "(100, 10, 6)\n",
      "(100, 6, 6)\n",
      "loss for iteration 11: nan\n",
      "(100, 10, 6)\n",
      "(100, 6, 6)\n",
      "loss for iteration 12: nan\n",
      "(100, 10, 6)\n",
      "(100, 6, 6)\n",
      "loss for iteration 13: nan\n",
      "(100, 10, 6)\n",
      "(100, 6, 6)\n",
      "loss for iteration 14: nan\n",
      "(100, 10, 6)\n",
      "(100, 6, 6)\n",
      "loss for iteration 15: nan\n",
      "(100, 10, 6)\n",
      "(100, 6, 6)\n",
      "loss for iteration 16: nan\n",
      "(100, 10, 6)\n",
      "(100, 6, 6)\n",
      "loss for iteration 17: nan\n",
      "(100, 10, 6)\n",
      "(100, 6, 6)\n",
      "loss for iteration 18: nan\n",
      "(100, 10, 6)\n",
      "(100, 6, 6)\n",
      "loss for iteration 19: nan\n",
      "(100, 10, 6)\n",
      "(100, 6, 6)\n",
      "loss for iteration 20: nan\n",
      "(100, 10, 6)\n",
      "(100, 6, 6)\n",
      "loss for iteration 21: nan\n",
      "(100, 10, 6)\n",
      "(100, 6, 6)\n",
      "loss for iteration 22: nan\n",
      "(100, 10, 6)\n",
      "(100, 6, 6)\n",
      "loss for iteration 23: nan\n",
      "(100, 10, 6)\n",
      "(100, 6, 6)\n",
      "loss for iteration 24: nan\n",
      "(100, 10, 6)\n",
      "(100, 6, 6)\n",
      "loss for iteration 25: nan\n",
      "(100, 10, 6)\n",
      "(100, 6, 6)\n",
      "loss for iteration 26: nan\n",
      "(100, 10, 6)\n",
      "(100, 6, 6)\n",
      "loss for iteration 27: nan\n",
      "(100, 10, 6)\n",
      "(100, 6, 6)\n",
      "loss for iteration 28: nan\n",
      "(100, 10, 6)\n",
      "(100, 6, 6)\n",
      "loss for iteration 29: nan\n",
      "(100, 10, 6)\n",
      "(100, 6, 6)\n",
      "loss for iteration 30: nan\n",
      "(100, 10, 6)\n",
      "(100, 6, 6)\n",
      "loss for iteration 31: nan\n",
      "(100, 10, 6)\n",
      "(100, 6, 6)\n",
      "loss for iteration 32: nan\n",
      "(100, 10, 6)\n",
      "(100, 6, 6)\n",
      "loss for iteration 33: nan\n",
      "(100, 10, 6)\n",
      "(100, 6, 6)\n",
      "loss for iteration 34: nan\n",
      "(100, 10, 6)\n",
      "(100, 6, 6)\n",
      "loss for iteration 35: nan\n",
      "(100, 10, 6)\n",
      "(100, 6, 6)\n",
      "loss for iteration 36: nan\n",
      "(100, 10, 6)\n",
      "(100, 6, 6)\n",
      "loss for iteration 37: nan\n",
      "(100, 10, 6)\n",
      "(100, 6, 6)\n",
      "loss for iteration 38: nan\n",
      "(100, 10, 6)\n",
      "(100, 6, 6)\n",
      "loss for iteration 39: nan\n",
      "(100, 10, 6)\n",
      "(100, 6, 6)\n",
      "loss for iteration 40: nan\n",
      "(100, 10, 6)\n",
      "(100, 6, 6)\n",
      "loss for iteration 41: nan\n",
      "(100, 10, 6)\n",
      "(100, 6, 6)\n",
      "loss for iteration 42: nan\n",
      "(100, 10, 6)\n",
      "(100, 6, 6)\n",
      "loss for iteration 43: nan\n",
      "(100, 10, 6)\n",
      "(100, 6, 6)\n",
      "loss for iteration 44: nan\n",
      "(100, 10, 6)\n",
      "(100, 6, 6)\n",
      "loss for iteration 45: nan\n",
      "(100, 10, 6)\n",
      "(100, 6, 6)\n",
      "loss for iteration 46: nan\n",
      "(100, 10, 6)\n",
      "(100, 6, 6)\n",
      "loss for iteration 47: nan\n",
      "(100, 10, 6)\n",
      "(100, 6, 6)\n",
      "loss for iteration 48: nan\n",
      "(100, 10, 6)\n",
      "(100, 6, 6)\n"
     ]
    },
    {
     "ename": "KeyboardInterrupt",
     "evalue": "",
     "output_type": "error",
     "traceback": [
      "\u001b[1;31m---------------------------------------------------------------------------\u001b[0m",
      "\u001b[1;31mKeyboardInterrupt\u001b[0m                         Traceback (most recent call last)",
      "Cell \u001b[1;32mIn[13], line 29\u001b[0m\n\u001b[0;32m     26\u001b[0m         \u001b[38;5;28mprint\u001b[39m(\u001b[38;5;124mf\u001b[39m\u001b[38;5;124m'\u001b[39m\u001b[38;5;124mloss for iteration \u001b[39m\u001b[38;5;132;01m{\u001b[39;00mj\u001b[38;5;132;01m}\u001b[39;00m\u001b[38;5;124m: \u001b[39m\u001b[38;5;132;01m{\u001b[39;00mloss\u001b[38;5;241m.\u001b[39mforward(Z,y)\u001b[38;5;132;01m}\u001b[39;00m\u001b[38;5;124m'\u001b[39m) \n\u001b[0;32m     27\u001b[0m     \u001b[38;5;28;01mreturn\u001b[39;00m Losses   \n\u001b[1;32m---> 29\u001b[0m arr \u001b[38;5;241m=\u001b[39m algorithm_4(x, y, m , d, p, k, n_max)\n",
      "Cell \u001b[1;32mIn[13], line 21\u001b[0m, in \u001b[0;36malgorithm_4\u001b[1;34m(x, y, m, d, p, k, n_max)\u001b[0m\n\u001b[0;32m     19\u001b[0m Losses\u001b[38;5;241m.\u001b[39mappend(loss\u001b[38;5;241m.\u001b[39mforward(Z,y))\n\u001b[0;32m     20\u001b[0m dLdz \u001b[38;5;241m=\u001b[39m loss\u001b[38;5;241m.\u001b[39mbackward()\n\u001b[1;32m---> 21\u001b[0m nueralnet\u001b[38;5;241m.\u001b[39mbackward(dLdz) \n\u001b[0;32m     22\u001b[0m layers[\u001b[38;5;241m0\u001b[39m]\u001b[38;5;241m.\u001b[39mstep_gd(alpha)\n\u001b[0;32m     23\u001b[0m layers[\u001b[38;5;241m1\u001b[39m]\u001b[38;5;241m.\u001b[39mstep_adam(j, alpha)\n",
      "File \u001b[1;32mc:\\Users\\tryme\\Documents\\GitHub\\TMA4320-Introduksjon-til-vitenskapelige-beregninger-prosjekter\\Prosjekt2-IndustriellMatematikk\\neural_network.py:29\u001b[0m, in \u001b[0;36mNeuralNetwork.backward\u001b[1;34m(self, grad)\u001b[0m\n\u001b[0;32m     27\u001b[0m \u001b[38;5;66;03m#reversed yields the layers in reversed order\u001b[39;00m\n\u001b[0;32m     28\u001b[0m \u001b[38;5;28;01mfor\u001b[39;00m layer \u001b[38;5;129;01min\u001b[39;00m \u001b[38;5;28mreversed\u001b[39m(\u001b[38;5;28mself\u001b[39m\u001b[38;5;241m.\u001b[39mlayers):\n\u001b[1;32m---> 29\u001b[0m     grad \u001b[38;5;241m=\u001b[39m layer\u001b[38;5;241m.\u001b[39mbackward(grad)\n\u001b[0;32m     30\u001b[0m \u001b[38;5;28;01mreturn\u001b[39;00m grad\n",
      "File \u001b[1;32mc:\\Users\\tryme\\Documents\\GitHub\\TMA4320-Introduksjon-til-vitenskapelige-beregninger-prosjekter\\Prosjekt2-IndustriellMatematikk\\layers.py:114\u001b[0m, in \u001b[0;36mAttention.backward\u001b[1;34m(self, grad)\u001b[0m\n\u001b[0;32m    111\u001b[0m del_L \u001b[38;5;241m+\u001b[39m\u001b[38;5;241m=\u001b[39m np\u001b[38;5;241m.\u001b[39meinsum(\u001b[38;5;124m'\u001b[39m\u001b[38;5;124mab,bc, kcd, lde -> lae\u001b[39m\u001b[38;5;124m'\u001b[39m, np\u001b[38;5;241m.\u001b[39mtranspose(\u001b[38;5;28mself\u001b[39m\u001b[38;5;241m.\u001b[39mparams[\u001b[38;5;124m\"\u001b[39m\u001b[38;5;124mW_K\u001b[39m\u001b[38;5;124m\"\u001b[39m][\u001b[38;5;124m'\u001b[39m\u001b[38;5;124mw\u001b[39m\u001b[38;5;124m'\u001b[39m]), \u001b[38;5;28mself\u001b[39m\u001b[38;5;241m.\u001b[39mparams[\u001b[38;5;124m\"\u001b[39m\u001b[38;5;124mW_Q\u001b[39m\u001b[38;5;124m\"\u001b[39m][\u001b[38;5;124m'\u001b[39m\u001b[38;5;124mw\u001b[39m\u001b[38;5;124m'\u001b[39m], \u001b[38;5;28mself\u001b[39m\u001b[38;5;241m.\u001b[39mx, grad_S, optimize\u001b[38;5;241m=\u001b[39m \u001b[38;5;28;01mTrue\u001b[39;00m)\n\u001b[0;32m    112\u001b[0m del_L \u001b[38;5;241m+\u001b[39m\u001b[38;5;241m=\u001b[39m np\u001b[38;5;241m.\u001b[39meinsum(\u001b[38;5;124m'\u001b[39m\u001b[38;5;124mab,bc, kcd, lde -> lae\u001b[39m\u001b[38;5;124m'\u001b[39m, np\u001b[38;5;241m.\u001b[39mtranspose(\u001b[38;5;28mself\u001b[39m\u001b[38;5;241m.\u001b[39mparams[\u001b[38;5;124m\"\u001b[39m\u001b[38;5;124mW_Q\u001b[39m\u001b[38;5;124m\"\u001b[39m][\u001b[38;5;124m'\u001b[39m\u001b[38;5;124mw\u001b[39m\u001b[38;5;124m'\u001b[39m]), \u001b[38;5;28mself\u001b[39m\u001b[38;5;241m.\u001b[39mparams[\u001b[38;5;124m\"\u001b[39m\u001b[38;5;124mW_K\u001b[39m\u001b[38;5;124m\"\u001b[39m][\u001b[38;5;124m'\u001b[39m\u001b[38;5;124mw\u001b[39m\u001b[38;5;124m'\u001b[39m], \u001b[38;5;28mself\u001b[39m\u001b[38;5;241m.\u001b[39mx, np\u001b[38;5;241m.\u001b[39mtranspose(grad_S,(\u001b[38;5;241m0\u001b[39m,\u001b[38;5;241m2\u001b[39m,\u001b[38;5;241m1\u001b[39m)), optimize\u001b[38;5;241m=\u001b[39m \u001b[38;5;28;01mTrue\u001b[39;00m)\n\u001b[1;32m--> 114\u001b[0m \u001b[38;5;28mself\u001b[39m\u001b[38;5;241m.\u001b[39mparams[\u001b[38;5;124m\"\u001b[39m\u001b[38;5;124mW_O\u001b[39m\u001b[38;5;124m\"\u001b[39m][\u001b[38;5;124m'\u001b[39m\u001b[38;5;124md\u001b[39m\u001b[38;5;124m'\u001b[39m] \u001b[38;5;241m=\u001b[39m np\u001b[38;5;241m.\u001b[39meinsum(\u001b[38;5;124m'\u001b[39m\u001b[38;5;124mabc, dce -> be\u001b[39m\u001b[38;5;124m'\u001b[39m, np\u001b[38;5;241m.\u001b[39mmatmul(np\u001b[38;5;241m.\u001b[39mmatmul(\u001b[38;5;28mself\u001b[39m\u001b[38;5;241m.\u001b[39mparams[\u001b[38;5;124m\"\u001b[39m\u001b[38;5;124mW_V\u001b[39m\u001b[38;5;124m\"\u001b[39m][\u001b[38;5;124m'\u001b[39m\u001b[38;5;124mw\u001b[39m\u001b[38;5;124m'\u001b[39m], \u001b[38;5;28mself\u001b[39m\u001b[38;5;241m.\u001b[39mx), \u001b[38;5;28mself\u001b[39m\u001b[38;5;241m.\u001b[39mA), np\u001b[38;5;241m.\u001b[39mtranspose(grad, (\u001b[38;5;241m0\u001b[39m, \u001b[38;5;241m2\u001b[39m, \u001b[38;5;241m1\u001b[39m)), optimize \u001b[38;5;241m=\u001b[39m \u001b[38;5;28;01mTrue\u001b[39;00m)\u001b[38;5;241m/\u001b[39m\u001b[38;5;28mself\u001b[39m\u001b[38;5;241m.\u001b[39mb\n\u001b[0;32m    115\u001b[0m \u001b[38;5;28mself\u001b[39m\u001b[38;5;241m.\u001b[39mparams[\u001b[38;5;124m\"\u001b[39m\u001b[38;5;124mW_V\u001b[39m\u001b[38;5;124m\"\u001b[39m][\u001b[38;5;124m'\u001b[39m\u001b[38;5;124md\u001b[39m\u001b[38;5;124m'\u001b[39m] \u001b[38;5;241m=\u001b[39m np\u001b[38;5;241m.\u001b[39meinsum(\u001b[38;5;124m'\u001b[39m\u001b[38;5;124mabc, dce -> be\u001b[39m\u001b[38;5;124m'\u001b[39m,np\u001b[38;5;241m.\u001b[39mmatmul(np\u001b[38;5;241m.\u001b[39mmatmul(\u001b[38;5;28mself\u001b[39m\u001b[38;5;241m.\u001b[39mparams[\u001b[38;5;124m\"\u001b[39m\u001b[38;5;124mW_O\u001b[39m\u001b[38;5;124m\"\u001b[39m][\u001b[38;5;124m'\u001b[39m\u001b[38;5;124mw\u001b[39m\u001b[38;5;124m'\u001b[39m], grad), np\u001b[38;5;241m.\u001b[39mtranspose(\u001b[38;5;28mself\u001b[39m\u001b[38;5;241m.\u001b[39mA,(\u001b[38;5;241m0\u001b[39m,\u001b[38;5;241m2\u001b[39m,\u001b[38;5;241m1\u001b[39m))), np\u001b[38;5;241m.\u001b[39mtranspose(\u001b[38;5;28mself\u001b[39m\u001b[38;5;241m.\u001b[39mx, (\u001b[38;5;241m0\u001b[39m, \u001b[38;5;241m2\u001b[39m, \u001b[38;5;241m1\u001b[39m)), optimize \u001b[38;5;241m=\u001b[39m \u001b[38;5;28;01mTrue\u001b[39;00m)\u001b[38;5;241m/\u001b[39m\u001b[38;5;28mself\u001b[39m\u001b[38;5;241m.\u001b[39mb\n\u001b[0;32m    116\u001b[0m \u001b[38;5;28mself\u001b[39m\u001b[38;5;241m.\u001b[39mparams[\u001b[38;5;124m\"\u001b[39m\u001b[38;5;124mW_Q\u001b[39m\u001b[38;5;124m\"\u001b[39m][\u001b[38;5;124m'\u001b[39m\u001b[38;5;124md\u001b[39m\u001b[38;5;124m'\u001b[39m] \u001b[38;5;241m=\u001b[39m np\u001b[38;5;241m.\u001b[39meinsum(\u001b[38;5;124m'\u001b[39m\u001b[38;5;124mabc, dce -> be\u001b[39m\u001b[38;5;124m'\u001b[39m,np\u001b[38;5;241m.\u001b[39mmatmul(np\u001b[38;5;241m.\u001b[39mmatmul(\u001b[38;5;28mself\u001b[39m\u001b[38;5;241m.\u001b[39mparams[\u001b[38;5;124m\"\u001b[39m\u001b[38;5;124mW_K\u001b[39m\u001b[38;5;124m\"\u001b[39m][\u001b[38;5;124m'\u001b[39m\u001b[38;5;124mw\u001b[39m\u001b[38;5;124m'\u001b[39m], \u001b[38;5;28mself\u001b[39m\u001b[38;5;241m.\u001b[39mx), np\u001b[38;5;241m.\u001b[39mtranspose(grad_S, (\u001b[38;5;241m0\u001b[39m, \u001b[38;5;241m2\u001b[39m, \u001b[38;5;241m1\u001b[39m))), np\u001b[38;5;241m.\u001b[39mtranspose(\u001b[38;5;28mself\u001b[39m\u001b[38;5;241m.\u001b[39mx, (\u001b[38;5;241m0\u001b[39m, \u001b[38;5;241m2\u001b[39m, \u001b[38;5;241m1\u001b[39m)), optimize \u001b[38;5;241m=\u001b[39m \u001b[38;5;28;01mTrue\u001b[39;00m)\u001b[38;5;241m/\u001b[39m\u001b[38;5;28mself\u001b[39m\u001b[38;5;241m.\u001b[39mb\n",
      "File \u001b[1;32m<__array_function__ internals>:200\u001b[0m, in \u001b[0;36meinsum\u001b[1;34m(*args, **kwargs)\u001b[0m\n",
      "File \u001b[1;32mc:\\Users\\tryme\\anaconda3\\Lib\\site-packages\\numpy\\core\\einsumfunc.py:1434\u001b[0m, in \u001b[0;36meinsum\u001b[1;34m(out, optimize, *operands, **kwargs)\u001b[0m\n\u001b[0;32m   1431\u001b[0m         kwargs[\u001b[38;5;124m\"\u001b[39m\u001b[38;5;124mout\u001b[39m\u001b[38;5;124m\"\u001b[39m] \u001b[38;5;241m=\u001b[39m out\n\u001b[0;32m   1433\u001b[0m     \u001b[38;5;66;03m# Do the contraction\u001b[39;00m\n\u001b[1;32m-> 1434\u001b[0m     new_view \u001b[38;5;241m=\u001b[39m c_einsum(einsum_str, \u001b[38;5;241m*\u001b[39mtmp_operands, \u001b[38;5;241m*\u001b[39m\u001b[38;5;241m*\u001b[39mkwargs)\n\u001b[0;32m   1436\u001b[0m \u001b[38;5;66;03m# Append new items and dereference what we can\u001b[39;00m\n\u001b[0;32m   1437\u001b[0m operands\u001b[38;5;241m.\u001b[39mappend(new_view)\n",
      "\u001b[1;31mKeyboardInterrupt\u001b[0m: "
     ]
    }
   ],
   "source": [
    "import numpy as np\n",
    "def algorithm_4(x, y, m , d, p, k, n_max):\n",
    "    n_iter = 100\n",
    "    loss = CrossEntropy()\n",
    "    L_arr = np.zeros(n_iter)\n",
    "    feed_forward1 = FeedForward(d,p)\n",
    "    attention1 = Attention(d,k)\n",
    "    embed_pos = EmbedPosition(n_max,m,d)\n",
    "    un_embed_pos = LinearLayer(d,m)\n",
    "    softmax = Softmax()\n",
    "    layers = [embed_pos, attention1,feed_forward1, un_embed_pos, softmax]\n",
    "    nueralnet = NeuralNetwork(layers)\n",
    "\n",
    "    alpha = 0.001\n",
    "    Losses = []\n",
    "    for j in range(1,n_iter):\n",
    "        X = onehot(x, m)\n",
    "        Z = nueralnet.forward(X) \n",
    "        Losses.append(loss.forward(Z,y))\n",
    "        dLdz = loss.backward()\n",
    "        nueralnet.backward(dLdz) \n",
    "        layers[0].step_gd(alpha)\n",
    "        layers[1].step_adam(j, alpha)\n",
    "        layers[2].step_gd(alpha)\n",
    "        layers[3].step_adam(j, alpha)\n",
    "        print(f'loss for iteration {j}: {loss.forward(Z,y)}') \n",
    "    return Losses   \n",
    "\n",
    "arr = algorithm_4(x, y, m , d, p, k, n_max)"
   ]
  },
  {
   "cell_type": "code",
   "execution_count": null,
   "metadata": {},
   "outputs": [
    {
     "data": {
      "image/png": "[encoded data removed]",
      "text/plain": [
       "<Figure size 640x480 with 1 Axes>"
      ]
     },
     "metadata": {},
     "output_type": "display_data"
    }
   ],
   "source": [
    "import matplotlib.pyplot as plt\n",
    "plt.plot(np.linspace(0,100,len(arr)),np.log(arr))\n",
    "plt.xlabel('Iterasjoner')\n",
    "plt.ylabel('Logaritmen av losset')\n",
    "plt.title('Plot av feil')\n",
    "plt.show()"
   ]
  },
  {
   "cell_type": "code",
   "execution_count": null,
   "metadata": {},
   "outputs": [
    {
     "name": "stderr",
     "output_type": "stream",
     "text": [
      "c:\\Users\\tryme\\Documents\\GitHub\\TMA4320-Introduksjon-til-vitenskapelige-beregninger-prosjekter\\Prosjekt2-IndustriellMatematikk\\layers.py:178: RuntimeWarning: divide by zero encountered in log\n",
      "  self.Q = -np.log(self.P)\n",
      "c:\\Users\\tryme\\Documents\\GitHub\\TMA4320-Introduksjon-til-vitenskapelige-beregninger-prosjekter\\Prosjekt2-IndustriellMatematikk\\layers.py:111: RuntimeWarning: invalid value encountered in add\n",
      "  del_L += np.einsum('ab,bc, kcd, lde -> lae', np.transpose(self.params[\"W_Q\"]['w']), self.params[\"W_K\"]['w'], self.x, np.transpose(grad_S,(0,2,1)), optimize= True)\n",
      "c:\\Users\\tryme\\anaconda3\\Lib\\site-packages\\numpy\\core\\fromnumeric.py:86: RuntimeWarning: invalid value encountered in reduce\n",
      "  return ufunc.reduce(obj, axis, dtype, out, **passkwargs)\n"
     ]
    },
    {
     "name": "stdout",
     "output_type": "stream",
     "text": [
      "Iterasjon  0  L =  inf \n",
      "Iterasjon  1  L =  nan \n",
      "Iterasjon  2  L =  nan \n",
      "Iterasjon  3  L =  nan \n",
      "Iterasjon  4  L =  nan \n",
      "Iterasjon  5  L =  nan \n",
      "Iterasjon  6  L =  nan \n",
      "Iterasjon  7  L =  nan \n",
      "Iterasjon  8  L =  nan \n",
      "Iterasjon  9  L =  nan \n",
      "Iterasjon  10  L =  nan \n",
      "Iterasjon  11  L =  nan \n",
      "Iterasjon  12  L =  nan \n",
      "Iterasjon  13  L =  nan \n",
      "Iterasjon  14  L =  nan \n",
      "Iterasjon  15  L =  nan \n",
      "Iterasjon  16  L =  nan \n",
      "Iterasjon  17  L =  nan \n",
      "Iterasjon  18  L =  nan \n",
      "Iterasjon  19  L =  nan \n",
      "Iterasjon  20  L =  nan \n",
      "Iterasjon  21  L =  nan \n",
      "Iterasjon  22  L =  nan \n",
      "Iterasjon  23  L =  nan \n",
      "Iterasjon  24  L =  nan \n",
      "Iterasjon  25  L =  nan \n",
      "Iterasjon  26  L =  nan \n",
      "Iterasjon  27  L =  nan \n",
      "Iterasjon  28  L =  nan \n",
      "Iterasjon  29  L =  nan \n",
      "Iterasjon  30  L =  nan \n",
      "Iterasjon  31  L =  nan \n",
      "Iterasjon  32  L =  nan \n",
      "Iterasjon  33  L =  nan \n",
      "Iterasjon  34  L =  nan \n",
      "Iterasjon  35  L =  nan \n",
      "Iterasjon  36  L =  nan \n",
      "Iterasjon  37  L =  nan \n",
      "Iterasjon  38  L =  nan \n",
      "Iterasjon  39  L =  nan \n",
      "Iterasjon  40  L =  nan \n",
      "Iterasjon  41  L =  nan \n",
      "Iterasjon  42  L =  nan \n",
      "Iterasjon  43  L =  nan \n",
      "Iterasjon  44  L =  nan \n",
      "Iterasjon  45  L =  nan \n",
      "Iterasjon  46  L =  nan \n",
      "Iterasjon  47  L =  nan \n",
      "Iterasjon  48  L =  nan \n",
      "Iterasjon  49  L =  nan \n"
     ]
    }
   ],
   "source": [
    "import numpy as np\n",
    "\n",
    "xs = data['x_train']\n",
    "ys = data['y_train']\n",
    "\n",
    "n_batches = xs.shape[0]\n",
    "n_iters = 100\n",
    "step_size = 0.1\n",
    "\n",
    "\n",
    "#treningsløkke tilsvarende algoritme 4 (med gradient descent)\n",
    "for j in range(n_iters):\n",
    "    losses = []\n",
    "    for i in range(n_batches):\n",
    "        x = xs[i]\n",
    "        y = ys[i]\n",
    "\n",
    "        X = onehot(x,m)\n",
    "        Z = nn.forward(X)\n",
    "\n",
    "        losses.append(loss.forward(Z,y))\n",
    "        dLdZ = loss.backward()\n",
    "        nn.backward(dLdZ)\n",
    "        nn.step_gd(step_size)\n",
    "    mean_loss = np.mean(losses)\n",
    "    print(\"Iterasjon \", str(j), \" L = \",mean_loss, \"\")"
   ]
  },
  {
   "cell_type": "code",
   "execution_count": null,
   "metadata": {},
   "outputs": [
    {
     "name": "stdout",
     "output_type": "stream",
     "text": [
      "-0.13857317601666091\n",
      "-0.00010665015797989286\n"
     ]
    }
   ],
   "source": [
    "#etter trening ser vi at W_2 er gitt ved\n",
    "\n",
    "W_2_post_opt = nn.layers[2].l2.params['w']['w'].copy()\n",
    "print(W_2_post_opt[0,0])\n",
    "\n",
    "#dersom differansen er større enn null har dette parameteret endret seg etter \n",
    "#gradient descent\n",
    "print(W_2_post_opt[0,0] - W_2_pre_opt[0,0])\n",
    "\n",
    "\n"
   ]
  }
 ],
 "metadata": {
  "kernelspec": {
   "display_name": "Python 3",
   "language": "python",
   "name": "python3"
  },
  "language_info": {
   "codemirror_mode": {
    "name": "ipython",
    "version": 3
   },
   "file_extension": ".py",
   "mimetype": "text/x-python",
   "name": "python",
   "nbconvert_exporter": "python",
   "pygments_lexer": "ipython3",
   "version": "3.11.5"
  }
 },
 "nbformat": 4,
 "nbformat_minor": 2
}
