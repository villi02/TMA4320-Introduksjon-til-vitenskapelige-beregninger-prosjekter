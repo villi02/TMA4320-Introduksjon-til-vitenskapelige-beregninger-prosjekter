{
 "cells": [
  {
   "cell_type": "code",
   "execution_count": 1,
   "metadata": {},
   "outputs": [],
   "source": [
    "from data_generators import get_train_test_addition\n",
    "\n",
    "#dimensjoner og størrelser til x og y\n",
    "n_digits = 2\n",
    "n_max = 3*n_digits\n",
    "m = 10\n",
    "\n",
    "#definerer størrelsen på parametermatrisene\n",
    "d = 15\n",
    "k = 5\n",
    "p = 20\n",
    "\n",
    "#henter treningsdata\n",
    "data = get_train_test_addition(n_digits,samples_per_batch=100,n_batches_train=4)"
   ]
  },
  {
   "cell_type": "code",
   "execution_count": 2,
   "metadata": {},
   "outputs": [],
   "source": [
    "from utils import onehot\n",
    "\n",
    "x = data['x_train'][0]\n",
    "X = onehot(x,m)\n",
    "y = data['y_train'][0]"
   ]
  },
  {
   "cell_type": "code",
   "execution_count": 3,
   "metadata": {},
   "outputs": [
    {
     "data": {
      "text/plain": [
       "(4, 100, 6)"
      ]
     },
     "execution_count": 3,
     "metadata": {},
     "output_type": "execute_result"
    }
   ],
   "source": [
    "data['x_train'].shape"
   ]
  },
  {
   "cell_type": "code",
   "execution_count": 4,
   "metadata": {},
   "outputs": [],
   "source": [
    "from layers import LinearLayer,EmbedPosition,Attention,Softmax,CrossEntropy,FeedForward\n",
    "\n",
    "embed = EmbedPosition(n_max,m,d)\n",
    "att1 = Attention(d,k)\n",
    "ff1 = FeedForward(d,p)\n",
    "un_embed = LinearLayer(d,m)\n",
    "softmax = Softmax()\n",
    "loss = CrossEntropy()"
   ]
  },
  {
   "cell_type": "code",
   "execution_count": 5,
   "metadata": {},
   "outputs": [
    {
     "data": {
      "text/plain": [
       "array([[0., 0., 0., 0., 0., 0., 0., 0., 0., 0., 0., 0., 0., 0., 0., 0.,\n",
       "        0., 0., 0., 0.],\n",
       "       [0., 0., 0., 0., 0., 0., 0., 0., 0., 0., 0., 0., 0., 0., 0., 0.,\n",
       "        0., 0., 0., 0.],\n",
       "       [0., 0., 0., 0., 0., 0., 0., 0., 0., 0., 0., 0., 0., 0., 0., 0.,\n",
       "        0., 0., 0., 0.],\n",
       "       [0., 0., 0., 0., 0., 0., 0., 0., 0., 0., 0., 0., 0., 0., 0., 0.,\n",
       "        0., 0., 0., 0.],\n",
       "       [0., 0., 0., 0., 0., 0., 0., 0., 0., 0., 0., 0., 0., 0., 0., 0.,\n",
       "        0., 0., 0., 0.],\n",
       "       [0., 0., 0., 0., 0., 0., 0., 0., 0., 0., 0., 0., 0., 0., 0., 0.,\n",
       "        0., 0., 0., 0.],\n",
       "       [0., 0., 0., 0., 0., 0., 0., 0., 0., 0., 0., 0., 0., 0., 0., 0.,\n",
       "        0., 0., 0., 0.],\n",
       "       [0., 0., 0., 0., 0., 0., 0., 0., 0., 0., 0., 0., 0., 0., 0., 0.,\n",
       "        0., 0., 0., 0.],\n",
       "       [0., 0., 0., 0., 0., 0., 0., 0., 0., 0., 0., 0., 0., 0., 0., 0.,\n",
       "        0., 0., 0., 0.],\n",
       "       [0., 0., 0., 0., 0., 0., 0., 0., 0., 0., 0., 0., 0., 0., 0., 0.,\n",
       "        0., 0., 0., 0.],\n",
       "       [0., 0., 0., 0., 0., 0., 0., 0., 0., 0., 0., 0., 0., 0., 0., 0.,\n",
       "        0., 0., 0., 0.],\n",
       "       [0., 0., 0., 0., 0., 0., 0., 0., 0., 0., 0., 0., 0., 0., 0., 0.,\n",
       "        0., 0., 0., 0.],\n",
       "       [0., 0., 0., 0., 0., 0., 0., 0., 0., 0., 0., 0., 0., 0., 0., 0.,\n",
       "        0., 0., 0., 0.],\n",
       "       [0., 0., 0., 0., 0., 0., 0., 0., 0., 0., 0., 0., 0., 0., 0., 0.,\n",
       "        0., 0., 0., 0.],\n",
       "       [0., 0., 0., 0., 0., 0., 0., 0., 0., 0., 0., 0., 0., 0., 0., 0.,\n",
       "        0., 0., 0., 0.]])"
      ]
     },
     "execution_count": 5,
     "metadata": {},
     "output_type": "execute_result"
    }
   ],
   "source": [
    "#vi ser at dLdW_2 tilhørende ff1 (først finner vi det lineære laget l2\n",
    "#så nøkkel 'w' i params dict-en, så nøkkel 'd' for å finne den deriverte)\n",
    "#nå er denne bare en nullmatrise \n",
    "ff1.l2.params['w']['d']"
   ]
  },
  {
   "cell_type": "code",
   "execution_count": 6,
   "metadata": {},
   "outputs": [],
   "source": [
    "#\"manuelt\" forward pass (tilsvarende algoritme 1)\n",
    "z0 = embed.forward(X)\n",
    "z1 = att1.forward(z0)\n",
    "z2 = ff1.forward(z1)\n",
    "z = un_embed.forward(z2)\n",
    "Z = softmax.forward(z)"
   ]
  },
  {
   "cell_type": "code",
   "execution_count": 7,
   "metadata": {},
   "outputs": [
    {
     "name": "stdout",
     "output_type": "stream",
     "text": [
      "1.8978686861208496\n"
     ]
    }
   ],
   "source": [
    "#evaluerer objektfunksjonen\n",
    "L = loss.forward(Z,y)\n",
    "print(L)\n",
    "\n",
    "#finner den deriverte av objektfunksjonen mhp Z\n",
    "dLdZ = loss.backward()"
   ]
  },
  {
   "cell_type": "code",
   "execution_count": 8,
   "metadata": {},
   "outputs": [
    {
     "ename": "ValueError",
     "evalue": "operands could not be broadcast together with shapes (100,10,7) (100,10,6) ",
     "output_type": "error",
     "traceback": [
      "\u001b[1;31m---------------------------------------------------------------------------\u001b[0m",
      "\u001b[1;31mValueError\u001b[0m                                Traceback (most recent call last)",
      "Cell \u001b[1;32mIn[8], line 2\u001b[0m\n\u001b[0;32m      1\u001b[0m \u001b[38;5;66;03m#\"manuelt\" backward pass (tilsvarende algoritme 2)\u001b[39;00m\n\u001b[1;32m----> 2\u001b[0m dLdz \u001b[38;5;241m=\u001b[39m softmax\u001b[38;5;241m.\u001b[39mbackward(dLdZ)\n\u001b[0;32m      3\u001b[0m \u001b[38;5;28mprint\u001b[39m(\u001b[38;5;124m'\u001b[39m\u001b[38;5;124m1\u001b[39m\u001b[38;5;124m'\u001b[39m)\n\u001b[0;32m      4\u001b[0m dLdz2 \u001b[38;5;241m=\u001b[39m un_embed\u001b[38;5;241m.\u001b[39mbackward(dLdz)\n",
      "File \u001b[1;32mc:\\Users\\tryme\\Documents\\GitHub\\TMA4320-Introduksjon-til-vitenskapelige-beregninger-prosjekter\\Prosjekt2-IndustriellMatematikk\\layers.py:151\u001b[0m, in \u001b[0;36mSoftmax.backward\u001b[1;34m(self, grad)\u001b[0m\n\u001b[0;32m    149\u001b[0m Q \u001b[38;5;241m=\u001b[39m np\u001b[38;5;241m.\u001b[39msum(\u001b[38;5;28mself\u001b[39m\u001b[38;5;241m.\u001b[39mP,axis\u001b[38;5;241m=\u001b[39m\u001b[38;5;241m0\u001b[39m,keepdims\u001b[38;5;241m=\u001b[39m\u001b[38;5;28;01mTrue\u001b[39;00m)\n\u001b[0;32m    150\u001b[0m S \u001b[38;5;241m=\u001b[39m P\u001b[38;5;241m/\u001b[39m(Q\u001b[38;5;241m*\u001b[39mQ\u001b[38;5;241m+\u001b[39m\u001b[38;5;28mself\u001b[39m\u001b[38;5;241m.\u001b[39mepsilon)\n\u001b[1;32m--> 151\u001b[0m \u001b[38;5;28mself\u001b[39m\u001b[38;5;241m.\u001b[39mb \u001b[38;5;241m=\u001b[39m grad\u001b[38;5;241m*\u001b[39m\u001b[38;5;28mself\u001b[39m\u001b[38;5;241m.\u001b[39mZ\u001b[38;5;241m-\u001b[39m np\u001b[38;5;241m.\u001b[39msum(grad\u001b[38;5;241m*\u001b[39mS)\u001b[38;5;241m*\u001b[39mP     \n\u001b[0;32m    153\u001b[0m \u001b[38;5;28;01mreturn\u001b[39;00m \u001b[38;5;28mself\u001b[39m\u001b[38;5;241m.\u001b[39mb\n",
      "\u001b[1;31mValueError\u001b[0m: operands could not be broadcast together with shapes (100,10,7) (100,10,6) "
     ]
    }
   ],
   "source": [
    "#\"manuelt\" backward pass (tilsvarende algoritme 2)\n",
    "dLdz = softmax.backward(dLdZ)\n",
    "print('1')\n",
    "dLdz2 = un_embed.backward(dLdz)\n",
    "print('2')\n",
    "dLdz1 = ff1.backward(dLdz2)\n",
    "print('3')\n",
    "dLdz0 = att1.backward(dLdz1)\n",
    "print('4')\n",
    "embed.backward(dLdz0)"
   ]
  },
  {
   "cell_type": "code",
   "execution_count": null,
   "metadata": {},
   "outputs": [
    {
     "data": {
      "text/plain": [
       "array([[-8.55180647e-06,  2.77222691e-04,  6.20648883e-04,\n",
       "         3.69191912e-04,  1.53258454e-04,  1.37358689e-04,\n",
       "         9.81788509e-04,  4.58466752e-04,  5.30768210e-04,\n",
       "         3.34987189e-04,  8.77523082e-04,  6.68256972e-05,\n",
       "         6.80254526e-04,  6.23545057e-04,  5.99204086e-04,\n",
       "         3.41878140e-04,  8.55225161e-04,  1.00841773e-03,\n",
       "         1.72115406e-04,  6.74327446e-04],\n",
       "       [ 1.69301213e-03,  1.74353729e-03,  4.67171969e-03,\n",
       "         4.21596603e-03,  5.17138184e-03,  4.73500389e-03,\n",
       "         2.29462565e-03,  3.06875754e-03,  3.71466242e-03,\n",
       "         1.67709129e-03,  8.95939326e-03,  2.21606677e-03,\n",
       "         4.29504412e-03,  3.47132472e-03,  1.17943195e-03,\n",
       "         3.45494368e-03,  3.62757126e-03,  4.25837911e-03,\n",
       "         3.43026511e-03,  3.12284355e-03],\n",
       "       [-1.49681467e-03, -1.64031980e-03, -4.54380257e-03,\n",
       "        -4.31646456e-03, -5.38736695e-03, -5.21831538e-03,\n",
       "        -2.33587444e-03, -3.44090166e-03, -3.90498562e-03,\n",
       "        -1.50262149e-03, -8.28508699e-03, -2.41238357e-03,\n",
       "        -3.93495302e-03, -3.33956385e-03, -1.16632528e-03,\n",
       "        -3.71735581e-03, -3.43884128e-03, -4.46911496e-03,\n",
       "        -3.28254873e-03, -3.01464053e-03],\n",
       "       [ 3.60267786e-03,  3.50844330e-03,  9.77563965e-03,\n",
       "         9.26202914e-03,  1.15260844e-02,  1.09564614e-02,\n",
       "         4.16696742e-03,  6.77912233e-03,  7.87120450e-03,\n",
       "         3.28903116e-03,  1.82274475e-02,  5.09810206e-03,\n",
       "         8.26572454e-03,  7.30949862e-03,  2.12613392e-03,\n",
       "         7.64630959e-03,  7.06356733e-03,  8.60403961e-03,\n",
       "         7.06439268e-03,  5.94912231e-03],\n",
       "       [ 1.08927273e-03,  1.05502354e-03,  3.15731285e-03,\n",
       "         3.33455246e-03,  3.74108070e-03,  3.60219974e-03,\n",
       "         1.39269882e-03,  2.30913287e-03,  2.73439558e-03,\n",
       "         9.14409463e-04,  5.63997053e-03,  1.56006344e-03,\n",
       "         2.46850773e-03,  2.11249134e-03,  7.16525196e-04,\n",
       "         2.72084461e-03,  2.22660539e-03,  3.02457046e-03,\n",
       "         2.12577988e-03,  1.69899601e-03],\n",
       "       [ 5.47301008e-04,  4.45028787e-04,  1.32755719e-03,\n",
       "         1.39242838e-03,  1.72920675e-03,  1.65319700e-03,\n",
       "         3.43236558e-04,  9.73895181e-04,  1.08640018e-03,\n",
       "         3.68543203e-04,  2.29604881e-03,  7.46704598e-04,\n",
       "         8.96087289e-04,  9.15573252e-04,  1.75278581e-04,\n",
       "         1.10453132e-03,  7.27873983e-04,  1.11088206e-03,\n",
       "         8.52731063e-04,  5.80158220e-04],\n",
       "       [ 2.03667994e-03,  2.18543153e-03,  5.95936548e-03,\n",
       "         5.56979371e-03,  6.92766748e-03,  6.45062520e-03,\n",
       "         3.39359595e-03,  4.34286877e-03,  5.11460402e-03,\n",
       "         2.00689553e-03,  1.11565468e-02,  2.89107809e-03,\n",
       "         5.57309166e-03,  4.33428284e-03,  1.74063918e-03,\n",
       "         4.58151692e-03,  4.87475880e-03,  6.34127274e-03,\n",
       "         4.05463709e-03,  4.10601852e-03],\n",
       "       [-2.54510426e-03, -2.49117864e-03, -7.08305537e-03,\n",
       "        -6.64287394e-03, -8.36887320e-03, -7.99194324e-03,\n",
       "        -3.63398589e-03, -5.03078580e-03, -5.95483389e-03,\n",
       "        -2.39375045e-03, -1.32075747e-02, -3.64806402e-03,\n",
       "        -6.34006392e-03, -5.31332650e-03, -1.85450552e-03,\n",
       "        -5.56378206e-03, -5.66866647e-03, -6.96237677e-03,\n",
       "        -4.96935422e-03, -4.68718138e-03],\n",
       "       [-1.75902741e-03, -1.96281671e-03, -5.36594237e-03,\n",
       "        -5.11035660e-03, -5.97486606e-03, -5.73924419e-03,\n",
       "        -2.85046638e-03, -3.86559441e-03, -4.42840721e-03,\n",
       "        -1.80436648e-03, -9.66808953e-03, -2.60953090e-03,\n",
       "        -4.57672028e-03, -4.00623629e-03, -1.53904878e-03,\n",
       "        -4.18507213e-03, -4.11757651e-03, -5.26112242e-03,\n",
       "        -3.55723154e-03, -3.35647448e-03],\n",
       "       [ 1.52012459e-03,  1.55383708e-03,  4.44862080e-03,\n",
       "         4.21607499e-03,  5.36553176e-03,  5.18910140e-03,\n",
       "         2.36624286e-03,  3.36031956e-03,  3.81689256e-03,\n",
       "         1.50325984e-03,  8.10145606e-03,  2.36928847e-03,\n",
       "         3.88250359e-03,  3.43980866e-03,  1.21851391e-03,\n",
       "         3.57334172e-03,  3.56428325e-03,  4.51935134e-03,\n",
       "         3.04744546e-03,  2.94667947e-03],\n",
       "       [ 1.39753128e-03,  1.07011336e-03,  3.28503116e-03,\n",
       "         3.17417080e-03,  3.69924770e-03,  3.67940548e-03,\n",
       "         1.38019581e-03,  2.06021231e-03,  2.35277987e-03,\n",
       "         1.23434474e-03,  5.78232978e-03,  1.70714278e-03,\n",
       "         2.54611466e-03,  2.79652114e-03,  8.63901136e-04,\n",
       "         2.40286438e-03,  2.53872816e-03,  2.73167088e-03,\n",
       "         2.10135101e-03,  1.69162845e-03],\n",
       "       [ 2.10247568e-03,  2.14936672e-03,  5.91730323e-03,\n",
       "         5.43828071e-03,  6.33894592e-03,  6.21363751e-03,\n",
       "         3.55253122e-03,  4.16381122e-03,  4.83448529e-03,\n",
       "         2.07244705e-03,  1.01345124e-02,  2.85788760e-03,\n",
       "         5.11079497e-03,  4.36555917e-03,  1.99031235e-03,\n",
       "         4.41532305e-03,  4.69044692e-03,  6.22081372e-03,\n",
       "         3.67108915e-03,  3.83587623e-03],\n",
       "       [ 2.22478236e-03,  2.52505031e-03,  7.07518513e-03,\n",
       "         6.55912562e-03,  7.42974004e-03,  7.35716625e-03,\n",
       "         4.76366792e-03,  5.18511571e-03,  6.00479513e-03,\n",
       "         2.47354935e-03,  1.20257644e-02,  3.30776279e-03,\n",
       "         6.17135152e-03,  5.38510358e-03,  2.67460096e-03,\n",
       "         5.43749380e-03,  6.04565297e-03,  7.87861495e-03,\n",
       "         4.19427407e-03,  4.76816438e-03],\n",
       "       [ 3.33359373e-03,  3.64081838e-03,  9.93489649e-03,\n",
       "         9.25017576e-03,  1.10893689e-02,  1.05960807e-02,\n",
       "         5.61529471e-03,  7.20093856e-03,  8.36869358e-03,\n",
       "         3.38025116e-03,  1.78191808e-02,  4.85287794e-03,\n",
       "         8.76085846e-03,  7.22920104e-03,  2.96479141e-03,\n",
       "         7.71225078e-03,  7.76721461e-03,  1.01909907e-02,\n",
       "         6.67649882e-03,  6.60975615e-03],\n",
       "       [-6.01053600e-04, -4.17809067e-04, -1.27357351e-03,\n",
       "        -1.20525768e-03, -1.16702243e-03, -1.33219056e-03,\n",
       "        -3.91905909e-04, -6.03504637e-04, -6.74821141e-04,\n",
       "        -4.82092501e-04, -1.94542908e-03, -6.48415269e-04,\n",
       "        -7.11753110e-04, -1.16904177e-03, -3.56365571e-04,\n",
       "        -8.11572384e-04, -8.26906814e-04, -7.27722315e-04,\n",
       "        -6.01535963e-04, -3.71073239e-04]])"
      ]
     },
     "execution_count": 9,
     "metadata": {},
     "output_type": "execute_result"
    }
   ],
   "source": [
    "#etter backward pass har dLdW_2 fått verdier\n",
    "ff1.l2.params['w']['d']"
   ]
  },
  {
   "cell_type": "code",
   "execution_count": null,
   "metadata": {},
   "outputs": [],
   "source": [
    "from neural_network import NeuralNetwork\n",
    "\n",
    "#vi kan samle lagene i en liste som vi bruker for å\n",
    "#initialisere et nevralt nettverk der vi kan bruke forward() og backward() \n",
    "#for å oppnå det samme som vi gjorde manuelt over\n",
    "\n",
    "layers = [embed,att1,ff1,un_embed,softmax]\n",
    "nn = NeuralNetwork(layers)"
   ]
  },
  {
   "cell_type": "code",
   "execution_count": null,
   "metadata": {},
   "outputs": [
    {
     "name": "stdout",
     "output_type": "stream",
     "text": [
      "1.903142451933809\n",
      "hei\n"
     ]
    }
   ],
   "source": [
    "#forward pass tilsvarende algoritme 1\n",
    "Z = nn.forward(X)\n",
    "\n",
    "#beregner loss med CrossEntropy\n",
    "L = loss.forward(Z,y)\n",
    "print(L)\n",
    "\n",
    "#backward pass tilsvarende algoritme 2\n",
    "dLdZ = loss.backward()\n",
    "nn.backward(dLdZ)"
   ]
  },
  {
   "cell_type": "code",
   "execution_count": null,
   "metadata": {},
   "outputs": [
    {
     "name": "stdout",
     "output_type": "stream",
     "text": [
      "0.06310878976328958\n"
     ]
    }
   ],
   "source": [
    "#før optimering er W_2[0,0] gitt ved\n",
    "#ff1 er det tredje laget i layers-listen (derav layers[2])\n",
    "W_2_pre_opt = nn.layers[2].l2.params['w']['w'].copy()\n",
    "print(W_2_pre_opt[0,0])"
   ]
  },
  {
   "cell_type": "code",
   "execution_count": null,
   "metadata": {},
   "outputs": [
    {
     "name": "stdout",
     "output_type": "stream",
     "text": [
      "hei\n"
     ]
    },
    {
     "name": "stderr",
     "output_type": "stream",
     "text": [
      "c:\\Users\\tryme\\Documents\\GitHub\\TMA4320-Introduksjon-til-vitenskapelige-beregninger-prosjekter\\Prosjekt2-IndustriellMatematikk\\layers.py:137: RuntimeWarning: overflow encountered in exp\n",
      "  self.P = np.exp(x)\n",
      "c:\\Users\\tryme\\Documents\\GitHub\\TMA4320-Introduksjon-til-vitenskapelige-beregninger-prosjekter\\Prosjekt2-IndustriellMatematikk\\layers.py:139: RuntimeWarning: invalid value encountered in divide\n",
      "  self.Z = self.P/(Q+self.epsilon)\n",
      "c:\\Users\\tryme\\Documents\\GitHub\\TMA4320-Introduksjon-til-vitenskapelige-beregninger-prosjekter\\Prosjekt2-IndustriellMatematikk\\layers.py:148: RuntimeWarning: overflow encountered in exp\n",
      "  P = np.exp(self.x)\n",
      "c:\\Users\\tryme\\Documents\\GitHub\\TMA4320-Introduksjon-til-vitenskapelige-beregninger-prosjekter\\Prosjekt2-IndustriellMatematikk\\layers.py:150: RuntimeWarning: invalid value encountered in divide\n",
      "  S = P/(Q*Q+self.epsilon)\n"
     ]
    },
    {
     "name": "stdout",
     "output_type": "stream",
     "text": [
      "hei\n",
      "hei\n",
      "hei\n",
      "Iterasjon  0  L =  nan \n",
      "hei\n",
      "hei\n",
      "hei\n",
      "hei\n",
      "Iterasjon  1  L =  nan \n",
      "hei\n"
     ]
    },
    {
     "ename": "KeyboardInterrupt",
     "evalue": "",
     "output_type": "error",
     "traceback": [
      "\u001b[1;31m---------------------------------------------------------------------------\u001b[0m",
      "\u001b[1;31mKeyboardInterrupt\u001b[0m                         Traceback (most recent call last)",
      "Cell \u001b[1;32mIn[13], line 22\u001b[0m\n\u001b[0;32m     20\u001b[0m     losses\u001b[38;5;241m.\u001b[39mappend(loss\u001b[38;5;241m.\u001b[39mforward(Z,y))\n\u001b[0;32m     21\u001b[0m     dLdZ \u001b[38;5;241m=\u001b[39m loss\u001b[38;5;241m.\u001b[39mbackward()\n\u001b[1;32m---> 22\u001b[0m     nn\u001b[38;5;241m.\u001b[39mbackward(dLdZ)\n\u001b[0;32m     23\u001b[0m     nn\u001b[38;5;241m.\u001b[39mstep_gd(step_size)\n\u001b[0;32m     24\u001b[0m mean_loss \u001b[38;5;241m=\u001b[39m np\u001b[38;5;241m.\u001b[39mmean(losses)\n",
      "File \u001b[1;32mc:\\Users\\tryme\\Documents\\GitHub\\TMA4320-Introduksjon-til-vitenskapelige-beregninger-prosjekter\\Prosjekt2-IndustriellMatematikk\\neural_network.py:29\u001b[0m, in \u001b[0;36mNeuralNetwork.backward\u001b[1;34m(self, grad)\u001b[0m\n\u001b[0;32m     27\u001b[0m \u001b[38;5;66;03m#reversed yields the layers in reversed order\u001b[39;00m\n\u001b[0;32m     28\u001b[0m \u001b[38;5;28;01mfor\u001b[39;00m layer \u001b[38;5;129;01min\u001b[39;00m \u001b[38;5;28mreversed\u001b[39m(\u001b[38;5;28mself\u001b[39m\u001b[38;5;241m.\u001b[39mlayers):\n\u001b[1;32m---> 29\u001b[0m     grad \u001b[38;5;241m=\u001b[39m layer\u001b[38;5;241m.\u001b[39mbackward(grad)\n\u001b[0;32m     30\u001b[0m \u001b[38;5;28;01mreturn\u001b[39;00m grad\n",
      "File \u001b[1;32mc:\\Users\\tryme\\Documents\\GitHub\\TMA4320-Introduksjon-til-vitenskapelige-beregninger-prosjekter\\Prosjekt2-IndustriellMatematikk\\layers.py:109\u001b[0m, in \u001b[0;36mAttention.backward\u001b[1;34m(self, grad)\u001b[0m\n\u001b[0;32m    107\u001b[0m grad_OV \u001b[38;5;241m=\u001b[39m np\u001b[38;5;241m.\u001b[39meinsum(\u001b[38;5;124m'\u001b[39m\u001b[38;5;124mab,bc,kcd -> kad\u001b[39m\u001b[38;5;124m'\u001b[39m,np\u001b[38;5;241m.\u001b[39mtranspose(\u001b[38;5;28mself\u001b[39m\u001b[38;5;241m.\u001b[39mparams[\u001b[38;5;124m\"\u001b[39m\u001b[38;5;124mW_V\u001b[39m\u001b[38;5;124m\"\u001b[39m][\u001b[38;5;124m'\u001b[39m\u001b[38;5;124mw\u001b[39m\u001b[38;5;124m'\u001b[39m]),\u001b[38;5;28mself\u001b[39m\u001b[38;5;241m.\u001b[39mparams[\u001b[38;5;124m\"\u001b[39m\u001b[38;5;124mW_O\u001b[39m\u001b[38;5;124m\"\u001b[39m][\u001b[38;5;124m'\u001b[39m\u001b[38;5;124mw\u001b[39m\u001b[38;5;124m'\u001b[39m], grad )\n\u001b[0;32m    108\u001b[0m grad_S \u001b[38;5;241m=\u001b[39m \u001b[38;5;28mself\u001b[39m\u001b[38;5;241m.\u001b[39msoftmax\u001b[38;5;241m.\u001b[39mbackward(np\u001b[38;5;241m.\u001b[39meinsum(\u001b[38;5;124m'\u001b[39m\u001b[38;5;124mabc, dce ->dbe\u001b[39m\u001b[38;5;124m'\u001b[39m,np\u001b[38;5;241m.\u001b[39mtranspose(\u001b[38;5;28mself\u001b[39m\u001b[38;5;241m.\u001b[39mx,(\u001b[38;5;241m0\u001b[39m,\u001b[38;5;241m2\u001b[39m,\u001b[38;5;241m1\u001b[39m)),grad_OV))\n\u001b[1;32m--> 109\u001b[0m del_L \u001b[38;5;241m=\u001b[39m grad \u001b[38;5;241m+\u001b[39m np\u001b[38;5;241m.\u001b[39meinsum(\u001b[38;5;124m'\u001b[39m\u001b[38;5;124mabc, ce ->abe\u001b[39m\u001b[38;5;124m'\u001b[39m, grad_OV, np\u001b[38;5;241m.\u001b[39mtranspose(\u001b[38;5;28mself\u001b[39m\u001b[38;5;241m.\u001b[39mA))\u001b[38;5;241m+\u001b[39mnp\u001b[38;5;241m.\u001b[39meinsum(\u001b[38;5;124m'\u001b[39m\u001b[38;5;124mab,bc, kcd, lde -> lae\u001b[39m\u001b[38;5;124m'\u001b[39m, np\u001b[38;5;241m.\u001b[39mtranspose(\u001b[38;5;28mself\u001b[39m\u001b[38;5;241m.\u001b[39mparams[\u001b[38;5;124m\"\u001b[39m\u001b[38;5;124mW_K\u001b[39m\u001b[38;5;124m\"\u001b[39m][\u001b[38;5;124m'\u001b[39m\u001b[38;5;124mw\u001b[39m\u001b[38;5;124m'\u001b[39m]), \u001b[38;5;28mself\u001b[39m\u001b[38;5;241m.\u001b[39mparams[\u001b[38;5;124m\"\u001b[39m\u001b[38;5;124mW_Q\u001b[39m\u001b[38;5;124m\"\u001b[39m][\u001b[38;5;124m'\u001b[39m\u001b[38;5;124mw\u001b[39m\u001b[38;5;124m'\u001b[39m], \u001b[38;5;28mself\u001b[39m\u001b[38;5;241m.\u001b[39mx, grad_S)\n\u001b[0;32m    110\u001b[0m del_L \u001b[38;5;241m+\u001b[39m\u001b[38;5;241m=\u001b[39m np\u001b[38;5;241m.\u001b[39meinsum(\u001b[38;5;124m'\u001b[39m\u001b[38;5;124mab,bc, kcd, lde -> lae\u001b[39m\u001b[38;5;124m'\u001b[39m, np\u001b[38;5;241m.\u001b[39mtranspose(\u001b[38;5;28mself\u001b[39m\u001b[38;5;241m.\u001b[39mparams[\u001b[38;5;124m\"\u001b[39m\u001b[38;5;124mW_Q\u001b[39m\u001b[38;5;124m\"\u001b[39m][\u001b[38;5;124m'\u001b[39m\u001b[38;5;124mw\u001b[39m\u001b[38;5;124m'\u001b[39m]), \u001b[38;5;28mself\u001b[39m\u001b[38;5;241m.\u001b[39mparams[\u001b[38;5;124m\"\u001b[39m\u001b[38;5;124mW_K\u001b[39m\u001b[38;5;124m\"\u001b[39m][\u001b[38;5;124m'\u001b[39m\u001b[38;5;124mw\u001b[39m\u001b[38;5;124m'\u001b[39m], \u001b[38;5;28mself\u001b[39m\u001b[38;5;241m.\u001b[39mx, np\u001b[38;5;241m.\u001b[39mtranspose(grad_S,(\u001b[38;5;241m0\u001b[39m,\u001b[38;5;241m2\u001b[39m,\u001b[38;5;241m1\u001b[39m)))\n\u001b[0;32m    111\u001b[0m \u001b[38;5;28mprint\u001b[39m(\u001b[38;5;124m'\u001b[39m\u001b[38;5;124mhei\u001b[39m\u001b[38;5;124m'\u001b[39m)\n",
      "File \u001b[1;32m<__array_function__ internals>:200\u001b[0m, in \u001b[0;36meinsum\u001b[1;34m(*args, **kwargs)\u001b[0m\n",
      "File \u001b[1;32mc:\\Users\\tryme\\anaconda3\\Lib\\site-packages\\numpy\\core\\einsumfunc.py:1371\u001b[0m, in \u001b[0;36meinsum\u001b[1;34m(out, optimize, *operands, **kwargs)\u001b[0m\n\u001b[0;32m   1369\u001b[0m     \u001b[38;5;28;01mif\u001b[39;00m specified_out:\n\u001b[0;32m   1370\u001b[0m         kwargs[\u001b[38;5;124m'\u001b[39m\u001b[38;5;124mout\u001b[39m\u001b[38;5;124m'\u001b[39m] \u001b[38;5;241m=\u001b[39m out\n\u001b[1;32m-> 1371\u001b[0m     \u001b[38;5;28;01mreturn\u001b[39;00m c_einsum(\u001b[38;5;241m*\u001b[39moperands, \u001b[38;5;241m*\u001b[39m\u001b[38;5;241m*\u001b[39mkwargs)\n\u001b[0;32m   1373\u001b[0m \u001b[38;5;66;03m# Check the kwargs to avoid a more cryptic error later, without having to\u001b[39;00m\n\u001b[0;32m   1374\u001b[0m \u001b[38;5;66;03m# repeat default values here\u001b[39;00m\n\u001b[0;32m   1375\u001b[0m valid_einsum_kwargs \u001b[38;5;241m=\u001b[39m [\u001b[38;5;124m'\u001b[39m\u001b[38;5;124mdtype\u001b[39m\u001b[38;5;124m'\u001b[39m, \u001b[38;5;124m'\u001b[39m\u001b[38;5;124morder\u001b[39m\u001b[38;5;124m'\u001b[39m, \u001b[38;5;124m'\u001b[39m\u001b[38;5;124mcasting\u001b[39m\u001b[38;5;124m'\u001b[39m]\n",
      "\u001b[1;31mKeyboardInterrupt\u001b[0m: "
     ]
    }
   ],
   "source": [
    "import numpy as np\n",
    "\n",
    "xs = data['x_train']\n",
    "ys = data['y_train']\n",
    "\n",
    "n_batches = xs.shape[0]\n",
    "n_iters = 100\n",
    "step_size = 0.1\n",
    "\n",
    "#treningsløkke tilsvarende algoritme 4 (med gradient descent)\n",
    "for j in range(n_iters):\n",
    "    losses = []\n",
    "    for i in range(n_batches):\n",
    "        x = xs[i]\n",
    "        y = ys[i]\n",
    "\n",
    "        X = onehot(x,m)\n",
    "        Z = nn.forward(X)\n",
    "\n",
    "        losses.append(loss.forward(Z,y))\n",
    "        dLdZ = loss.backward()\n",
    "        nn.backward(dLdZ)\n",
    "        nn.step_gd(step_size)\n",
    "    mean_loss = np.mean(losses)\n",
    "    print(\"Iterasjon \", str(j), \" L = \",mean_loss, \"\")"
   ]
  },
  {
   "cell_type": "code",
   "execution_count": null,
   "metadata": {},
   "outputs": [
    {
     "name": "stdout",
     "output_type": "stream",
     "text": [
      "-0.13857317601666091\n",
      "-0.00010665015797989286\n"
     ]
    }
   ],
   "source": [
    "#etter trening ser vi at W_2 er gitt ved\n",
    "\n",
    "W_2_post_opt = nn.layers[2].l2.params['w']['w'].copy()\n",
    "print(W_2_post_opt[0,0])\n",
    "\n",
    "#dersom differansen er større enn null har dette parameteret endret seg etter \n",
    "#gradient descent\n",
    "print(W_2_post_opt[0,0] - W_2_pre_opt[0,0])\n",
    "\n",
    "\n"
   ]
  }
 ],
 "metadata": {
  "kernelspec": {
   "display_name": "Python 3",
   "language": "python",
   "name": "python3"
  },
  "language_info": {
   "codemirror_mode": {
    "name": "ipython",
    "version": 3
   },
   "file_extension": ".py",
   "mimetype": "text/x-python",
   "name": "python",
   "nbconvert_exporter": "python",
   "pygments_lexer": "ipython3",
   "version": "3.11.5"
  }
 },
 "nbformat": 4,
 "nbformat_minor": 2
}
