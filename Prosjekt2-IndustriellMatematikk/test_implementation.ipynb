{
 "cells": [
  {
   "cell_type": "markdown",
   "metadata": {},
   "source": [
    "# Test om koden er riktig implementert\n",
    "\n",
    "Her er et forslag til testfunksjoner for å sjekke om koden er riktig implementert.\n",
    "```assert variabel``` vil gi en feilmelding med mindre variabelen ```variabel = True```. For eksempel vil ```assert a == b``` gi en feilmelding med mindre ```a``` og ```b``` er like."
   ]
  },
  {
   "cell_type": "code",
   "execution_count": 1,
   "metadata": {},
   "outputs": [],
   "source": [
    "#For eksempel:\n",
    "variable = True\n",
    "assert variable, \"You need to change 'variable' to True\""
   ]
  },
  {
   "cell_type": "code",
   "execution_count": 2,
   "metadata": {},
   "outputs": [],
   "source": [
    "from layers import *\n",
    "from neural_network import NeuralNetwork\n",
    "from utils import onehot\n",
    "import numpy as np\n",
    "import matplotlib.pyplot as plt"
   ]
  },
  {
   "cell_type": "code",
   "execution_count": 3,
   "metadata": {},
   "outputs": [],
   "source": [
    "#We choose some arbitrary values for the dimensions\n",
    "b = 6\n",
    "n_max = 7\n",
    "m = 8\n",
    "n = 5\n",
    "\n",
    "d = 10\n",
    "k = 5\n",
    "p = 20\n",
    "\n",
    "#Create an arbitrary dataset\n",
    "x = np.random.randint(0, m, (b,n))\n",
    "y = np.random.randint(0, m, (b,n_max))\n",
    "\n",
    "#initialize the layers\n",
    "feed_forward = FeedForward(d,p)\n",
    "attention = Attention(d,k)\n",
    "embed_pos = EmbedPosition(n_max,m,d)\n",
    "un_embed = LinearLayer(d,m)\n",
    "softmax = Softmax()\n",
    "\n",
    "\n",
    "#a manual forward pass\n",
    "X = onehot(x, m)\n",
    "\n",
    "z0 = embed_pos.forward(X)\n",
    "z1 = feed_forward.forward(z0)\n",
    "z2 = attention.forward(z1)\n",
    "z3 = un_embed.forward(z2)\n",
    "Z = softmax.forward(z3) \n",
    "\n",
    "\n",
    "#check the shapes\n",
    "assert X.shape == (b,m,n), f\"X.shape={X.shape}, expected {(b,m,n)}\"\n",
    "assert z0.shape == (b,d,n), f\"z0.shape={z0.shape}, expected {(b,d,n)}\"\n",
    "assert z1.shape == (b,d,n), f\"z1.shape={z1.shape}, expected {(b,d,n)}\"\n",
    "assert z2.shape == (b,d,n), f\"z2.shape={z2.shape}, expected {(b,d,n)}\"\n",
    "assert z3.shape == (b,m,n), f\"z3.shape={z3.shape}, expected {(b,m,n)}\"\n",
    "assert Z.shape == (b,m,n), f\"Z.shape={Z.shape}, expected {(b,m,n)}\"\n",
    "\n",
    "#is X one-hot?\n",
    "assert X.sum() == b*n, f\"X.sum()={X.sum()}, expected {b*n}\"\n",
    "\n",
    "\n",
    "assert np.allclose(Z.sum(axis=1), 1), f\"Z.sum(axis=1)={Z.sum(axis=1)}, expected {np.ones(b)}\"\n",
    "assert np.abs(Z.sum() - b*n) < 1e-5, f\"Z.sum()={Z.sum()}, expected {b*n}\"\n",
    "assert np.all(Z>=0), f\"Z={Z}, expected all entries to be non-negative\"\n",
    "\n"
   ]
  },
  {
   "cell_type": "code",
   "execution_count": 4,
   "metadata": {},
   "outputs": [
    {
     "name": "stdout",
     "output_type": "stream",
     "text": [
      "(6, 8, 7)\n",
      "(6, 8, 7)\n"
     ]
    },
    {
     "ename": "ValueError",
     "evalue": "operands could not be broadcast together with shapes (6,7) (6,8,7) ",
     "output_type": "error",
     "traceback": [
      "\u001b[1;31m---------------------------------------------------------------------------\u001b[0m",
      "\u001b[1;31mValueError\u001b[0m                                Traceback (most recent call last)",
      "Cell \u001b[1;32mIn[4], line 23\u001b[0m\n\u001b[0;32m     21\u001b[0m grad_Z \u001b[38;5;241m=\u001b[39m loss\u001b[38;5;241m.\u001b[39mbackward()\n\u001b[0;32m     22\u001b[0m \u001b[38;5;66;03m#and perform a backward pass\u001b[39;00m\n\u001b[1;32m---> 23\u001b[0m _ \u001b[38;5;241m=\u001b[39m network\u001b[38;5;241m.\u001b[39mbackward(grad_Z)\n\u001b[0;32m     25\u001b[0m \u001b[38;5;66;03m#and and do a gradient descent step\u001b[39;00m\n\u001b[0;32m     26\u001b[0m _ \u001b[38;5;241m=\u001b[39m network\u001b[38;5;241m.\u001b[39mstep_gd(\u001b[38;5;241m0.01\u001b[39m)\n",
      "File \u001b[1;32mc:\\Users\\tryme\\Documents\\GitHub\\TMA4320-Introduksjon-til-vitenskapelige-beregninger-prosjekter\\Prosjekt2-IndustriellMatematikk\\neural_network.py:29\u001b[0m, in \u001b[0;36mNeuralNetwork.backward\u001b[1;34m(self, grad)\u001b[0m\n\u001b[0;32m     27\u001b[0m \u001b[38;5;66;03m#reversed yields the layers in reversed order\u001b[39;00m\n\u001b[0;32m     28\u001b[0m \u001b[38;5;28;01mfor\u001b[39;00m layer \u001b[38;5;129;01min\u001b[39;00m \u001b[38;5;28mreversed\u001b[39m(\u001b[38;5;28mself\u001b[39m\u001b[38;5;241m.\u001b[39mlayers):\n\u001b[1;32m---> 29\u001b[0m     grad \u001b[38;5;241m=\u001b[39m layer\u001b[38;5;241m.\u001b[39mbackward(grad)\n\u001b[0;32m     30\u001b[0m \u001b[38;5;28;01mreturn\u001b[39;00m grad\n",
      "File \u001b[1;32mc:\\Users\\tryme\\Documents\\GitHub\\TMA4320-Introduksjon-til-vitenskapelige-beregninger-prosjekter\\Prosjekt2-IndustriellMatematikk\\layers.py:149\u001b[0m, in \u001b[0;36mSoftmax.backward\u001b[1;34m(self, grad)\u001b[0m\n\u001b[0;32m    147\u001b[0m \u001b[38;5;28mprint\u001b[39m(S\u001b[38;5;241m.\u001b[39mshape)\n\u001b[0;32m    148\u001b[0m \u001b[38;5;28mprint\u001b[39m(grad\u001b[38;5;241m.\u001b[39mshape)\n\u001b[1;32m--> 149\u001b[0m \u001b[38;5;28;01mreturn\u001b[39;00m  grad\u001b[38;5;241m*\u001b[39m\u001b[38;5;28mself\u001b[39m\u001b[38;5;241m.\u001b[39mx\u001b[38;5;241m-\u001b[39m np\u001b[38;5;241m.\u001b[39msum(grad\u001b[38;5;241m*\u001b[39mS, axis \u001b[38;5;241m=\u001b[39m \u001b[38;5;241m1\u001b[39m)\u001b[38;5;241m*\u001b[39m\u001b[38;5;28mself\u001b[39m\u001b[38;5;241m.\u001b[39mP\n",
      "\u001b[1;31mValueError\u001b[0m: operands could not be broadcast together with shapes (6,7) (6,8,7) "
     ]
    }
   ],
   "source": [
    "\n",
    "#test the forward pass\n",
    "x = np.random.randint(0, m, (b,n_max))\n",
    "X = onehot(x, m)\n",
    "\n",
    "#we test with a y that is shorter than the maximum length\n",
    "n_y = n_max - 1\n",
    "y = np.random.randint(0, m, (b,n_y))\n",
    "\n",
    "#initialize a neural network based on the layers above\n",
    "network = NeuralNetwork([embed_pos, feed_forward, attention, un_embed, softmax])\n",
    "#and a loss function\n",
    "loss = CrossEntropy()\n",
    "\n",
    "#do a forward pass\n",
    "Z = network.forward(X)\n",
    "\n",
    "#compute the loss\n",
    "L = loss.forward(Z, y)\n",
    "\n",
    "#get the derivative of the loss wrt Z\n",
    "grad_Z = loss.backward()\n",
    "#and perform a backward pass\n",
    "_ = network.backward(grad_Z)\n",
    "\n",
    "#and and do a gradient descent step\n",
    "_ = network.step_gd(0.01)"
   ]
  },
  {
   "cell_type": "code",
   "execution_count": null,
   "metadata": {},
   "outputs": [
    {
     "data": {
      "text/plain": [
       "\"\\nHere you may add additional tests to for example:\\n- Check if the ['d'] keys in the parameter dictionaries are not None, or receive something when running backward pass\\n- Check if the parameters change when you perform a gradient descent step\\n- Check if the loss decreases when you perform a gradient descent step\\n\\nThis is voluntary, but could be useful.\\n\""
      ]
     },
     "execution_count": 13,
     "metadata": {},
     "output_type": "execute_result"
    }
   ],
   "source": [
    "\"\"\"\n",
    "Here you may add additional tests to for example:\n",
    "- Check if the ['d'] keys in the parameter dictionaries are not None, or receive something when running backward pass\n",
    "- Check if the parameters change when you perform a gradient descent step\n",
    "- Check if the loss decreases when you perform a gradient descent step\n",
    "\n",
    "This is voluntary, but could be useful.\n",
    "\"\"\""
   ]
  },
  {
   "cell_type": "code",
   "execution_count": null,
   "metadata": {},
   "outputs": [],
   "source": [
    "#check if loss is non-negative\n",
    "assert L >= 0, f\"L={L}, expected L>=0\"\n",
    "assert grad_Z.shape == Z.shape, f\"grad_Z.shape={grad_Z.shape}, expected {Z.shape}\"\n",
    "\n",
    "#check if onehot(y) gives zero loss\n",
    "Y = onehot(y, m)\n",
    "L = loss.forward(Y, y)\n",
    "assert L < 1e-5, f\"L={L}, expected L<1e-5\"\n"
   ]
  },
  {
   "cell_type": "code",
   "execution_count": null,
   "metadata": {},
   "outputs": [
    {
     "name": "stdout",
     "output_type": "stream",
     "text": [
      "loss for iteration 1: 1.4895741891285073\n",
      "loss for iteration 2: nan\n",
      "loss for iteration 3: nan\n",
      "loss for iteration 4: nan\n",
      "loss for iteration 5: nan\n",
      "loss for iteration 6: nan\n",
      "loss for iteration 7: nan\n",
      "loss for iteration 8: nan\n",
      "loss for iteration 9: nan\n",
      "loss for iteration 10: nan\n",
      "loss for iteration 11: nan\n",
      "loss for iteration 12: nan\n",
      "loss for iteration 13: nan\n",
      "loss for iteration 14: nan\n",
      "loss for iteration 15: nan\n",
      "loss for iteration 16: nan\n",
      "loss for iteration 17: nan\n",
      "loss for iteration 18: nan\n",
      "loss for iteration 19: nan\n",
      "loss for iteration 20: nan\n",
      "loss for iteration 21: nan\n"
     ]
    },
    {
     "name": "stdout",
     "output_type": "stream",
     "text": [
      "loss for iteration 22: nan\n",
      "loss for iteration 23: nan\n",
      "loss for iteration 24: nan\n",
      "loss for iteration 25: nan\n",
      "loss for iteration 26: nan\n",
      "loss for iteration 27: nan\n",
      "loss for iteration 28: nan\n",
      "loss for iteration 29: nan\n",
      "loss for iteration 30: nan\n",
      "loss for iteration 31: nan\n",
      "loss for iteration 32: nan\n",
      "loss for iteration 33: nan\n",
      "loss for iteration 34: nan\n",
      "loss for iteration 35: nan\n",
      "loss for iteration 36: nan\n",
      "loss for iteration 37: nan\n",
      "loss for iteration 38: nan\n",
      "loss for iteration 39: nan\n",
      "loss for iteration 40: nan\n",
      "loss for iteration 41: nan\n",
      "loss for iteration 42: nan\n",
      "loss for iteration 43: nan\n",
      "loss for iteration 44: nan\n",
      "loss for iteration 45: nan\n",
      "loss for iteration 46: nan\n",
      "loss for iteration 47: nan\n",
      "loss for iteration 48: nan\n",
      "loss for iteration 49: nan\n",
      "loss for iteration 50: nan\n",
      "loss for iteration 51: nan\n",
      "loss for iteration 52: nan\n",
      "loss for iteration 53: nan\n",
      "loss for iteration 54: nan\n",
      "loss for iteration 55: nan\n",
      "loss for iteration 56: nan\n",
      "loss for iteration 57: nan\n",
      "loss for iteration 58: nan\n",
      "loss for iteration 59: nan\n",
      "loss for iteration 60: nan\n",
      "loss for iteration 61: nan\n",
      "loss for iteration 62: nan\n",
      "loss for iteration 63: nan\n",
      "loss for iteration 64: nan\n",
      "loss for iteration 65: nan\n",
      "loss for iteration 66: nan\n",
      "loss for iteration 67: nan\n",
      "loss for iteration 68: nan\n",
      "loss for iteration 69: nan\n",
      "loss for iteration 70: nan\n",
      "loss for iteration 71: nan\n",
      "loss for iteration 72: nan\n",
      "loss for iteration 73: nan\n",
      "loss for iteration 74: nan\n",
      "loss for iteration 75: nan\n",
      "loss for iteration 76: nan\n",
      "loss for iteration 77: nan\n",
      "loss for iteration 78: nan\n",
      "loss for iteration 79: nan\n",
      "loss for iteration 80: nan\n",
      "loss for iteration 81: nan\n",
      "loss for iteration 82: nan\n",
      "loss for iteration 83: nan\n",
      "loss for iteration 84: nan\n",
      "loss for iteration 85: nan\n",
      "loss for iteration 86: nan\n",
      "loss for iteration 87: nan\n",
      "loss for iteration 88: nan\n",
      "loss for iteration 89: nan\n",
      "loss for iteration 90: nan\n",
      "loss for iteration 91: nan\n",
      "loss for iteration 92: nan\n",
      "loss for iteration 93: nan\n",
      "loss for iteration 94: nan\n",
      "loss for iteration 95: nan\n",
      "loss for iteration 96: nan\n",
      "loss for iteration 97: nan\n",
      "loss for iteration 98: nan\n",
      "loss for iteration 99: nan\n"
     ]
    }
   ],
   "source": [
    "# feed_forward1 = FeedForward(d,p)\n",
    "# attention1 = Attention(d,k)\n",
    "# embed_pos = EmbedPosition(n_max,m,d)\n",
    "# un_embed_pos = LinearLayer(d,m)\n",
    "# softmax = Softmax()\n",
    "# layers = [embed_pos,attention1,feed_forward1,un_embed_pos, softmax]\n",
    "# nueralnet = NeuralNetwork(layers)\n",
    "\n",
    "b = 6\n",
    "n_max = 7\n",
    "m = 8\n",
    "n = 5\n",
    "\n",
    "d = 10\n",
    "k = 5\n",
    "p = 20\n",
    "\n",
    "x = np.random.randint(0, m, (b,n_max))\n",
    "y = np.random.randint(0, m, (b,n_max-1))\n",
    "\n",
    "def algorithm_4(x, y, m , d, p, k, n_max):\n",
    "    n_iter = 100\n",
    "    loss = CrossEntropy()\n",
    "    L_arr = np.zeros(n_iter)\n",
    "    feed_forward1 = FeedForward(d,p)\n",
    "    attention1 = Attention(d,k)\n",
    "    embed_pos = EmbedPosition(n_max,m,d)\n",
    "    un_embed_pos = LinearLayer(d,m)\n",
    "    softmax = Softmax()\n",
    "    layers = [embed_pos, attention1,feed_forward1, un_embed_pos, softmax]\n",
    "    nueralnet = NeuralNetwork(layers)\n",
    "\n",
    "    alpha = 0.001\n",
    "    Losses = []\n",
    "    for j in range(1,n_iter):\n",
    "        X = onehot(x, m)\n",
    "        Z = nueralnet.forward(X) \n",
    "        Losses.append(loss.forward(Z,y))\n",
    "        dLdz = loss.backward()\n",
    "        nueralnet.backward(dLdz) \n",
    "        nueralnet.step_adam(j,alpha)\n",
    "        # layers[0].step_gd(alpha)\n",
    "        # layers[1].step_adam(j, alpha)\n",
    "        # layers[2].step_gd(alpha)\n",
    "        # layers[3].step_adam(j, alpha)\n",
    "        print(f'loss for iteration {j}: {loss.forward(Z,y)}') \n",
    "    return Losses   \n",
    "\n",
    "arr = algorithm_4(x, y, m , d, p, k, n_max)\n",
    "\n"
   ]
  },
  {
   "cell_type": "code",
   "execution_count": null,
   "metadata": {},
   "outputs": [
    {
     "data": {
      "image/png": "[encoded data removed]",
      "text/plain": [
       "<Figure size 640x480 with 1 Axes>"
      ]
     },
     "metadata": {},
     "output_type": "display_data"
    }
   ],
   "source": [
    "plt.plot(np.linspace(0,100,len(arr)),np.log(arr))\n",
    "plt.xlabel('Iterasjoner')\n",
    "plt.ylabel('Logaritmen av losset')\n",
    "plt.title('Plot av feil')\n",
    "plt.show()"
   ]
  }
 ],
 "metadata": {
  "kernelspec": {
   "display_name": "Python 3",
   "language": "python",
   "name": "python3"
  },
  "language_info": {
   "codemirror_mode": {
    "name": "ipython",
    "version": 3
   },
   "file_extension": ".py",
   "mimetype": "text/x-python",
   "name": "python",
   "nbconvert_exporter": "python",
   "pygments_lexer": "ipython3",
   "version": "3.11.5"
  }
 },
 "nbformat": 4,
 "nbformat_minor": 2
}
