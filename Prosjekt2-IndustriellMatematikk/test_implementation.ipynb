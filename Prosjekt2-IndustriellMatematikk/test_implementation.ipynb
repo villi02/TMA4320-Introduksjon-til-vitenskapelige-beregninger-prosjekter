{
 "cells": [
  {
   "cell_type": "markdown",
   "metadata": {},
   "source": [
    "# Test om koden er riktig implementert\n",
    "\n",
    "Her er et forslag til testfunksjoner for å sjekke om koden er riktig implementert.\n",
    "```assert variabel``` vil gi en feilmelding med mindre variabelen ```variabel = True```. For eksempel vil ```assert a == b``` gi en feilmelding med mindre ```a``` og ```b``` er like."
   ]
  },
  {
   "cell_type": "code",
   "execution_count": 33,
   "metadata": {},
   "outputs": [],
   "source": [
    "#For eksempel:\n",
    "variable = True\n",
    "assert variable, \"You need to change 'variable' to True\""
   ]
  },
  {
   "cell_type": "code",
   "execution_count": 34,
   "metadata": {},
   "outputs": [],
   "source": [
    "from layers import *\n",
    "from neural_network import NeuralNetwork\n",
    "from utils import onehot\n",
    "import numpy as np\n",
    "import matplotlib.pyplot as plt"
   ]
  },
  {
   "cell_type": "code",
   "execution_count": 35,
   "metadata": {},
   "outputs": [],
   "source": [
    "#We choose some arbitrary values for the dimensions\n",
    "b = 6\n",
    "n_max = 7\n",
    "m = 8\n",
    "n = 5\n",
    "\n",
    "d = 10\n",
    "k = 5\n",
    "p = 20\n",
    "\n",
    "#Create an arbitrary dataset\n",
    "x = np.random.randint(0, m, (b,n))\n",
    "y = np.random.randint(0, m, (b,n_max))\n",
    "\n",
    "#initialize the layers\n",
    "feed_forward = FeedForward(d,p)\n",
    "attention = Attention(d,k)\n",
    "embed_pos = EmbedPosition(n_max,m,d)\n",
    "un_embed = LinearLayer(d,m)\n",
    "softmax = Softmax()\n",
    "\n",
    "\n",
    "#a manual forward pass\n",
    "X = onehot(x, m)\n",
    "\n",
    "z0 = embed_pos.forward(X)\n",
    "z1 = feed_forward.forward(z0)\n",
    "z2 = attention.forward(z1)\n",
    "z3 = un_embed.forward(z2)\n",
    "Z = softmax.forward(z3) \n",
    "\n",
    "\n",
    "#check the shapes\n",
    "assert X.shape == (b,m,n), f\"X.shape={X.shape}, expected {(b,m,n)}\"\n",
    "assert z0.shape == (b,d,n), f\"z0.shape={z0.shape}, expected {(b,d,n)}\"\n",
    "assert z1.shape == (b,d,n), f\"z1.shape={z1.shape}, expected {(b,d,n)}\"\n",
    "assert z2.shape == (b,d,n), f\"z2.shape={z2.shape}, expected {(b,d,n)}\"\n",
    "assert z3.shape == (b,m,n), f\"z3.shape={z3.shape}, expected {(b,m,n)}\"\n",
    "assert Z.shape == (b,m,n), f\"Z.shape={Z.shape}, expected {(b,m,n)}\"\n",
    "\n",
    "#is X one-hot?\n",
    "assert X.sum() == b*n, f\"X.sum()={X.sum()}, expected {b*n}\"\n",
    "\n",
    "\n",
    "assert np.allclose(Z.sum(axis=1), 1), f\"Z.sum(axis=1)={Z.sum(axis=1)}, expected {np.ones(b)}\"\n",
    "assert np.abs(Z.sum() - b*n) < 1e-5, f\"Z.sum()={Z.sum()}, expected {b*n}\"\n",
    "assert np.all(Z>=0), f\"Z={Z}, expected all entries to be non-negative\"\n",
    "\n"
   ]
  },
  {
   "cell_type": "code",
   "execution_count": 36,
   "metadata": {},
   "outputs": [],
   "source": [
    "\n",
    "#test the forward pass\n",
    "x = np.random.randint(0, m, (b,n_max))\n",
    "X = onehot(x, m)\n",
    "\n",
    "#we test with a y that is shorter than the maximum length\n",
    "n_y = n_max - 1\n",
    "y = np.random.randint(0, m, (b,n_y))\n",
    "\n",
    "#initialize a neural network based on the layers above\n",
    "network = NeuralNetwork([embed_pos, feed_forward, attention, un_embed, softmax])\n",
    "#and a loss function\n",
    "loss = CrossEntropy()\n",
    "\n",
    "#do a forward pass\n",
    "Z = network.forward(X)\n",
    "\n",
    "#compute the loss\n",
    "L = loss.forward(Z, y)\n",
    "\n",
    "#get the derivative of the loss wrt Z\n",
    "grad_Z = loss.backward()\n",
    "#and perform a backward pass\n",
    "_ = network.backward(grad_Z)\n",
    "\n",
    "#and and do a gradient descent step\n",
    "_ = network.step_gd(0.01)"
   ]
  },
  {
   "cell_type": "code",
   "execution_count": 37,
   "metadata": {},
   "outputs": [
    {
     "data": {
      "text/plain": [
       "\"\\nHere you may add additional tests to for example:\\n- Check if the ['d'] keys in the parameter dictionaries are not None, or receive something when running backward pass\\n- Check if the parameters change when you perform a gradient descent step\\n- Check if the loss decreases when you perform a gradient descent step\\n\\nThis is voluntary, but could be useful.\\n\""
      ]
     },
     "execution_count": 37,
     "metadata": {},
     "output_type": "execute_result"
    }
   ],
   "source": [
    "\"\"\"\n",
    "Here you may add additional tests to for example:\n",
    "- Check if the ['d'] keys in the parameter dictionaries are not None, or receive something when running backward pass\n",
    "- Check if the parameters change when you perform a gradient descent step\n",
    "- Check if the loss decreases when you perform a gradient descent step\n",
    "\n",
    "This is voluntary, but could be useful.\n",
    "\"\"\""
   ]
  },
  {
   "cell_type": "code",
   "execution_count": 38,
   "metadata": {},
   "outputs": [],
   "source": [
    "#check if loss is non-negative\n",
    "assert L >= 0, f\"L={L}, expected L>=0\"\n",
    "assert grad_Z.shape == Z.shape, f\"grad_Z.shape={grad_Z.shape}, expected {Z.shape}\"\n",
    "\n",
    "#check if onehot(y) gives zero loss\n",
    "Y = onehot(y, m)\n",
    "L = loss.forward(Y, y)\n",
    "assert L < 1e-5, f\"L={L}, expected L<1e-5\"\n"
   ]
  },
  {
   "cell_type": "code",
   "execution_count": 39,
   "metadata": {},
   "outputs": [
    {
     "name": "stdout",
     "output_type": "stream",
     "text": [
      "loss for iteration 1: 2.070445019673872\n",
      "loss for iteration 2: 2.068940078679119\n",
      "loss for iteration 3: 2.0674213312989096\n",
      "loss for iteration 4: 2.0658879500903833\n",
      "loss for iteration 5: 2.0643422508710554\n",
      "loss for iteration 6: 2.06277865886093\n",
      "loss for iteration 7: 2.061194396153204\n",
      "loss for iteration 8: 2.0595889127895264\n",
      "loss for iteration 9: 2.0579626316247968\n",
      "loss for iteration 10: 2.056310620475764\n",
      "loss for iteration 11: 2.054637387396129\n",
      "loss for iteration 12: 2.052938065313201\n",
      "loss for iteration 13: 2.0512081514799303\n",
      "loss for iteration 14: 2.0494423157184514\n",
      "loss for iteration 15: 2.0476387646092022\n",
      "loss for iteration 16: 2.045795632380391\n",
      "loss for iteration 17: 2.043910845332696\n",
      "loss for iteration 18: 2.0419842003247832\n",
      "loss for iteration 19: 2.0400069025856338\n",
      "loss for iteration 20: 2.0379751108462627\n",
      "loss for iteration 21: 2.0358902217339483\n",
      "loss for iteration 22: 2.0337469068178127\n",
      "loss for iteration 23: 2.0315432615134394\n",
      "loss for iteration 24: 2.0292707869689575\n",
      "loss for iteration 25: 2.026921930903445\n",
      "loss for iteration 26: 2.0244933458774717\n",
      "loss for iteration 27: 2.021986141580848\n",
      "loss for iteration 28: 2.0193886219482997\n",
      "loss for iteration 29: 2.01669645329523\n",
      "loss for iteration 30: 2.01391020608707\n",
      "loss for iteration 31: 2.011027457402892\n",
      "loss for iteration 32: 2.0080369082749763\n",
      "loss for iteration 33: 2.0049369634702323\n",
      "loss for iteration 34: 2.0017218210328784\n",
      "loss for iteration 35: 1.998387867187895\n",
      "loss for iteration 36: 1.9949295325890253\n",
      "loss for iteration 37: 1.991348379704363\n",
      "loss for iteration 38: 1.9876448699313916\n",
      "loss for iteration 39: 1.9838098929898906\n",
      "loss for iteration 40: 1.9798399793947463\n",
      "loss for iteration 41: 1.9757181622021132\n",
      "loss for iteration 42: 1.9714471175199\n",
      "loss for iteration 43: 1.967002609604952\n",
      "loss for iteration 44: 1.9623912885065034\n",
      "loss for iteration 45: 1.9576212779922\n",
      "loss for iteration 46: 1.9527033842770356\n",
      "loss for iteration 47: 1.9476299484092183\n",
      "loss for iteration 48: 1.942434198463938\n",
      "loss for iteration 49: 1.9371039213568575\n",
      "loss for iteration 50: 1.9316702406362585\n",
      "loss for iteration 51: 1.926159934108743\n",
      "loss for iteration 52: 1.9205771489592998\n",
      "loss for iteration 53: 1.9149257049457848\n",
      "loss for iteration 54: 1.909253851234649\n",
      "loss for iteration 55: 1.903583623255066\n",
      "loss for iteration 56: 1.8979709100076414\n",
      "loss for iteration 57: 1.892371193430859\n",
      "loss for iteration 58: 1.886804365374378\n",
      "loss for iteration 59: 1.8812610593121173\n",
      "loss for iteration 60: 1.8757520069784606\n",
      "loss for iteration 61: 1.8703016283101443\n",
      "loss for iteration 62: 1.8648925767501732\n",
      "loss for iteration 63: 1.8594892978623472\n",
      "loss for iteration 64: 1.8540955409875726\n",
      "loss for iteration 65: 1.8486855255436119\n",
      "loss for iteration 66: 1.8432516675211719\n",
      "loss for iteration 67: 1.8377623984538118\n",
      "loss for iteration 68: 1.8322194656413693\n",
      "loss for iteration 69: 1.8266516781042899\n",
      "loss for iteration 70: 1.821020919043607\n",
      "loss for iteration 71: 1.8153624181532717\n",
      "loss for iteration 72: 1.809693093673304\n",
      "loss for iteration 73: 1.8040018298470193\n",
      "loss for iteration 74: 1.7983062610600555\n",
      "loss for iteration 75: 1.7925948651703325\n",
      "loss for iteration 76: 1.7869200394035356\n",
      "loss for iteration 77: 1.781391064904959\n",
      "loss for iteration 78: 1.7758497420617443\n",
      "loss for iteration 79: 1.7702834120234006\n",
      "loss for iteration 80: 1.764706386649827\n",
      "loss for iteration 81: 1.7591230270331453\n",
      "loss for iteration 82: 1.7535499613050036\n",
      "loss for iteration 83: 1.7480271691475748\n",
      "loss for iteration 84: 1.7425048714692932\n",
      "loss for iteration 85: 1.7369964173257424\n",
      "loss for iteration 86: 1.7315438394952454\n",
      "loss for iteration 87: 1.7260901348077653\n",
      "loss for iteration 88: 1.720673084421635\n",
      "loss for iteration 89: 1.7153943687490483\n",
      "loss for iteration 90: 1.7102164749789628\n",
      "loss for iteration 91: 1.7051780215045347\n",
      "loss for iteration 92: 1.70018798461754\n",
      "loss for iteration 93: 1.695256749765583\n",
      "loss for iteration 94: 1.6903808229301627\n",
      "loss for iteration 95: 1.6855564053360914\n",
      "loss for iteration 96: 1.6808571890030712\n",
      "loss for iteration 97: 1.6762507424204038\n",
      "loss for iteration 98: 1.6717059990709284\n",
      "loss for iteration 99: 1.667329480954071\n"
     ]
    }
   ],
   "source": [
    "# feed_forward1 = FeedForward(d,p)\n",
    "# attention1 = Attention(d,k)\n",
    "# embed_pos = EmbedPosition(n_max,m,d)\n",
    "# un_embed_pos = LinearLayer(d,m)\n",
    "# softmax = Softmax()\n",
    "# layers = [embed_pos,attention1,feed_forward1,un_embed_pos, softmax]\n",
    "# nueralnet = NeuralNetwork(layers)\n",
    "\n",
    "b = 6\n",
    "n_max = 7\n",
    "m = 8\n",
    "n = 5\n",
    "\n",
    "d = 10\n",
    "k = 5\n",
    "p = 20\n",
    "\n",
    "x = np.random.randint(0, m, (b,n_max))\n",
    "y = np.random.randint(0, m, (b,n_max-1))\n",
    "\n",
    "def algorithm_4(x, y, m , d, p, k, n_max):\n",
    "    n_iter = 100\n",
    "    loss = CrossEntropy()\n",
    "    feed_forward1 = FeedForward(d,p)\n",
    "    attention1 = Attention(d,k)\n",
    "    embed_pos = EmbedPosition(n_max,m,d)\n",
    "    un_embed_pos = LinearLayer(d,m)\n",
    "    softmax = Softmax()\n",
    "    layers = [embed_pos, attention1,feed_forward1, un_embed_pos, softmax]\n",
    "    nueralnet = NeuralNetwork(layers)\n",
    "\n",
    "    alpha = 0.001\n",
    "    Losses = []\n",
    "    for j in range(1,n_iter):\n",
    "        X = onehot(x, m)\n",
    "        Z = nueralnet.forward(X) \n",
    "        Losses.append(loss.forward(Z,y))\n",
    "        dLdz = loss.backward()\n",
    "        nueralnet.backward(dLdz) \n",
    "        nueralnet.step_adam(j,alpha)\n",
    "        print(f'loss for iteration {j}: {loss.forward(Z,y)}') \n",
    "    return Losses   \n",
    "\n",
    "arr = algorithm_4(x, y, m , d, p, k, n_max)\n",
    "\n"
   ]
  },
  {
   "cell_type": "code",
   "execution_count": 40,
   "metadata": {},
   "outputs": [
    {
     "name": "stdout",
     "output_type": "stream",
     "text": [
      "[2.070445019673872, 2.068940078679119, 2.0674213312989096, 2.0658879500903833, 2.0643422508710554, 2.06277865886093, 2.061194396153204, 2.0595889127895264, 2.0579626316247968, 2.056310620475764, 2.054637387396129, 2.052938065313201, 2.0512081514799303, 2.0494423157184514, 2.0476387646092022, 2.045795632380391, 2.043910845332696, 2.0419842003247832, 2.0400069025856338, 2.0379751108462627, 2.0358902217339483, 2.0337469068178127, 2.0315432615134394, 2.0292707869689575, 2.026921930903445, 2.0244933458774717, 2.021986141580848, 2.0193886219482997, 2.01669645329523, 2.01391020608707, 2.011027457402892, 2.0080369082749763, 2.0049369634702323, 2.0017218210328784, 1.998387867187895, 1.9949295325890253, 1.991348379704363, 1.9876448699313916, 1.9838098929898906, 1.9798399793947463, 1.9757181622021132, 1.9714471175199, 1.967002609604952, 1.9623912885065034, 1.9576212779922, 1.9527033842770356, 1.9476299484092183, 1.942434198463938, 1.9371039213568575, 1.9316702406362585, 1.926159934108743, 1.9205771489592998, 1.9149257049457848, 1.909253851234649, 1.903583623255066, 1.8979709100076414, 1.892371193430859, 1.886804365374378, 1.8812610593121173, 1.8757520069784606, 1.8703016283101443, 1.8648925767501732, 1.8594892978623472, 1.8540955409875726, 1.8486855255436119, 1.8432516675211719, 1.8377623984538118, 1.8322194656413693, 1.8266516781042899, 1.821020919043607, 1.8153624181532717, 1.809693093673304, 1.8040018298470193, 1.7983062610600555, 1.7925948651703325, 1.7869200394035356, 1.781391064904959, 1.7758497420617443, 1.7702834120234006, 1.764706386649827, 1.7591230270331453, 1.7535499613050036, 1.7480271691475748, 1.7425048714692932, 1.7369964173257424, 1.7315438394952454, 1.7260901348077653, 1.720673084421635, 1.7153943687490483, 1.7102164749789628, 1.7051780215045347, 1.70018798461754, 1.695256749765583, 1.6903808229301627, 1.6855564053360914, 1.6808571890030712, 1.6762507424204038, 1.6717059990709284, 1.667329480954071]"
     ]
    },
    {
     "name": "stdout",
     "output_type": "stream",
     "text": [
      "\n"
     ]
    },
    {
     "data": {
      "image/png": "[encoded data removed]",
      "text/plain": [
       "<Figure size 640x480 with 1 Axes>"
      ]
     },
     "metadata": {},
     "output_type": "display_data"
    }
   ],
   "source": [
    "plt.plot(np.linspace(0,100,len(arr)),np.log(arr))\n",
    "print(arr)\n",
    "plt.xlabel('Iterasjoner')\n",
    "plt.ylabel('Logaritmen av losset')\n",
    "plt.title('Plot av feil')\n",
    "plt.show()"
   ]
  }
 ],
 "metadata": {
  "kernelspec": {
   "display_name": "Python 3",
   "language": "python",
   "name": "python3"
  },
  "language_info": {
   "codemirror_mode": {
    "name": "ipython",
    "version": 3
   },
   "file_extension": ".py",
   "mimetype": "text/x-python",
   "name": "python",
   "nbconvert_exporter": "python",
   "pygments_lexer": "ipython3",
   "version": "3.11.5"
  }
 },
 "nbformat": 4,
 "nbformat_minor": 2
}
